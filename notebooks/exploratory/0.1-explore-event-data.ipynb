{
 "cells": [
  {
   "cell_type": "code",
   "execution_count": 1,
   "id": "6b832b0b-77f0-4234-a9be-c906c8f64f54",
   "metadata": {},
   "outputs": [],
   "source": [
    "# OPTIONAL: Load the \"autoreload\" extension so that code can change\n",
    "%load_ext autoreload"
   ]
  },
  {
   "cell_type": "code",
   "execution_count": 2,
   "id": "77ef154e-1607-4d8b-a0d3-f59c38e10bb8",
   "metadata": {},
   "outputs": [],
   "source": [
    "# OPTIONAL: always reload modules so that as you change code in src, it gets loaded\n",
    "%autoreload 2"
   ]
  },
  {
   "cell_type": "code",
   "execution_count": 105,
   "id": "4e7386c6-3bf7-46e7-8eb8-6dcc82127927",
   "metadata": {},
   "outputs": [],
   "source": [
    "import os\n",
    "import sys\n",
    "\n",
    "if os.path.abspath('../..') not in sys.path:\n",
    "    sys.path.append(os.path.abspath('../..'))"
   ]
  },
  {
   "cell_type": "code",
   "execution_count": 133,
   "id": "c421306c-cea2-48cf-a008-ea997cd5dd11",
   "metadata": {},
   "outputs": [],
   "source": [
    "import hashlib\n",
    "\n",
    "import numpy as np\n",
    "import pandas as pd\n",
    "\n",
    "from src.dataset import load_dataset"
   ]
  },
  {
   "cell_type": "code",
   "execution_count": 137,
   "id": "2aa560fa-6607-436f-98d9-7d3eb29a895d",
   "metadata": {},
   "outputs": [],
   "source": [
    "df = load_dataset()"
   ]
  },
  {
   "cell_type": "code",
   "execution_count": 142,
   "id": "0f574cc5-c649-4a25-96f2-7ce30b11e589",
   "metadata": {},
   "outputs": [
    {
     "data": {
      "text/plain": [
       "True     1489\n",
       "False    1483\n",
       "Name: participant, dtype: int64"
      ]
     },
     "execution_count": 142,
     "metadata": {},
     "output_type": "execute_result"
    }
   ],
   "source": [
    "df[['subject_id', 'participant']] \\\n",
    "    .drop_duplicates() \\\n",
    "    .reset_index(drop=False)['participant'] \\\n",
    "    .value_counts()"
   ]
  },
  {
   "cell_type": "code",
   "execution_count": null,
   "id": "096b63c8-9e61-4b4b-9dbe-5ec302ff85d0",
   "metadata": {},
   "outputs": [],
   "source": []
  }
 ],
 "metadata": {
  "kernelspec": {
   "display_name": "Python 3 (ipykernel)",
   "language": "python",
   "name": "python3"
  },
  "language_info": {
   "codemirror_mode": {
    "name": "ipython",
    "version": 3
   },
   "file_extension": ".py",
   "mimetype": "text/x-python",
   "name": "python",
   "nbconvert_exporter": "python",
   "pygments_lexer": "ipython3",
   "version": "3.9.7"
  }
 },
 "nbformat": 4,
 "nbformat_minor": 5
}
