{
 "cells": [
  {
   "cell_type": "code",
   "execution_count": 1,
   "id": "bf987a51-05b3-4a9c-8aac-8aa991bc2c06",
   "metadata": {},
   "outputs": [],
   "source": [
    "# OPTIONAL: Load the \"autoreload\" extension so that code can change\n",
    "%load_ext autoreload"
   ]
  },
  {
   "cell_type": "code",
   "execution_count": 2,
   "id": "5ae0d720-d6f5-477c-a315-88038ab7c168",
   "metadata": {},
   "outputs": [],
   "source": [
    "# OPTIONAL: always reload modules so that as you change code in src, it gets loaded\n",
    "%autoreload 2"
   ]
  },
  {
   "cell_type": "code",
   "execution_count": 3,
   "id": "21d9f198-39dc-46f6-8e3f-b77f129a355f",
   "metadata": {},
   "outputs": [],
   "source": [
    "import os\n",
    "import sys\n",
    "\n",
    "if os.path.abspath('../..') not in sys.path:\n",
    "    sys.path.append(os.path.abspath('../..'))"
   ]
  },
  {
   "cell_type": "code",
   "execution_count": 5,
   "id": "f1bb8405-e486-4383-a29b-04a41abb5fa1",
   "metadata": {},
   "outputs": [],
   "source": [
    "from gensim.models import AuthorTopicModel as _AuthorTopicModel\n",
    "from gensim.corpora import mmcorpus\n",
    "from gensim.test.utils import common_dictionary, datapath, temporary_file"
   ]
  },
  {
   "cell_type": "code",
   "execution_count": 6,
   "id": "9f9bbbe7-98d4-406e-b38a-e633b27741b8",
   "metadata": {},
   "outputs": [],
   "source": [
    "author2doc = {\n",
    "    'john': [0, 1, 2, 3, 4, 5, 6],\n",
    "    'jane': [2, 3, 4, 5, 6, 7, 8],\n",
    "    'jack': [0, 2, 4, 6, 8]\n",
    "}"
   ]
  },
  {
   "cell_type": "code",
   "execution_count": 7,
   "id": "6f39777c-c617-4987-8fc6-6f7d1e13fbe5",
   "metadata": {},
   "outputs": [],
   "source": [
    "corpus = mmcorpus.MmCorpus(datapath('testcorpus.mm'))"
   ]
  },
  {
   "cell_type": "code",
   "execution_count": 9,
   "id": "323465ba-c909-4811-af83-6941c8bde09e",
   "metadata": {},
   "outputs": [],
   "source": [
    "with temporary_file('serialized') as s_path:\n",
    "    model = _AuthorTopicModel(\n",
    "        corpus,\n",
    "        author2doc=author2doc, \n",
    "        id2word=common_dictionary, \n",
    "        num_topics=4,\n",
    "        serialized=True, \n",
    "        serialization_path=s_path,\n",
    "    )\n",
    "    model.update(corpus, author2doc) "
   ]
  },
  {
   "cell_type": "code",
   "execution_count": 12,
   "id": "8692399a-bb0b-49da-a3c4-5624a8e62fcc",
   "metadata": {},
   "outputs": [
    {
     "data": {
      "text/plain": [
       "[[(0, 0.926086215042209),\n",
       "  (1, 0.023267036665171385),\n",
       "  (2, 0.027386630351082478),\n",
       "  (3, 0.023260117941537133)],\n",
       " [(2, 0.9743649945325148)],\n",
       " [(0, 0.8998490763068225),\n",
       "  (1, 0.03127600346051311),\n",
       "  (2, 0.037587724269498475),\n",
       "  (3, 0.03128719596316575)]]"
      ]
     },
     "execution_count": 12,
     "metadata": {},
     "output_type": "execute_result"
    }
   ],
   "source": [
    "author_vecs = [model.get_author_topics(author) for author in model.id2author.values()]\n",
    "\n",
    "author_vecs"
   ]
  },
  {
   "cell_type": "code",
   "execution_count": 11,
   "id": "e0476eef-d6f4-4298-9abb-efc2955a694e",
   "metadata": {},
   "outputs": [
    {
     "data": {
      "text/plain": [
       "[[(0, 0.926086215042209),\n",
       "  (1, 0.023267036665171385),\n",
       "  (2, 0.027386630351082478),\n",
       "  (3, 0.023260117941537133)],\n",
       " [(2, 0.9743649945325148)],\n",
       " [(0, 0.8998490763068225),\n",
       "  (1, 0.03127600346051311),\n",
       "  (2, 0.037587724269498475),\n",
       "  (3, 0.03128719596316575)]]"
      ]
     },
     "execution_count": 11,
     "metadata": {},
     "output_type": "execute_result"
    }
   ],
   "source": [
    "gensim.matutils.Sparse2Corpus"
   ]
  },
  {
   "cell_type": "code",
   "execution_count": 16,
   "id": "f870ab1e-0eff-4e3a-ba1e-25f35e04878e",
   "metadata": {},
   "outputs": [
    {
     "data": {
      "text/plain": [
       "[['human', 'interface', 'computer'],\n",
       " ['survey', 'user', 'computer', 'system', 'response', 'time'],\n",
       " ['eps', 'user', 'interface', 'system'],\n",
       " ['system', 'human', 'system', 'eps'],\n",
       " ['user', 'response', 'time'],\n",
       " ['trees'],\n",
       " ['graph', 'trees'],\n",
       " ['graph', 'minors', 'trees'],\n",
       " ['graph', 'minors', 'survey']]"
      ]
     },
     "execution_count": 16,
     "metadata": {},
     "output_type": "execute_result"
    }
   ],
   "source": [
    "from gensim.test.utils import common_texts\n",
    "from gensim.corpora.dictionary import Dictionary\n",
    "from gensim.models.ldamodel import LdaModel as _LdaModel\n",
    "\n",
    "common_texts"
   ]
  },
  {
   "cell_type": "code",
   "execution_count": 17,
   "id": "cfe76519-3eef-4664-8f82-7121ecb941f4",
   "metadata": {},
   "outputs": [],
   "source": [
    "# Create a corpus from a list of texts\n",
    "common_dictionary = Dictionary(common_texts)\n",
    "common_corpus = [common_dictionary.doc2bow(text) for text in common_texts]"
   ]
  },
  {
   "cell_type": "code",
   "execution_count": 18,
   "id": "4011453a-74a1-4f37-9744-9c6042d0f46b",
   "metadata": {},
   "outputs": [],
   "source": [
    "# Train the model on the corpus.\n",
    "lda = _LdaModel(common_corpus, num_topics=10)"
   ]
  },
  {
   "cell_type": "code",
   "execution_count": 19,
   "id": "b058d37e-0c5a-4bcb-bf05-199d56078c09",
   "metadata": {},
   "outputs": [],
   "source": [
    "from gensim.test.utils import datapath\n",
    "\n",
    "# Save model to disk.\n",
    "temp_file = datapath('saved_model')\n",
    "lda.save(temp_file)"
   ]
  },
  {
   "cell_type": "code",
   "execution_count": 20,
   "id": "caa64e2b-c0a5-412f-8377-1a420aee67b0",
   "metadata": {},
   "outputs": [],
   "source": [
    "# Load a potentially pretrained model from disk.\n",
    "lda = LdaModel.load(temp_file)"
   ]
  },
  {
   "cell_type": "code",
   "execution_count": null,
   "id": "8136e239-c8a2-47b4-8929-11b333c3d088",
   "metadata": {},
   "outputs": [],
   "source": []
  }
 ],
 "metadata": {
  "kernelspec": {
   "display_name": "Python 3 (ipykernel)",
   "language": "python",
   "name": "python3"
  },
  "language_info": {
   "codemirror_mode": {
    "name": "ipython",
    "version": 3
   },
   "file_extension": ".py",
   "mimetype": "text/x-python",
   "name": "python",
   "nbconvert_exporter": "python",
   "pygments_lexer": "ipython3",
   "version": "3.9.7"
  }
 },
 "nbformat": 4,
 "nbformat_minor": 5
}
