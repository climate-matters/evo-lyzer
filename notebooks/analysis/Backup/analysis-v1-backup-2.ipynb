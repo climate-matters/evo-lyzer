{
 "cells": [
  {
   "cell_type": "code",
   "execution_count": 21,
   "id": "d0a11713-c439-4954-9e20-bf1bdbae4d27",
   "metadata": {},
   "outputs": [],
   "source": [
    "import os\n",
    "import sys\n",
    "\n",
    "if os.path.abspath('../..') not in sys.path:\n",
    "    sys.path.append(os.path.abspath('../..'))\n",
    "    \n",
    "import json\n",
    "import shutil\n",
    "import datetime\n",
    "\n",
    "from dateutil.relativedelta import relativedelta\n",
    "import tqdm\n",
    "\n",
    "import scipy\n",
    "import scipy.stats as st\n",
    "from scipy.spatial import distance\n",
    "from scipy.stats import mannwhitneyu\n",
    "\n",
    "import numpy as np\n",
    "import pandas as pd\n",
    "\n",
    "from sqlalchemy.orm.exc import NoResultFound\n",
    "\n",
    "from src.corpus import load_tweets\n",
    "from src.dataset import load_dataset \n",
    "from src.config import config\n",
    "from src.utils.backup import FileBackup\n",
    "from src.dashboard.models import db, Collection, CollectionTopicProba, Document, TopicModelLoader, Topic, Subject\n",
    "from src.dashboard.app import app\n",
    "\n",
    "import matplotlib.pyplot as plt\n",
    "import seaborn as sns\n",
    "\n",
    "sns.set_theme(style='darkgrid')"
   ]
  },
  {
   "cell_type": "code",
   "execution_count": 22,
   "id": "e5b92753-089e-4797-9487-3c4e093fd990",
   "metadata": {},
   "outputs": [],
   "source": [
    "POSITIONS_MAP = {\n",
    "    'Meteorologist': 'Meteorologist',\n",
    "    'Reporter': 'Reporter',\n",
    "    'Producer': 'Reporter',\n",
    "    'Journalist': 'Reporter',\n",
    "    'Editor': 'Reporter',\n",
    "    'Other': 'Other',\n",
    "    'Student': 'Other',\n",
    "    'Academic': 'Other',\n",
    "    'Met Producer': 'Meteorologist',\n",
    "    'News Director': 'Reporter',\n",
    "    'Vice President': 'Reporter', \n",
    "    'Photographer': 'Reporter'\n",
    "}"
   ]
  },
  {
   "cell_type": "code",
   "execution_count": 23,
   "id": "8434be9f-c737-468d-8ad6-ebb05d240c88",
   "metadata": {},
   "outputs": [
    {
     "name": "stderr",
     "output_type": "stream",
     "text": [
      "Collecting Collection Probabilities: 100%|███████████████████████████████████████████████████████████████████████████████████████████| 63215/63215 [03:42<00:00, 283.54it/s]\n"
     ]
    }
   ],
   "source": [
    "with app.app_context():\n",
    "    model_loader = None\n",
    "    for model_loader in TopicModelLoader.query.all():\n",
    "        if (model_loader.model.num_epochs, model_loader.model.num_topics) == (1, 6):\n",
    "            break\n",
    "    cs = Collection.query.all()\n",
    "    data, tuples = [], []\n",
    "    for c in tqdm.tqdm(cs, desc='Collecting Collection Probabilities'):\n",
    "        topics = c.get_topic_dist(model_loader)\n",
    "        proba_sum = 0\n",
    "        for t in topics:\n",
    "            proba_sum += t.proba\n",
    "        if c.subject is None:\n",
    "            continue\n",
    "        event_id = 'None'\n",
    "        event_type = 'None'\n",
    "        if c.event:\n",
    "            event_id = c.event.id\n",
    "            event_type = c.event.event_type\n",
    "        groups = c.group.split('-')\n",
    "        index = 0\n",
    "        try:\n",
    "            index = int(groups[-1])\n",
    "            group = '-'.join(groups[:-1])\n",
    "        except ValueError as ex:\n",
    "            group = '-'.join(groups)\n",
    "        tuples += [(c.id, c.type, group, index, c.subject_id, event_id, event_type, c.subject.position)]\n",
    "        data.append({topic_proba.topic.label: topic_proba.proba for i, topic_proba in enumerate(topics)})\n",
    "    index = pd.MultiIndex.from_tuples(tuples, names=['id', 'type', 'group', 'index', 'subject_id', \n",
    "                                                     'event_id', 'event_type', 'position'])\n",
    "    df = pd.DataFrame.from_records(data)\n",
    "    df.index = index\n",
    "    relevant_topics = Topic.query.filter(\n",
    "        Topic.topic_model_loader_id == model_loader.id,\n",
    "        Topic.is_relevant.is_(True),\n",
    "    ).all()"
   ]
  },
  {
   "cell_type": "code",
   "execution_count": 127,
   "id": "4431f457-d593-4906-994e-07764488f76b",
   "metadata": {},
   "outputs": [
    {
     "name": "stdout",
     "output_type": "stream",
     "text": [
      "\\begin{tabular}{llr}\n",
      "\\toprule\n",
      "         & Position &  Meteorologist \\\\\n",
      "Event Type & group &                \\\\\n",
      "\\midrule\n",
      "Join & After &            734 \\\\\n",
      "         & Before &            734 \\\\\n",
      "Workshop & After &             24 \\\\\n",
      "         & Before &             24 \\\\\n",
      "\\bottomrule\n",
      "\\end{tabular}\n",
      "\n"
     ]
    },
    {
     "name": "stderr",
     "output_type": "stream",
     "text": [
      "/var/folders/j6/3yj400mn1k1c_5czn3j_1mm00000gp/T/ipykernel_20084/1749468363.py:10: FutureWarning: In future versions `DataFrame.to_latex` is expected to utilise the base implementation of `Styler.to_latex` for formatting and rendering. The arguments signature may therefore change. It is recommended instead to use `DataFrame.style.to_latex` which also contains additional functionality.\n",
      "  print(meta_1_df.to_latex())\n"
     ]
    },
    {
     "data": {
      "text/html": [
       "<div>\n",
       "<style scoped>\n",
       "    .dataframe tbody tr th:only-of-type {\n",
       "        vertical-align: middle;\n",
       "    }\n",
       "\n",
       "    .dataframe tbody tr th {\n",
       "        vertical-align: top;\n",
       "    }\n",
       "\n",
       "    .dataframe thead th {\n",
       "        text-align: right;\n",
       "    }\n",
       "</style>\n",
       "<table border=\"1\" class=\"dataframe\">\n",
       "  <thead>\n",
       "    <tr style=\"text-align: right;\">\n",
       "      <th></th>\n",
       "      <th>Position</th>\n",
       "      <th>Meteorologist</th>\n",
       "    </tr>\n",
       "    <tr>\n",
       "      <th>Event Type</th>\n",
       "      <th>group</th>\n",
       "      <th></th>\n",
       "    </tr>\n",
       "  </thead>\n",
       "  <tbody>\n",
       "    <tr>\n",
       "      <th rowspan=\"2\" valign=\"top\">Join</th>\n",
       "      <th>After</th>\n",
       "      <td>734</td>\n",
       "    </tr>\n",
       "    <tr>\n",
       "      <th>Before</th>\n",
       "      <td>734</td>\n",
       "    </tr>\n",
       "    <tr>\n",
       "      <th rowspan=\"2\" valign=\"top\">Workshop</th>\n",
       "      <th>After</th>\n",
       "      <td>24</td>\n",
       "    </tr>\n",
       "    <tr>\n",
       "      <th>Before</th>\n",
       "      <td>24</td>\n",
       "    </tr>\n",
       "  </tbody>\n",
       "</table>\n",
       "</div>"
      ],
      "text/plain": [
       "Position           Meteorologist\n",
       "Event Type group                \n",
       "Join       After             734\n",
       "           Before            734\n",
       "Workshop   After              24\n",
       "           Before             24"
      ]
     },
     "execution_count": 127,
     "metadata": {},
     "output_type": "execute_result"
    }
   ],
   "source": [
    "meta_df = df.index.to_frame().reset_index(drop=True)[['group', 'event_type', 'position', 'subject_id', 'event_id']].drop_duplicates()\n",
    "\n",
    "meta_df['Event Type'] = meta_df['event_type'].map({'Joined': 'Join', 'Workshop': 'Workshop'})\n",
    "meta_df = meta_df.assign(Position=meta_df['position'].map(POSITIONS_MAP))\n",
    "\n",
    "meta_df = meta_df[meta_df['Position'] == 'Meteorologist']\n",
    "\n",
    "meta_1_df = meta_df.pivot_table(index=['Event Type', 'group'], columns=['Position'], values='subject_id', aggfunc='count')\n",
    "\n",
    "print(meta_1_df.to_latex())\n",
    "\n",
    "meta_1_df"
   ]
  },
  {
   "cell_type": "code",
   "execution_count": 128,
   "id": "f6c142ae-ff72-4837-a0d0-3f1139ef5f19",
   "metadata": {},
   "outputs": [
    {
     "name": "stdout",
     "output_type": "stream",
     "text": [
      "\\begin{tabular}{lr}\n",
      "\\toprule\n",
      "Position &  Meteorologist \\\\\n",
      "group           &                \\\\\n",
      "\\midrule\n",
      "After           &            758 \\\\\n",
      "Before          &            758 \\\\\n",
      "Non-Participant &            463 \\\\\n",
      "Participant     &            813 \\\\\n",
      "\\bottomrule\n",
      "\\end{tabular}\n",
      "\n"
     ]
    },
    {
     "name": "stderr",
     "output_type": "stream",
     "text": [
      "/var/folders/j6/3yj400mn1k1c_5czn3j_1mm00000gp/T/ipykernel_20084/1318066692.py:10: FutureWarning: In future versions `DataFrame.to_latex` is expected to utilise the base implementation of `Styler.to_latex` for formatting and rendering. The arguments signature may therefore change. It is recommended instead to use `DataFrame.style.to_latex` which also contains additional functionality.\n",
      "  print(meta_1_df.to_latex())\n"
     ]
    },
    {
     "data": {
      "text/html": [
       "<div>\n",
       "<style scoped>\n",
       "    .dataframe tbody tr th:only-of-type {\n",
       "        vertical-align: middle;\n",
       "    }\n",
       "\n",
       "    .dataframe tbody tr th {\n",
       "        vertical-align: top;\n",
       "    }\n",
       "\n",
       "    .dataframe thead th {\n",
       "        text-align: right;\n",
       "    }\n",
       "</style>\n",
       "<table border=\"1\" class=\"dataframe\">\n",
       "  <thead>\n",
       "    <tr style=\"text-align: right;\">\n",
       "      <th>Position</th>\n",
       "      <th>Meteorologist</th>\n",
       "    </tr>\n",
       "    <tr>\n",
       "      <th>group</th>\n",
       "      <th></th>\n",
       "    </tr>\n",
       "  </thead>\n",
       "  <tbody>\n",
       "    <tr>\n",
       "      <th>After</th>\n",
       "      <td>758</td>\n",
       "    </tr>\n",
       "    <tr>\n",
       "      <th>Before</th>\n",
       "      <td>758</td>\n",
       "    </tr>\n",
       "    <tr>\n",
       "      <th>Non-Participant</th>\n",
       "      <td>463</td>\n",
       "    </tr>\n",
       "    <tr>\n",
       "      <th>Participant</th>\n",
       "      <td>813</td>\n",
       "    </tr>\n",
       "  </tbody>\n",
       "</table>\n",
       "</div>"
      ],
      "text/plain": [
       "Position         Meteorologist\n",
       "group                         \n",
       "After                      758\n",
       "Before                     758\n",
       "Non-Participant            463\n",
       "Participant                813"
      ]
     },
     "execution_count": 128,
     "metadata": {},
     "output_type": "execute_result"
    }
   ],
   "source": [
    "meta_df = df.index.to_frame().reset_index(drop=True)[['group', 'event_type', 'position', 'subject_id', 'event_id']].drop_duplicates()\n",
    "\n",
    "meta_df['Event Type'] = meta_df['event_type'].map({'Joined': 'Join', 'Workshop': 'Workshop'})\n",
    "meta_df = meta_df.assign(Position=meta_df['position'].map(POSITIONS_MAP))\n",
    "\n",
    "meta_df = meta_df[meta_df['Position'] == 'Meteorologist']\n",
    "\n",
    "meta_1_df = meta_df.pivot_table(index=['group'], columns=['Position'], values='subject_id', aggfunc='count')\n",
    "\n",
    "print(meta_1_df.to_latex())\n",
    "\n",
    "meta_1_df"
   ]
  },
  {
   "cell_type": "code",
   "execution_count": 54,
   "id": "2827f84f-56f3-4768-970f-d8d636ca1a23",
   "metadata": {},
   "outputs": [],
   "source": [
    "relevant_topics_cols = ['Topic 1 - Emissions/Gas', 'Topic 2 - Energy/Cliamate/Oil/Gas']"
   ]
  },
  {
   "cell_type": "code",
   "execution_count": 55,
   "id": "4aab95c9-aa47-414c-9f79-32e1154f7afa",
   "metadata": {},
   "outputs": [],
   "source": [
    "def index_filter(df, **kwargs):\n",
    "    filters = None\n",
    "    for key, value in kwargs.items():\n",
    "        item_filter = df.index.get_level_values(key) == value\n",
    "        if filters is None:\n",
    "            filters = item_filter\n",
    "        else:\n",
    "            filters = filters & item_filter\n",
    "    return filters"
   ]
  },
  {
   "cell_type": "code",
   "execution_count": 56,
   "id": "a8ae8b33-7c2b-4ee1-a397-2dcdb5bdafcc",
   "metadata": {},
   "outputs": [],
   "source": [
    "def get_best_distribution(data):\n",
    "    \"\"\"Gets best fit distribution by performing ks-test.\n",
    "    \n",
    "    source-code from: https://stackoverflow.com/a/51742444/4301023\n",
    "    \"\"\"\n",
    "    dist_names = [\"norm\", \"exponweib\", \"weibull_max\", \"weibull_min\", \"pareto\", \"genextreme\"]\n",
    "    dist_results = []\n",
    "    params = {}\n",
    "    for dist_name in dist_names:\n",
    "        dist = getattr(st, dist_name)\n",
    "        param = dist.fit(data)\n",
    "        params[dist_name] = param\n",
    "        # Applying the Kolmogorov-Smirnov test\n",
    "        D, p = st.kstest(data, dist_name, args=param)\n",
    "        print(\"p value for \"+dist_name+\" = \"+str(p))\n",
    "        dist_results.append((dist_name, p))\n",
    "    # select the best fitted distribution\n",
    "    best_dist, best_p = (max(dist_results, key=lambda item: item[1]))\n",
    "    # store the name of the best fit and its p value\n",
    "    print(\"Best fitting distribution: \"+str(best_dist))\n",
    "    print(\"Best p value: \"+ str(best_p))\n",
    "    print(\"Parameters for the best fit: \"+ str(params[best_dist]))\n",
    "    return best_dist, best_p, params[best_dist]"
   ]
  },
  {
   "cell_type": "code",
   "execution_count": 69,
   "id": "e86525b0-f6ac-471b-ac58-e4273cb42784",
   "metadata": {},
   "outputs": [
    {
     "name": "stdout",
     "output_type": "stream",
     "text": [
      "1516\n",
      "299479.5 1.453710908532369e-05\n",
      "0.0 0.0\n",
      "279.0 0.5822382388337067\n",
      "0.006037583177790849 0.029758522209431808\n",
      "318139.5 2.317265302310644e-05\n",
      "0.0 0.0\n"
     ]
    }
   ],
   "source": [
    "data_df = df[index_filter(df, type='intra-subject')] \\\n",
    "        .loc[:, relevant_topics_cols] \\\n",
    "        .sum(axis=1) \\\n",
    "        .reset_index(drop=False, name='Topic Relevance')\n",
    "\n",
    "data_df['Event Type'] = data_df['event_type'].map({'Joined': 'Join', 'Workshop': 'Workshop'})\n",
    "data_df = data_df.assign(Position=data_df['position'].map(POSITIONS_MAP))\n",
    "\n",
    "# data_df = data_df[data_df['Position'] != 'Other']\n",
    "data_df = data_df[data_df['Position'] == 'Meteorologist']\n",
    "\n",
    "num_0 = len(data_df)\n",
    "\n",
    "print(num_0)\n",
    "\n",
    "# no_one_df = (data_df.groupby(['subject_id', 'event_id'])['group'].count() == 2).reset_index()\n",
    "\n",
    "# data_df = data_df.merge(no_one_df, on=['subject_id', 'event_id'], suffixes=('', '_y'))\n",
    "\n",
    "assert num_0 == len(data_df)\n",
    "\n",
    "# print(data_df.group_y.value_counts())\n",
    "\n",
    "# data_df = data_df[data_df.group_y].drop('group_y', axis=1)\n",
    "\n",
    "for event_type in data_df['Event Type'].unique():\n",
    "    before_s = data_df[(data_df['Event Type'] == event_type) & (data_df['group'] == 'Before')]['Topic Relevance']\n",
    "    after_s = data_df[(data_df['Event Type'] == event_type) & (data_df['group'] == 'After')]['Topic Relevance']\n",
    "    U1, p = mannwhitneyu(after_s, before_s, alternative='greater')\n",
    "    print(U1, p)\n",
    "    print(before_s.median(), after_s.median())\n",
    "    \n",
    "\n",
    "before_s = data_df[data_df['group'] == 'Before']['Topic Relevance']\n",
    "after_s = data_df[data_df['group'] == 'After']['Topic Relevance']\n",
    "U1, p = mannwhitneyu(after_s, before_s, alternative='greater')\n",
    "print(U1, p)\n",
    "print(before_s.median(), after_s.median())"
   ]
  },
  {
   "cell_type": "code",
   "execution_count": 161,
   "id": "abba11de-9cd7-4b6e-b3c1-d78c52fb4165",
   "metadata": {},
   "outputs": [
    {
     "data": {
      "text/plain": [
       "Event Type  Position     \n",
       "Join        Meteorologist    732\n",
       "Workshop    Meteorologist     24\n",
       "All                          738\n",
       "Name: (subject_id, All), dtype: int64"
      ]
     },
     "execution_count": 161,
     "metadata": {},
     "output_type": "execute_result"
    }
   ],
   "source": [
    "data_df = df[index_filter(df, type='intra-subject')] \\\n",
    "        .loc[:, relevant_topics_cols] \\\n",
    "        .sum(axis=1) \\\n",
    "        .reset_index(drop=False, name='Topic Relevance')\n",
    "\n",
    "data_df['Event Type'] = data_df['event_type'].map({'Joined': 'Join', 'Workshop': 'Workshop'})\n",
    "data_df = data_df.assign(Position=data_df['position'].map(POSITIONS_MAP))\n",
    "\n",
    "data_df = data_df[data_df['Position'] == 'Meteorologist']\n",
    "\n",
    "no_one_df = (data_df.groupby(['subject_id', 'event_id'])['group'].count() == 2).reset_index()\n",
    "\n",
    "data_df = data_df.merge(no_one_df, on=['subject_id', 'event_id'], suffixes=('', '_y'))\n",
    "\n",
    "data_df = data_df[data_df.group_y].drop('group_y', axis=1)\n",
    "\n",
    "columns = [('Topic Relevance', 'Before'), ('Topic Relevance', 'After')]\n",
    "\n",
    "count_df = data_df.pivot_table(index=['Event Type', 'Position'], columns=['group'], values=['subject_id'], aggfunc=lambda x: len(x.unique()), margins=2)[('subject_id', 'All')]\n",
    "pivot_df = data_df.pivot_table(index=['Event Type', 'Position'], columns=['group'], values=['Topic Relevance'], aggfunc='mean', margins=2)[columns]\n",
    "\n",
    "pivot_df['\\\\Delta'] = (pivot_df[('Topic Relevance', 'After')] - pivot_df[('Topic Relevance', 'Before')]) * 100 / pivot_df[('Topic Relevance', 'Before')]\n",
    "\n",
    "pivot_df = pivot_df.applymap(\"{0:.2f}\".format)\n",
    "\n",
    "pivot_df['Support'] = count_df.sum(axis=1)\n",
    "\n",
    "print(pivot_df.to_latex())\n",
    "\n",
    "count_df\n"
   ]
  },
  {
   "cell_type": "code",
   "execution_count": 111,
   "id": "657c8fc1-5578-450d-8f27-1066dc5406d8",
   "metadata": {},
   "outputs": [
    {
     "name": "stdout",
     "output_type": "stream",
     "text": [
      "Participant        1368\n",
      "Non-Participant     463\n",
      "Name: Group, dtype: int64\n",
      "346476.0 0.0011825581253292175\n",
      "0.1409792519770531 0.1602243973859554\n"
     ]
    },
    {
     "data": {
      "image/png": "[encoded data removed]",
      "text/plain": [
       "<Figure size 360x360 with 1 Axes>"
      ]
     },
     "metadata": {},
     "output_type": "display_data"
    }
   ],
   "source": [
    "fig_df = df[index_filter(df, type='inter-subject')] \\\n",
    "        .loc[:, relevant_topics_cols] \\\n",
    "        .sum(axis=1) \\\n",
    "        .reset_index(drop=False, name='Topic Relevance')\n",
    "\n",
    "fig_df = fig_df.assign(Group=fig_df['group'])\n",
    "fig_df = fig_df.assign(Position=fig_df['position'].map(POSITIONS_MAP))\n",
    "\n",
    "fig_df = fig_df[fig_df['event_type'] == 'None']\n",
    "fig_df = fig_df[fig_df['Position'] == 'Meteorologist']\n",
    "\n",
    "print(fig_df['Group'].value_counts())\n",
    "\n",
    "fig, ax = plt.subplots(ncols=1, figsize=(5, 5))\n",
    "\n",
    "sns.histplot(fig_df, x='Topic Relevance', hue='Group', bins=20, stat='density', kde=True, common_norm=False, ax=ax)\n",
    "ax.set_xlabel(xlabel='Topic Relevance')\n",
    "\n",
    "fig.tight_layout()\n",
    "# plt.show()\n",
    "\n",
    "plt.savefig('inter-subject-topic-relevance.png', bbox_inches='tight')\n",
    "\n",
    "participant_s = fig_df[fig_df['Group'] == 'Participant']['Topic Relevance']\n",
    "non_participant_s = fig_df[fig_df['Group'] == 'Non-Participant']['Topic Relevance']\n",
    "\n",
    "U1, p = mannwhitneyu(participant_s, non_participant_s, alternative='greater')\n",
    "print(U1, p)\n",
    "print(non_participant_s.mean(), participant_s.mean())"
   ]
  },
  {
   "cell_type": "code",
   "execution_count": 77,
   "id": "8af0a87c-1bf2-4fe9-b78c-aae8cb999535",
   "metadata": {},
   "outputs": [
    {
     "data": {
      "image/png": "[encoded data removed]",
      "text/plain": [
       "<Figure size 1080x360 with 3 Axes>"
      ]
     },
     "metadata": {},
     "output_type": "display_data"
    }
   ],
   "source": [
    "fig_df = df[index_filter(df, type='intra-subject')][relevant_topics_cols] \\\n",
    "        .sum(axis=1) \\\n",
    "        .reset_index(drop=False, name='Topic Relevance')\n",
    "\n",
    "fig_df = fig_df.assign(Group=fig_df['group'])\n",
    "fig_df['EventType'] = fig_df['event_type']\n",
    "fig_df = fig_df.assign(Position=fig_df['position'].map(POSITIONS_MAP))\n",
    "\n",
    "fig, axs = plt.subplots(ncols=3, nrows=1, figsize=(15, 5))\n",
    "\n",
    "sub_fig_df = fig_df[(fig_df['Position'] == 'Meteorologist') & (fig_df['EventType'] == 'Joined')]\n",
    "sns.histplot(sub_fig_df, x='Topic Relevance', bins=20, hue='Group', stat='density', kde=True, common_norm=False, ax=axs[0])\n",
    "axs[0].set_xlabel(xlabel='Topic Relevance - Meteorologist, Join')\n",
    "\n",
    "sub_fig_df = fig_df[(fig_df['Position'] == 'Meteorologist') & (fig_df['EventType'] == 'Workshop')]\n",
    "sns.histplot(sub_fig_df, x='Topic Relevance', bins=20, hue='Group', stat='density', kde=True, common_norm=False, ax=axs[1])\n",
    "axs[1].set_xlabel(xlabel='Topic Relevance - Meteorologist, Workshop')\n",
    "\n",
    "sub_fig_df = fig_df[(fig_df['Position'] == 'Meteorologist')]\n",
    "sns.histplot(sub_fig_df, x='Topic Relevance', bins=20, hue='Group', stat='density', kde=True, common_norm=False, ax=axs[2])\n",
    "axs[2].set_xlabel(xlabel='Topic Relevance - Meteorologist, All Events')\n",
    "\n",
    "fig.tight_layout()\n",
    "\n",
    "# plt.show()\n",
    "\n",
    "plt.savefig('intra-subject-topic-relevance.png', bbox_inches='tight')"
   ]
  },
  {
   "cell_type": "code",
   "execution_count": 124,
   "id": "4e2f90f0-e3aa-4974-8ba9-6bcd2351f854",
   "metadata": {},
   "outputs": [
    {
     "name": "stdout",
     "output_type": "stream",
     "text": [
      "60560.5 0.13463859557605873\n",
      "145293.0 0.9481694844954386\n",
      "1.0895735595789926 1.1659402462051434\n"
     ]
    },
    {
     "data": {
      "image/png": "[encoded data removed]",
      "text/plain": [
       "<Figure size 1080x360 with 2 Axes>"
      ]
     },
     "metadata": {},
     "output_type": "display_data"
    }
   ],
   "source": [
    "fig, axs = plt.subplots(ncols=2, figsize=(15, 5))\n",
    "\n",
    "data_df = df[index_filter(df, type='intra-subject-consistency')] \\\n",
    "        .loc[:, relevant_topics_cols].sum(axis=1) \\\n",
    "        .reset_index(name='proba') \\\n",
    "        .pivot_table(\n",
    "            index=['type', 'group', 'subject_id', 'event_id', 'event_type', 'position'], \n",
    "            columns=['index'], \n",
    "            values='proba',\n",
    "        ) \\\n",
    "        .dropna()\n",
    "\n",
    "data_df = data_df[data_df.std(axis=1) != 0]\n",
    "\n",
    "consistency_df = data_df.mean(axis=1) / data_df.std(axis=1)\n",
    "\n",
    "sub_fig_df = consistency_df.reset_index(drop=False, name='Consistency')\n",
    "sub_fig_df['Group'] = sub_fig_df['group']\n",
    "\n",
    "sub_fig_df = sub_fig_df.assign(Position=sub_fig_df['position'].map(POSITIONS_MAP))\n",
    "sub_fig_df = sub_fig_df[sub_fig_df['Position'] == 'Meteorologist']\n",
    "\n",
    "sns.histplot(sub_fig_df, x='Consistency', bins=20, hue='Group', stat='density', kde=True, common_norm=False, ax=axs[0],\n",
    "                hue_order=['After', 'Before'])\n",
    "axs[0].set_xlabel(xlabel='Consistency (Intra-Subject)')\n",
    "\n",
    "after_s = sub_fig_df[sub_fig_df['Group']=='After']['Consistency']\n",
    "axs[0].axvline(x=after_s.mean(), color='blue', ls='--', lw=2.5)\n",
    "\n",
    "before_s = sub_fig_df[sub_fig_df['Group']=='Before']['Consistency']\n",
    "axs[0].axvline(x=before_s.mean(), color='orange', ls='--', lw=2.5)\n",
    "\n",
    "U1, p = mannwhitneyu(after_s, before_s, alternative='greater')\n",
    "print(U1, p)\n",
    "\n",
    "# \n",
    "\n",
    "data_df = df[index_filter(df, type='inter-subject-consistency')] \\\n",
    "        .loc[:, relevant_topics_cols].sum(axis=1) \\\n",
    "        .reset_index(name='proba') \\\n",
    "        .pivot_table(\n",
    "            index=['type', 'group', 'subject_id', 'event_id', 'event_type', 'position'], \n",
    "            columns=['index'], \n",
    "            values='proba',\n",
    "        ) \\\n",
    "        .dropna()\n",
    "\n",
    "data_df = data_df[data_df.std(axis=1) != 0]\n",
    "\n",
    "consistency_df = data_df.mean(axis=1) / data_df.std(axis=1)\n",
    "\n",
    "sub_fig_df = consistency_df.reset_index(drop=False, name='Consistency')\n",
    "sub_fig_df['Group'] = sub_fig_df['group']\n",
    "\n",
    "sub_fig_df = sub_fig_df.assign(Position=sub_fig_df['position'].map(POSITIONS_MAP))\n",
    "sub_fig_df = sub_fig_df[sub_fig_df['Position'] == 'Meteorologist']\n",
    "\n",
    "sns.histplot(sub_fig_df, x='Consistency', bins=20, hue='Group', stat='density', kde=True, common_norm=False, ax=axs[1],\n",
    "                hue_order=['Participant', 'Non-Participant'])\n",
    "axs[1].set_xlabel(xlabel='Consistency (Inter-Subject)')\n",
    "\n",
    "non_participant_s = sub_fig_df[sub_fig_df['Group']=='Non-Participant']['Consistency']\n",
    "axs[1].axvline(x=non_participant_s.mean(), \n",
    "               color='orange', ls='--', lw=2.5)\n",
    "\n",
    "participant_s = sub_fig_df[sub_fig_df['Group']=='Participant']['Consistency']\n",
    "axs[1].axvline(x=participant_s.mean(), \n",
    "               color='blue', ls='--', lw=2.5)\n",
    "\n",
    "U1, p = mannwhitneyu(participant_s, non_participant_s, alternative='greater')\n",
    "print(U1, p)\n",
    "print(participant_s.mean(), non_participant_s.mean())\n",
    "\n",
    "fig.tight_layout()\n",
    "plt.savefig('consistency.png', bbox_inches='tight')"
   ]
  },
  {
   "cell_type": "code",
   "execution_count": 110,
   "id": "0c0df74b-ad3b-457c-8f21-843a3c9a4efb",
   "metadata": {},
   "outputs": [
    {
     "name": "stdout",
     "output_type": "stream",
     "text": [
      "\\begin{tabular}{llllr}\n",
      "\\toprule\n",
      "{} & \\multicolumn{2}{l}{Consistency} & \\textbackslash Delta & Support \\\\\n",
      "group &       After & \\multicolumn{3}{l}{Before} \\\\\n",
      "Event Type &             &        &        &         \\\\\n",
      "\\midrule\n",
      "Join       &        1.16 &   1.23 &   5.53 &    1318 \\\\\n",
      "Workshop   &        1.04 &   1.12 &   6.56 &      54 \\\\\n",
      "All        &        1.15 &   1.22 &   5.55 &    1372 \\\\\n",
      "\\bottomrule\n",
      "\\end{tabular}\n",
      "\n"
     ]
    },
    {
     "name": "stderr",
     "output_type": "stream",
     "text": [
      "/var/folders/j6/3yj400mn1k1c_5czn3j_1mm00000gp/T/ipykernel_20084/1989065744.py:34: FutureWarning: In future versions `DataFrame.to_latex` is expected to utilise the base implementation of `Styler.to_latex` for formatting and rendering. The arguments signature may therefore change. It is recommended instead to use `DataFrame.style.to_latex` which also contains additional functionality.\n",
      "  print(pivot_df.to_latex())\n"
     ]
    }
   ],
   "source": [
    "data_df = df[index_filter(df, type='intra-subject-consistency')] \\\n",
    "        .loc[:, relevant_topics_cols].sum(axis=1) \\\n",
    "        .reset_index(name='proba') \\\n",
    "        .pivot_table(\n",
    "            index=['type', 'group', 'subject_id', 'event_id', 'event_type', 'position'], \n",
    "            columns=['index'], \n",
    "            values='proba',\n",
    "        ) \\\n",
    "        .dropna()\n",
    "\n",
    "data_df = data_df[data_df.std(axis=1) != 0]\n",
    "\n",
    "consistency_df = data_df.std(axis=1) / data_df.mean(axis=1)\n",
    "\n",
    "data_df = consistency_df\\\n",
    "        .reset_index(drop=False, name='Consistency')\n",
    "\n",
    "data_df['Event Type'] = data_df['event_type'].map({'Joined': 'Join', 'Workshop': 'Workshop'})\n",
    "\n",
    "data_df = data_df.assign(Position=data_df['position'].map(POSITIONS_MAP))\n",
    "data_df = data_df[data_df['Position'] == 'Meteorologist']\n",
    "\n",
    "count_df = data_df.pivot_table(index=['Event Type'], columns=['group'], values=['Consistency'], aggfunc='count', margins=2)[['Consistency']]\n",
    "pivot_df = data_df.pivot_table(index=['Event Type'], columns=['group'], values=['Consistency'], margins=2)[['Consistency']]\n",
    "\n",
    "pivot_df.drop(labels=[('Consistency', 'All')], axis=1, inplace=True)\n",
    "\n",
    "pivot_df['\\\\Delta'] = (pivot_df[('Consistency', 'Before')]-pivot_df[('Consistency', 'After')]) * 100 / pivot_df[('Consistency', 'Before')]\n",
    "\n",
    "pivot_df = pivot_df.applymap(\"{0:.2f}\".format)\n",
    "\n",
    "pivot_df['Support'] = count_df.sum(axis=1)\n",
    "\n",
    "print(pivot_df.to_latex())"
   ]
  },
  {
   "cell_type": "code",
   "execution_count": 107,
   "id": "874ecd55-c467-45b1-81b5-8d2920b7e742",
   "metadata": {},
   "outputs": [
    {
     "name": "stdout",
     "output_type": "stream",
     "text": [
      "50764.5 0.8478321915940821\n"
     ]
    },
    {
     "data": {
      "text/plain": [
       "(1.2255112646595911, 1.1577178448186587)"
      ]
     },
     "execution_count": 107,
     "metadata": {},
     "output_type": "execute_result"
    }
   ],
   "source": [
    "join_before_s = data_df[(data_df['Event Type'] == 'Join') & \n",
    "                        (data_df['group'] == 'Before')]['Consistency']\n",
    "join_after_s = data_df[(data_df['Event Type'] == 'Join') & \n",
    "                       (data_df['group'] == 'After')]['Consistency']\n",
    "\n",
    "U1, p = mannwhitneyu(join_after_s, join_before_s, alternative='greater')\n",
    "print(U1, p)\n",
    "\n",
    "join_before_s.mean(), join_after_s.mean()"
   ]
  },
  {
   "cell_type": "code",
   "execution_count": 106,
   "id": "5421f276-70af-47f5-bff3-3e084cc4a97e",
   "metadata": {},
   "outputs": [
    {
     "name": "stdout",
     "output_type": "stream",
     "text": [
      "83.0 0.6428034811828368\n"
     ]
    },
    {
     "data": {
      "text/plain": [
       "(1.115676169584127, 1.0425042933050501)"
      ]
     },
     "execution_count": 106,
     "metadata": {},
     "output_type": "execute_result"
    }
   ],
   "source": [
    "workshop_before_s = data_df[(data_df['Event Type'] == 'Workshop') & \n",
    "                            (data_df['group'] == 'Before')]['Consistency']\n",
    "workshop_after_s = data_df[(data_df['Event Type'] == 'Workshop') & \n",
    "                           (data_df['group'] == 'After')]['Consistency']\n",
    "\n",
    "U1, p = mannwhitneyu(workshop_after_s, workshop_before_s, alternative='greater')\n",
    "print(U1, p)\n",
    "\n",
    "workshop_before_s.mean(), workshop_after_s.mean()"
   ]
  },
  {
   "cell_type": "code",
   "execution_count": 108,
   "id": "8ce13002-324a-403b-8982-f771d9f17a12",
   "metadata": {},
   "outputs": [
    {
     "name": "stdout",
     "output_type": "stream",
     "text": [
      "54886.5 0.8648541351947061\n"
     ]
    },
    {
     "data": {
      "text/plain": [
       "(1.2210584905349104, 1.1532865543758275)"
      ]
     },
     "execution_count": 108,
     "metadata": {},
     "output_type": "execute_result"
    }
   ],
   "source": [
    "consistency_before_s = data_df[(data_df['group'] == 'Before')]['Consistency']\n",
    "consistency_after_s = data_df[(data_df['group'] == 'After')]['Consistency']\n",
    "\n",
    "U1, p = mannwhitneyu(consistency_after_s, consistency_before_s, alternative='greater')\n",
    "print(U1, p)\n",
    "\n",
    "consistency_before_s.mean(), consistency_after_s.mean()"
   ]
  },
  {
   "cell_type": "code",
   "execution_count": 157,
   "id": "429a73ff-2696-4326-8fcf-2e372068b387",
   "metadata": {},
   "outputs": [
    {
     "name": "stdout",
     "output_type": "stream",
     "text": [
      "Total number of participants 738\n",
      "Non-Participant    463\n",
      "Participant        463\n",
      "Name: Group, dtype: int64\n",
      "U:  112739.5 , P-value:  0.08491582334351472\n",
      "0.1409792519770531 0.15431251180699526\n"
     ]
    },
    {
     "data": {
      "image/png": "[encoded data removed]",
      "text/plain": [
       "<Figure size 360x360 with 1 Axes>"
      ]
     },
     "metadata": {},
     "output_type": "display_data"
    }
   ],
   "source": [
    "data_df = df[index_filter(df, type='intra-subject')] \\\n",
    "        .loc[:, relevant_topics_cols] \\\n",
    "        .sum(axis=1) \\\n",
    "        .reset_index(drop=False, name='Topic Relevance')\n",
    "\n",
    "data_df['Event Type'] = data_df['event_type'].map({'Joined': 'Join', 'Workshop': 'Workshop'})\n",
    "data_df = data_df.assign(Position=data_df['position'].map(POSITIONS_MAP))\n",
    "\n",
    "data_df = data_df[data_df['Position'] == 'Meteorologist']\n",
    "\n",
    "no_one_df = (data_df.groupby(['subject_id', 'event_id'])['group'].count() == 2).reset_index()\n",
    "\n",
    "data_df = data_df.merge(no_one_df, on=['subject_id', 'event_id'], suffixes=('', '_y'))\n",
    "\n",
    "data_df = data_df[data_df.group_y].drop('group_y', axis=1)\n",
    "\n",
    "participant_ids_s = data_df['subject_id'].unique()\n",
    "\n",
    "print('Total number of participants', len(participant_ids_s))\n",
    "\n",
    "fig_df = df[index_filter(df, type='inter-subject')] \\\n",
    "        .loc[:, relevant_topics_cols] \\\n",
    "        .sum(axis=1) \\\n",
    "        .reset_index(drop=False, name='Topic Relevance')\n",
    "\n",
    "fig_df = fig_df.assign(Group=fig_df['group'])\n",
    "fig_df = fig_df.assign(Position=fig_df['position'].map(POSITIONS_MAP))\n",
    "\n",
    "fig_df = fig_df[fig_df['event_type'] == 'None']\n",
    "fig_df = fig_df[fig_df['Position'] == 'Meteorologist']\n",
    "\n",
    "participants_df = fig_df[fig_df['Group'] == 'Non-Participant']\n",
    "\n",
    "non_participants_df = fig_df[fig_df['subject_id'].isin(participant_ids_s)].sample(participants_df.shape[0])\n",
    "\n",
    "fig_df = pd.concat([participants_df, non_participants_df], ignore_index=True)\n",
    "\n",
    "print(fig_df['Group'].value_counts())\n",
    "\n",
    "fig, ax = plt.subplots(ncols=1, figsize=(5, 5))\n",
    "\n",
    "sns.histplot(fig_df, x='Topic Relevance', hue='Group', bins=20, stat='density', kde=True, common_norm=False, ax=ax)\n",
    "ax.set_xlabel(xlabel='Topic Relevance')\n",
    "\n",
    "fig.tight_layout()\n",
    "plt.savefig('inter-subject-topic-relevance.png', bbox_inches='tight')\n",
    "\n",
    "participant_s = fig_df[fig_df['Group'] == 'Participant']['Topic Relevance']\n",
    "non_participant_s = fig_df[fig_df['Group'] == 'Non-Participant']['Topic Relevance']\n",
    "\n",
    "U1, p = mannwhitneyu(participant_s, non_participant_s, alternative='greater')\n",
    "print('U: ', U1, ', P-value: ', p)\n",
    "print(non_participant_s.mean(), participant_s.mean())"
   ]
  },
  {
   "cell_type": "code",
   "execution_count": null,
   "id": "6cbd8914-af2e-4aa8-9770-a7edf02ca773",
   "metadata": {},
   "outputs": [],
   "source": []
  }
 ],
 "metadata": {
  "kernelspec": {
   "display_name": "Python 3 (ipykernel)",
   "language": "python",
   "name": "python3"
  },
  "language_info": {
   "codemirror_mode": {
    "name": "ipython",
    "version": 3
   },
   "file_extension": ".py",
   "mimetype": "text/x-python",
   "name": "python",
   "nbconvert_exporter": "python",
   "pygments_lexer": "ipython3",
   "version": "3.9.7"
  }
 },
 "nbformat": 4,
 "nbformat_minor": 5
}
