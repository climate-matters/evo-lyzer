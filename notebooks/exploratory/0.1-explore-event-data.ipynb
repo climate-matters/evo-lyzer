{
 "cells": [
  {
   "cell_type": "code",
   "execution_count": 1,
   "id": "6b832b0b-77f0-4234-a9be-c906c8f64f54",
   "metadata": {},
   "outputs": [],
   "source": [
    "# OPTIONAL: Load the \"autoreload\" extension so that code can change\n",
    "%load_ext autoreload"
   ]
  },
  {
   "cell_type": "code",
   "execution_count": 2,
   "id": "77ef154e-1607-4d8b-a0d3-f59c38e10bb8",
   "metadata": {},
   "outputs": [],
   "source": [
    "# OPTIONAL: always reload modules so that as you change code in src, it gets loaded\n",
    "%autoreload 2"
   ]
  },
  {
   "cell_type": "code",
   "execution_count": 3,
   "id": "4e7386c6-3bf7-46e7-8eb8-6dcc82127927",
   "metadata": {},
   "outputs": [],
   "source": [
    "import os\n",
    "import sys\n",
    "import json\n",
    "\n",
    "if os.path.abspath('../..') not in sys.path:\n",
    "    sys.path.append(os.path.abspath('../..'))"
   ]
  },
  {
   "cell_type": "code",
   "execution_count": 4,
   "id": "c421306c-cea2-48cf-a008-ea997cd5dd11",
   "metadata": {},
   "outputs": [],
   "source": [
    "import tqdm\n",
    "import datetime\n",
    "import hashlib\n",
    "\n",
    "import numpy as np\n",
    "import pandas as pd\n",
    "\n",
    "from dateutil.relativedelta import relativedelta\n",
    "\n",
    "from src.dataset import load_dataset\n",
    "from src.corpus import load_tweets"
   ]
  },
  {
   "cell_type": "code",
   "execution_count": 5,
   "id": "2aa560fa-6607-436f-98d9-7d3eb29a895d",
   "metadata": {},
   "outputs": [],
   "source": [
    "df = load_dataset()"
   ]
  },
  {
   "cell_type": "code",
   "execution_count": 6,
   "id": "0f574cc5-c649-4a25-96f2-7ce30b11e589",
   "metadata": {},
   "outputs": [
    {
     "data": {
      "text/plain": [
       "True     1489\n",
       "False    1483\n",
       "Name: participant, dtype: int64"
      ]
     },
     "execution_count": 6,
     "metadata": {},
     "output_type": "execute_result"
    }
   ],
   "source": [
    "df[['subject_id', 'participant']] \\\n",
    "    .drop_duplicates() \\\n",
    "    .reset_index(drop=False)['participant'] \\\n",
    "    .value_counts()"
   ]
  },
  {
   "cell_type": "code",
   "execution_count": 7,
   "id": "c8879aef-e184-4a1b-9e27-f3064ae94978",
   "metadata": {},
   "outputs": [
    {
     "name": "stderr",
     "output_type": "stream",
     "text": [
      "Extracting Tweets: 100%|████████████████████████████████████████████████████████████████████████████████████████████████████████████████| 3659/3659 [04:20<00:00, 14.04it/s]\n"
     ]
    }
   ],
   "source": [
    "tweets_collection = []\n",
    "\n",
    "successful = 0\n",
    "for item in tqdm.tqdm(df.itertuples(), total=df.shape[0], desc='Extracting Tweets'):\n",
    "    if pd.isna(item.datetime):\n",
    "        continue\n",
    "    # event_time_month_start\n",
    "    event_time = datetime.datetime.combine(item.datetime, datetime.time.min).replace(day=1)\n",
    "    # part 1\n",
    "    start_time = event_time + relativedelta(months=-11)\n",
    "    current_year, current_month = start_time.year, start_time.month\n",
    "    before_months = []\n",
    "    while (current_year < event_time.year) or \\\n",
    "        ((current_year == event_time.year) and (current_month < event_time.month)):\n",
    "        before_months.append({'twitter': item.twitter, 'year': current_year, 'month': current_month, 'lang': 'en'})\n",
    "        if current_month == 12:\n",
    "            current_month = 1\n",
    "            current_year += 1\n",
    "        else:\n",
    "            current_month += 1\n",
    "    # part 2\n",
    "    end_time = event_time + relativedelta(months=+11)\n",
    "    current_year, current_month = event_time.year, event_time.month\n",
    "    after_months = []\n",
    "    while (current_year < end_time.year) or \\\n",
    "        ((current_year == end_time.year) and (current_month < end_time.month)):\n",
    "        # skips the event month\n",
    "        if current_month == 12:\n",
    "            current_month = 1\n",
    "            current_year += 1\n",
    "        else:\n",
    "            current_month += 1\n",
    "        after_months.append({'twitter': item.twitter, 'year': current_year, 'month': current_month, 'lang': 'en'})\n",
    "    try:\n",
    "        tc = []\n",
    "        for t in load_tweets(filters=before_months, verbose=0):\n",
    "            tc.append({'subject_id': item.subject_id, 'event_id': int(item.event_id), 'type': 'intra-subject', 'group': 'Before', 'tweet': t})\n",
    "        for t in load_tweets(filters=after_months, verbose=0):\n",
    "            tc.append({'subject_id': item.subject_id, 'event_id': int(item.event_id), 'type': 'intra-subject', 'group': 'After', 'tweet': t})\n",
    "        successful += 1\n",
    "        tweets_collection += tc\n",
    "    except FileNotFoundError as e:\n",
    "        pass"
   ]
  },
  {
   "cell_type": "code",
   "execution_count": 17,
   "id": "06ad494e-7714-42e6-99f8-41a04c8ef57e",
   "metadata": {},
   "outputs": [
    {
     "data": {
      "text/plain": [
       "{'created_at': '2020-05-13T10:03:16.000Z',\n",
       " 'lang': 'en',\n",
       " 'conversation_id': '1260461125252059138',\n",
       " 'text': '@AspiringKeya @Pocket but fascinating',\n",
       " 'public_metrics': {'retweet_count': 0,\n",
       "  'reply_count': 0,\n",
       "  'like_count': 0,\n",
       "  'quote_count': 0},\n",
       " 'possibly_sensitive': False,\n",
       " 'entities': {'mentions': [{'start': 14, 'end': 21, 'username': 'Pocket'}]},\n",
       " 'reply_settings': 'everyone',\n",
       " 'id': '1260510917495869441',\n",
       " 'in_reply_to_user_id': '775772363673702400',\n",
       " 'author_id': '68354597',\n",
       " 'source': 'Twitter Web App',\n",
       " 'referenced_tweets': [{'type': 'replied_to', 'id': '1260461951794151425'}],\n",
       " 'username': 'TomAckermanWx'}"
      ]
     },
     "execution_count": 17,
     "metadata": {},
     "output_type": "execute_result"
    }
   ],
   "source": [
    "tweets_collection[0]['tweet']"
   ]
  },
  {
   "cell_type": "code",
   "execution_count": 11,
   "id": "c5b193fa-ea2b-4820-affe-6d79a4040e24",
   "metadata": {},
   "outputs": [],
   "source": [
    "tweets_df = pd.DataFrame(tweets_collection)"
   ]
  },
  {
   "cell_type": "code",
   "execution_count": 16,
   "id": "d85ceb49-0fc6-4fbd-bd12-8c7f3fbb5c33",
   "metadata": {},
   "outputs": [
    {
     "data": {
      "text/plain": [
       "(887, 2)"
      ]
     },
     "execution_count": 16,
     "metadata": {},
     "output_type": "execute_result"
    }
   ],
   "source": [
    "tweets_df[['subject_id', 'event_id']].drop_duplicates().shape"
   ]
  },
  {
   "cell_type": "code",
   "execution_count": 8,
   "id": "f5c55105-b343-494f-8c8b-a8b4219b9095",
   "metadata": {},
   "outputs": [
    {
     "data": {
      "text/plain": [
       "(880682, 1285)"
      ]
     },
     "execution_count": 8,
     "metadata": {},
     "output_type": "execute_result"
    }
   ],
   "source": [
    "len(tweets_collection), successful"
   ]
  },
  {
   "cell_type": "code",
   "execution_count": 54,
   "id": "10bd560c-554a-4dd4-9af0-9333b005d273",
   "metadata": {},
   "outputs": [
    {
     "name": "stderr",
     "output_type": "stream",
     "text": [
      "Extracting RTs: 100%|███████████████████████████████████████████████████████████████████████████████████████████████████████████| 880682/880682 [00:03<00:00, 266246.21it/s]\n"
     ]
    },
    {
     "name": "stdout",
     "output_type": "stream",
     "text": [
      "% of new messages: 0.69%\n"
     ]
    }
   ],
   "source": [
    "is_rt = []\n",
    "\n",
    "for record in tqdm.tqdm(tweets_collection, desc='Extracting RTs'):\n",
    "    tweet = record['tweet']\n",
    "    is_rt.append(tweet['text'].upper().startswith('RT'))\n",
    "\n",
    "is_rt = np.array(is_rt)\n",
    "\n",
    "rt = dict(zip(*np.unique(is_rt, return_counts=True)))\n",
    "\n",
    "print('% of new messages: {:0.2f}%'.format(rt[False] / (rt[True] + rt[False])))"
   ]
  },
  {
   "cell_type": "code",
   "execution_count": 55,
   "id": "b248c2ac-f58a-4c6b-8e39-5dcfb645d108",
   "metadata": {},
   "outputs": [
    {
     "name": "stderr",
     "output_type": "stream",
     "text": [
      "Writing to File: 100%|███████████████████████████████████████████████████████████████████████████████████████████████████████████| 880682/880682 [01:20<00:00, 10899.99it/s]\n"
     ]
    }
   ],
   "source": [
    "with open('../../data/interim/tweets_intra_subject_analysis.jsonl', 'w') as fp:\n",
    "    for item in tqdm.tqdm(tweets_collection, desc='Writing to File'):\n",
    "        json.dump(item, fp)\n",
    "        fp.write('\\n')"
   ]
  },
  {
   "cell_type": "code",
   "execution_count": 74,
   "id": "3243c0da-c571-43b9-ba5e-63ded565fc24",
   "metadata": {},
   "outputs": [],
   "source": []
  },
  {
   "cell_type": "code",
   "execution_count": null,
   "id": "911cd0cf-b50c-4330-98b3-97ad20ed07b3",
   "metadata": {},
   "outputs": [],
   "source": []
  },
  {
   "cell_type": "code",
   "execution_count": null,
   "id": "db7abd6b-e618-4efd-86d9-0d669e3cd903",
   "metadata": {},
   "outputs": [],
   "source": []
  }
 ],
 "metadata": {
  "kernelspec": {
   "display_name": "Python 3 (ipykernel)",
   "language": "python",
   "name": "python3"
  },
  "language_info": {
   "codemirror_mode": {
    "name": "ipython",
    "version": 3
   },
   "file_extension": ".py",
   "mimetype": "text/x-python",
   "name": "python",
   "nbconvert_exporter": "python",
   "pygments_lexer": "ipython3",
   "version": "3.9.7"
  }
 },
 "nbformat": 4,
 "nbformat_minor": 5
}
