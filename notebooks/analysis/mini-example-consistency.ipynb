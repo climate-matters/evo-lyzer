{
 "cells": [
  {
   "cell_type": "code",
   "execution_count": 15,
   "id": "05809011-c00d-48c2-a074-bad102560cbf",
   "metadata": {},
   "outputs": [],
   "source": [
    "import os\n",
    "\n",
    "import numpy as np\n",
    "import pandas as pd\n",
    "\n",
    "from src.config import config\n",
    "from src.corpus.documents import load_documents\n",
    "from src.dashboard.app import app\n",
    "from src.dashboard.cache import cache\n",
    "from src.dashboard.models import Collection, TopicModelLoader\n",
    "from src.dashboard.plots.topics import prepare_topics\n",
    "from src.dashboard.plots.analysis import prepare_analysis\n",
    "from src.preprocessing.documents import filter_documents\n",
    "\n",
    "num_topics, epochs = 6, 1\n",
    "fn = 'v0-T{num_topics}-E{epochs}'.format(epochs=epochs, num_topics=num_topics)\n",
    "model_path = os.path.join(config['DEFAULT']['project_path'], 'models', fn, 'model.pt')\n",
    "\n",
    "model_loader = None\n",
    "with app.app_context():\n",
    "    for model_loader in TopicModelLoader.query.all():\n",
    "        if (model_loader.model.num_epochs, model_loader.model.num_topics) == (1, 6):\n",
    "            _ = model_loader.topics\n",
    "            break\n",
    "\n",
    "assert model_path == model_loader.path, 'Provided path does not match with the database. ' \\\n",
    "                                        'Found {}, Expected {}'.format(model_loader.path, model_path)\n"
   ]
  },
  {
   "cell_type": "code",
   "execution_count": 16,
   "id": "966811f4-d6c1-44e8-b5bd-64863fbd867d",
   "metadata": {},
   "outputs": [
    {
     "name": "stderr",
     "output_type": "stream",
     "text": [
      "Loading Documents: 100%|██████████████████████████████████████████████████████████████████████████████████████████████████████████| 880682/880682 [01:35<00:00, 9190.35it/s]\n",
      "Extracting Unique Documents: 100%|██████████████████████████████████████████████████████████████████████████████████████████████| 670323/670323 [00:01<00:00, 434074.45it/s]\n"
     ]
    },
    {
     "name": "stdout",
     "output_type": "stream",
     "text": [
      "85590 duplicates removed from a total of 670323 documents.\n"
     ]
    },
    {
     "name": "stderr",
     "output_type": "stream",
     "text": [
      "Selecting Documents: 100%|███████████████████████████████████████████████████████████████████████████████████████████████████████| 82877/82877 [00:00<00:00, 1675808.75it/s]\n"
     ]
    }
   ],
   "source": [
    "filtered_documents = filter_documents(docs=load_documents(verbose=True), verbose=True)\n",
    "prepared_documents = model_loader.model.preprocess(filtered_documents)\n",
    "prepared_topic_vis = prepare_topics(topic_model=model_loader.model, documents=prepared_documents)\n",
    "document_topics = np.argmax(prepared_topic_vis['doc_topic_dists'], axis=1)\n",
    "document_topics_df = pd.DataFrame([\n",
    "    {'id': _id, 'text': doc.text, 'author': doc.author_id, 'topic': topic}\n",
    "    for _id, (doc, topic) in enumerate(zip(filtered_documents, document_topics))\n",
    "])"
   ]
  },
  {
   "cell_type": "code",
   "execution_count": 52,
   "id": "e8e0accf-392f-4395-adc8-d1964559e35e",
   "metadata": {},
   "outputs": [
    {
     "name": "stdout",
     "output_type": "stream",
     "text": [
      "0.6844071738644499 RT @ABCPolitics: \"I believe that climate change is real, I believe that man has an impact on it,\" EPA chief nominee Andrew Wheeler tells Se…\n"
     ]
    }
   ],
   "source": [
    "count = 0\n",
    "for proba, doc in zip(prepared_topic_vis['doc_topic_dists'], filtered_documents):\n",
    "    if 'I believe that climate change is real' in doc.text:\n",
    "        print(proba[0]+proba[1], doc.text)\n",
    "    # count += 1\n",
    "    # if count > 1000:\n",
    "    #     break"
   ]
  },
  {
   "cell_type": "code",
   "execution_count": null,
   "id": "4bab9203-7880-40d0-a772-95a3c3a4e0b0",
   "metadata": {},
   "outputs": [],
   "source": []
  }
 ],
 "metadata": {
  "kernelspec": {
   "display_name": "Python 3 (ipykernel)",
   "language": "python",
   "name": "python3"
  },
  "language_info": {
   "codemirror_mode": {
    "name": "ipython",
    "version": 3
   },
   "file_extension": ".py",
   "mimetype": "text/x-python",
   "name": "python",
   "nbconvert_exporter": "python",
   "pygments_lexer": "ipython3",
   "version": "3.9.7"
  }
 },
 "nbformat": 4,
 "nbformat_minor": 5
}
