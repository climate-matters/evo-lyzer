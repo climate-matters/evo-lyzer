{
 "cells": [
  {
   "cell_type": "code",
   "execution_count": 1,
   "id": "c9d7e05d-65a7-4e85-a126-fb6e3fbf812f",
   "metadata": {},
   "outputs": [],
   "source": [
    "# OPTIONAL: Load the \"autoreload\" extension so that code can change\n",
    "%load_ext autoreload"
   ]
  },
  {
   "cell_type": "code",
   "execution_count": 2,
   "id": "97ec0aba-3e55-4d7d-815e-1ce70c36ccf9",
   "metadata": {},
   "outputs": [],
   "source": [
    "# OPTIONAL: always reload modules so that as you change code in src, it gets loaded\n",
    "%autoreload 2"
   ]
  },
  {
   "cell_type": "code",
   "execution_count": 3,
   "id": "404c6ce3-902f-4729-9110-0acbf22878f9",
   "metadata": {},
   "outputs": [],
   "source": [
    "import os\n",
    "import sys\n",
    "\n",
    "if os.path.abspath('../../..') not in sys.path:\n",
    "    sys.path.append(os.path.abspath('../../..'))"
   ]
  },
  {
   "cell_type": "code",
   "execution_count": 4,
   "id": "1e98b9f2-1a18-4837-b52d-2b64d970c46c",
   "metadata": {},
   "outputs": [
    {
     "name": "stderr",
     "output_type": "stream",
     "text": [
      "/Users/yasas/Documents/Projects/climate-matters/evo-lyzer/venv/lib/python3.9/site-packages/past/builtins/misc.py:45: DeprecationWarning: the imp module is deprecated in favour of importlib; see the module's documentation for alternative uses\n",
      "  from imp import reload\n"
     ]
    }
   ],
   "source": [
    "from gensim.models.coherencemodel import CoherenceModel\n",
    "\n",
    "from src.corpus.documents import load_documents\n",
    "from src.preprocessing.documents import filter_documents, preprocess_documents\n",
    "from src.models import AuthorTopicModel\n",
    "from src.models.callbacks import ModelCheckpoint\n",
    "from src.corpus import keywords\n",
    "from src.preprocessing.keywords import create_eta\n",
    "from src.plotting.topic_models import TopicModelVisualizer"
   ]
  },
  {
   "cell_type": "code",
   "execution_count": 5,
   "id": "80e0de74-7454-4ef3-9c4f-8b864405636d",
   "metadata": {},
   "outputs": [
    {
     "name": "stderr",
     "output_type": "stream",
     "text": [
      "Loading Documents: 100%|██████████████████████████████████████████████████████████████████████████████████████████████████████████| 880682/880682 [01:33<00:00, 9438.96it/s]\n",
      "Extracting Unique Documents: 100%|██████████████████████████████████████████████████████████████████████████████████████████████| 670323/670323 [00:01<00:00, 422546.98it/s]\n"
     ]
    },
    {
     "name": "stdout",
     "output_type": "stream",
     "text": [
      "85590 duplicates removed from a total of 670323 documents.\n"
     ]
    },
    {
     "name": "stderr",
     "output_type": "stream",
     "text": [
      "Selecting Documents: 100%|███████████████████████████████████████████████████████████████████████████████████████████████████████| 82860/82860 [00:00<00:00, 1637416.57it/s]\n"
     ]
    }
   ],
   "source": [
    "docs = filter_documents(docs=load_documents(verbose=True), verbose=True)"
   ]
  },
  {
   "cell_type": "code",
   "execution_count": 6,
   "id": "922e285d-2bd1-41cd-ac83-6a703dc3cdfb",
   "metadata": {},
   "outputs": [
    {
     "name": "stdout",
     "output_type": "stream",
     "text": [
      "Number of Total Documents: 82860\n"
     ]
    }
   ],
   "source": [
    "print('Number of Total Documents: {}'.format(len(docs)))"
   ]
  },
  {
   "cell_type": "code",
   "execution_count": 7,
   "id": "2efb7dbb-b85a-4951-bbf6-7d6929db5977",
   "metadata": {},
   "outputs": [
    {
     "name": "stderr",
     "output_type": "stream",
     "text": [
      "Extracting Tokens: 100%|██████████████████████████████████████████████████████████████████████████████████████████████████████████| 82860/82860 [00:00<00:00, 521122.18it/s]\n",
      "Extracting Phrases: 100%|██████████████████████████████████████████████████████████████████████████████████████████████████████████| 82860/82860 [00:01<00:00, 43146.83it/s]\n",
      "Extracting Bag of Words: 100%|█████████████████████████████████████████████████████████████████████████████████████████████████████| 82860/82860 [00:01<00:00, 79073.49it/s]\n",
      "Extracting Author Docs: 100%|████████████████████████████████████████████████████████████████████████████████████████████████████| 82860/82860 [00:00<00:00, 1321505.28it/s]\n",
      "Training the Model (Epoch 1): 100%|█████████████████████████████████████████████████████████████████████████████████████████████████| 82860/82860 [01:21<00:00, 1010.67it/s]\n",
      "Training the Model (Epoch 2): 100%|██████████████████████████████████████████████████████████████████████████████████████████████████| 82860/82860 [01:25<00:00, 969.19it/s]\n",
      "Training the Model (Epoch 3): 100%|██████████████████████████████████████████████████████████████████████████████████████████████████| 82860/82860 [01:28<00:00, 933.06it/s]\n",
      "Training the Model (Epoch 4): 100%|██████████████████████████████████████████████████████████████████████████████████████████████████| 82860/82860 [01:27<00:00, 948.67it/s]\n",
      "Training the Model (Epoch 5): 100%|██████████████████████████████████████████████████████████████████████████████████████████████████| 82860/82860 [01:26<00:00, 955.72it/s]\n",
      "Training the Model (Epoch 6): 100%|██████████████████████████████████████████████████████████████████████████████████████████████████| 82860/82860 [01:27<00:00, 946.71it/s]\n",
      "Training the Model (Epoch 7): 100%|██████████████████████████████████████████████████████████████████████████████████████████████████| 82860/82860 [01:28<00:00, 938.49it/s]\n",
      "Training the Model (Epoch 8): 100%|██████████████████████████████████████████████████████████████████████████████████████████████████| 82860/82860 [01:27<00:00, 944.06it/s]\n",
      "Training the Model (Epoch 9): 100%|██████████████████████████████████████████████████████████████████████████████████████████████████| 82860/82860 [01:28<00:00, 936.97it/s]\n",
      "Training the Model (Epoch 10): 100%|█████████████████████████████████████████████████████████████████████████████████████████████████| 82860/82860 [01:43<00:00, 802.58it/s]\n"
     ]
    }
   ],
   "source": [
    "if os.path.exists('../../../models/v0-T6-E1/model.pt'):\n",
    "    model = AuthorTopicModel.load('../../../models/v0-T6-E1/model.pt')\n",
    "else:\n",
    "    model_checkpoint = ModelCheckpoint('../../../models', version=0)\n",
    "    model = AuthorTopicModel(\n",
    "        num_topics=6, \n",
    "        passes=10,\n",
    "        iterations=20,\n",
    "        keywords=keywords,\n",
    "        callbacks=[model_checkpoint],\n",
    "        verbose=True,\n",
    "    )\n",
    "    model.fit(docs)"
   ]
  },
  {
   "cell_type": "code",
   "execution_count": 8,
   "id": "d109c98b-c94c-4bfa-a1bc-6a0dfe57ae7b",
   "metadata": {},
   "outputs": [
    {
     "name": "stderr",
     "output_type": "stream",
     "text": [
      "Extracting Tokens: 100%|█████████████████████████████████████████████████████████████████████████████████████████████████████████| 82860/82860 [00:00<00:00, 1136171.30it/s]\n",
      "Extracting Phrases: 100%|██████████████████████████████████████████████████████████████████████████████████████████████████████████| 82860/82860 [00:02<00:00, 33093.04it/s]\n",
      "Extracting Bag of Words: 100%|█████████████████████████████████████████████████████████████████████████████████████████████████████| 82860/82860 [00:01<00:00, 62742.91it/s]\n",
      "Extracting Author Docs: 100%|████████████████████████████████████████████████████████████████████████████████████████████████████| 82860/82860 [00:00<00:00, 1079383.90it/s]\n"
     ]
    }
   ],
   "source": [
    "preprocessed_docs = model.preprocess(docs)"
   ]
  },
  {
   "cell_type": "code",
   "execution_count": 9,
   "id": "94ec54df-bdfd-4665-93cc-c3e4886f36a8",
   "metadata": {},
   "outputs": [
    {
     "data": {
      "text/plain": [
       "-3.578021862708173"
      ]
     },
     "execution_count": 9,
     "metadata": {},
     "output_type": "execute_result"
    }
   ],
   "source": [
    "model.get_coherence(preprocessed_docs)"
   ]
  },
  {
   "cell_type": "code",
   "execution_count": 11,
   "id": "8e2819b7-9d97-4996-9b4e-8e9e04c31bd5",
   "metadata": {},
   "outputs": [
    {
     "name": "stderr",
     "output_type": "stream",
     "text": [
      "Inferring the Document Topic Probabilities: 100%|███████████████████████████████████████████████████████████████████████████████████| 82860/82860 [00:34<00:00, 2405.97it/s]\n"
     ]
    }
   ],
   "source": [
    "topics_proba = model.transform(preprocessed_docs)"
   ]
  },
  {
   "cell_type": "code",
   "execution_count": 12,
   "id": "0aebad0d-4bf1-460c-9b2f-eb3b54a1893d",
   "metadata": {},
   "outputs": [
    {
     "data": {
      "text/plain": [
       "(82860, 6)"
      ]
     },
     "execution_count": 12,
     "metadata": {},
     "output_type": "execute_result"
    }
   ],
   "source": [
    "topics_proba.shape"
   ]
  },
  {
   "cell_type": "code",
   "execution_count": 14,
   "id": "ded8ecb4-85b3-43e3-b39e-1c6bcab32c43",
   "metadata": {},
   "outputs": [
    {
     "data": {
      "text/plain": [
       "<src.plotting.topic_models.TopicModelVisualizer at 0x7fed84ac2e20>"
      ]
     },
     "execution_count": 14,
     "metadata": {},
     "output_type": "execute_result"
    }
   ],
   "source": [
    "topic_viz = TopicModelVisualizer(model, verbose=True)\n",
    "\n",
    "topic_viz.fit(preprocessed_docs)"
   ]
  },
  {
   "cell_type": "code",
   "execution_count": 31,
   "id": "46cebc23-c47e-4ba1-a57e-ac4d581c48b8",
   "metadata": {},
   "outputs": [
    {
     "name": "stderr",
     "output_type": "stream",
     "text": [
      "/Users/yasas/Documents/Projects/climate-matters/evo-lyzer/venv/lib/python3.9/site-packages/pyLDAvis/_prepare.py:228: FutureWarning: In a future version of pandas all arguments of DataFrame.drop except for the argument 'labels' will be keyword-only.\n",
      "  default_term_info  = pd.DataFrame({'saliency': saliency, 'Term': vocab, \\\n",
      "/Users/yasas/Documents/Projects/climate-matters/evo-lyzer/venv/lib/python3.9/site-packages/past/builtins/misc.py:45: DeprecationWarning: the imp module is deprecated in favour of importlib; see the module's documentation for alternative uses\n",
      "  from imp import reload\n",
      "/Users/yasas/Documents/Projects/climate-matters/evo-lyzer/venv/lib/python3.9/site-packages/past/builtins/misc.py:45: DeprecationWarning: the imp module is deprecated in favour of importlib; see the module's documentation for alternative uses\n",
      "  from imp import reload\n",
      "/Users/yasas/Documents/Projects/climate-matters/evo-lyzer/venv/lib/python3.9/site-packages/past/builtins/misc.py:45: DeprecationWarning: the imp module is deprecated in favour of importlib; see the module's documentation for alternative uses\n",
      "  from imp import reload\n",
      "/Users/yasas/Documents/Projects/climate-matters/evo-lyzer/venv/lib/python3.9/site-packages/past/builtins/misc.py:45: DeprecationWarning: the imp module is deprecated in favour of importlib; see the module's documentation for alternative uses\n",
      "  from imp import reload\n"
     ]
    }
   ],
   "source": [
    "component = topic_viz.get_html_component()"
   ]
  },
  {
   "cell_type": "code",
   "execution_count": 37,
   "id": "37523ebf-9378-4185-8e22-e91ed322ae05",
   "metadata": {},
   "outputs": [],
   "source": [
    "# component.display('html')"
   ]
  },
  {
   "cell_type": "code",
   "execution_count": null,
   "id": "b11350bc-2fd6-4b12-b13d-f649cb4a7ebe",
   "metadata": {},
   "outputs": [],
   "source": []
  }
 ],
 "metadata": {
  "kernelspec": {
   "display_name": "Python 3 (ipykernel)",
   "language": "python",
   "name": "python3"
  },
  "language_info": {
   "codemirror_mode": {
    "name": "ipython",
    "version": 3
   },
   "file_extension": ".py",
   "mimetype": "text/x-python",
   "name": "python",
   "nbconvert_exporter": "python",
   "pygments_lexer": "ipython3",
   "version": "3.9.7"
  }
 },
 "nbformat": 4,
 "nbformat_minor": 5
}
