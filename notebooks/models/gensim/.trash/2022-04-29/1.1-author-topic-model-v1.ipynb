{
 "cells": [
  {
   "cell_type": "code",
   "execution_count": 1,
   "id": "330a20b3-affe-4ab5-bf09-56acf8890d9e",
   "metadata": {},
   "outputs": [],
   "source": [
    "# OPTIONAL: Load the \"autoreload\" extension so that code can change\n",
    "%load_ext autoreload"
   ]
  },
  {
   "cell_type": "code",
   "execution_count": 2,
   "id": "37c18420-4c62-4254-868b-dca5aae60a3e",
   "metadata": {},
   "outputs": [],
   "source": [
    "# OPTIONAL: always reload modules so that as you change code in src, it gets loaded\n",
    "%autoreload 2"
   ]
  },
  {
   "cell_type": "code",
   "execution_count": 3,
   "id": "0eae6c09-d2f9-40e6-b95a-1660835455a2",
   "metadata": {},
   "outputs": [],
   "source": [
    "import os\n",
    "import sys\n",
    "\n",
    "if os.path.abspath('../../..') not in sys.path:\n",
    "    sys.path.append(os.path.abspath('../../..'))"
   ]
  },
  {
   "cell_type": "code",
   "execution_count": 4,
   "id": "60eecb6b-17a5-4fd1-97c9-12a13f90427c",
   "metadata": {},
   "outputs": [],
   "source": [
    "import json\n",
    "import re\n",
    "import logging\n",
    "\n",
    "from collections import defaultdict\n",
    "\n",
    "import tqdm\n",
    "\n",
    "import numpy as np\n",
    "import pandas as pd\n",
    "\n",
    "from flashtext import KeywordProcessor\n",
    "\n",
    "from gensim.parsing.preprocessing import (\n",
    "    preprocess_string, \n",
    "    strip_tags,\n",
    "    strip_punctuation, \n",
    "    strip_multiple_whitespaces, \n",
    "    strip_numeric, \n",
    "    lower_to_unicode,\n",
    "    strip_short,\n",
    "    remove_stopwords,\n",
    ")\n",
    "from gensim.corpora.dictionary import Dictionary\n",
    "from gensim.models import AuthorTopicModel as GensimAuthorTopicModel\n",
    "from gensim.test.utils import temporary_file\n",
    "from gensim.models.callbacks import CoherenceMetric, DiffMetric, PerplexityMetric, ConvergenceMetric\n",
    "\n",
    "from src.dataset import load_tweets, load_availability\n",
    "from src.config import config"
   ]
  },
  {
   "cell_type": "code",
   "execution_count": 5,
   "id": "101cdb82-2345-45cf-9690-cf5138fd5039",
   "metadata": {},
   "outputs": [],
   "source": [
    "logging.basicConfig(\n",
    "    format='%(asctime)s:%(levelname)s:%(message)s', \n",
    "    level=logging.WARNING,\n",
    "    handlers=[\n",
    "        logging.StreamHandler(),\n",
    "    ]\n",
    ")"
   ]
  },
  {
   "cell_type": "code",
   "execution_count": 6,
   "id": "e2f8f68f-5c8a-42b8-8f02-ec5973c423ee",
   "metadata": {},
   "outputs": [],
   "source": [
    "def load_keywords(path=None):\n",
    "    if path is None:\n",
    "        path = '../../../data/external/keywords.v3.2.csv'\n",
    "    df = pd.read_csv(path)\n",
    "    output = defaultdict(set)\n",
    "    for row in df.itertuples():\n",
    "        phrase, topic = row.raw_keyword, row.label\n",
    "        for token in phrase.split(' '):\n",
    "            if len(token) > 2:\n",
    "                output[topic].add(token)\n",
    "    return {k: list(v) for k, v in output.items()}\n",
    "\n",
    "keywords = load_keywords()"
   ]
  },
  {
   "cell_type": "code",
   "execution_count": 7,
   "id": "c5e4833b-d003-4661-9d8b-15d61395e6dc",
   "metadata": {},
   "outputs": [],
   "source": [
    "url_pattern = re.compile('\\Bhttp[s]?://\\S+')\n",
    "hashtag_pattern = re.compile('\\B\\#[a-zA-Z0-9_]+')\n",
    "mention_pattern = re.compile('\\B\\@[a-zA-Z0-9_]+')"
   ]
  },
  {
   "cell_type": "code",
   "execution_count": 8,
   "id": "6275463f-cedb-44b0-bd47-cb0009f62e0c",
   "metadata": {},
   "outputs": [],
   "source": [
    "class Document:\n",
    "    def __init__(self, text, author=None):\n",
    "        self.text = text\n",
    "        self.author = author\n",
    "        self.tokens = None\n",
    "        \n",
    "    def set_tokens(self, tokens):\n",
    "        self.tokens = tokens\n",
    "        return self\n",
    "    \n",
    "def load_documents(path=None):\n",
    "    if path is None:\n",
    "        path = '../../../data/interim/models/tweets_intra_subject_analysis.jsonl'\n",
    "    with open(path, 'r') as fp:\n",
    "        for line in tqdm.tqdm(fp.readlines(), desc='Loading Documents'):\n",
    "            record = json.loads(line)\n",
    "            text = record['tweet']['text']\n",
    "            author = record['subject_id']\n",
    "            d = Document(text=text, author=author)\n",
    "            yield d"
   ]
  },
  {
   "cell_type": "code",
   "execution_count": 9,
   "id": "d8c557cd-fc1b-4d4d-b87a-f99a2bb35bf9",
   "metadata": {},
   "outputs": [
    {
     "name": "stderr",
     "output_type": "stream",
     "text": [
      "Loading Documents: 100%|█████████████████████████████████████████████████████████████████████████████████████████████████████████| 820202/820202 [00:56<00:00, 14490.25it/s]\n"
     ]
    }
   ],
   "source": [
    "results = []\n",
    "\n",
    "for doc in load_documents():\n",
    "    hashtags = hashtag_pattern.findall(doc.text)\n",
    "    tokens = preprocess_string(doc.text, filters=[\n",
    "        lower_to_unicode,\n",
    "        lambda x: url_pattern.sub(' ', x),\n",
    "        lambda x: hashtag_pattern.sub(' ', x),\n",
    "        lambda x: mention_pattern.sub(' ', x),\n",
    "        strip_tags,\n",
    "        strip_punctuation,\n",
    "        strip_numeric,\n",
    "        lambda x: x + ' '.join(hashtags),\n",
    "        remove_stopwords,\n",
    "        strip_short,\n",
    "        strip_multiple_whitespaces, \n",
    "    ])\n",
    "    doc.set_tokens(tokens)\n",
    "    if len(doc.tokens) > 5:\n",
    "        results.append(doc)"
   ]
  },
  {
   "cell_type": "code",
   "execution_count": 10,
   "id": "943b75cc-103d-4d4e-b572-04e8baca0353",
   "metadata": {},
   "outputs": [
    {
     "name": "stderr",
     "output_type": "stream",
     "text": [
      "Extracting Tokens: 100%|████████████████████████████████████████████████████████████████████████████████████████████████████████| 649526/649526 [00:00<00:00, 868355.08it/s]\n",
      "Extracting Author Docs: 100%|██████████████████████████████████████████████████████████████████████████████████████████████████| 649526/649526 [00:00<00:00, 1851926.29it/s]\n",
      "100%|████████████████████████████████████████████████████████████████████████████████████████████████████████████████████████████| 649526/649526 [00:08<00:00, 80190.02it/s]\n"
     ]
    }
   ],
   "source": [
    "tokenized_docs = []\n",
    "for i, doc in enumerate(tqdm.tqdm(results, desc='Extracting Tokens')):\n",
    "    tokenized_docs.append(doc.tokens)\n",
    "\n",
    "author2doc = defaultdict(list)\n",
    "for i, doc in enumerate(tqdm.tqdm(results, desc='Extracting Author Docs')):\n",
    "    author2doc[doc.author].append(i)\n",
    "author2doc = dict(author2doc)\n",
    "        \n",
    "dictionary = Dictionary(tokenized_docs)\n",
    "\n",
    "corpus = [dictionary.doc2bow(tokenized_doc) for tokenized_doc in tqdm.tqdm(tokenized_docs)]"
   ]
  },
  {
   "cell_type": "code",
   "execution_count": 11,
   "id": "bbd90b64-5c20-4d51-b0f6-1b9b02656527",
   "metadata": {},
   "outputs": [
    {
     "data": {
      "text/plain": [
       "(6, 604753)"
      ]
     },
     "execution_count": 11,
     "metadata": {},
     "output_type": "execute_result"
    }
   ],
   "source": [
    "def create_eta(keywords, vocab, num_topics, pseudo_count=1e7, normalize=True):\n",
    "    # create a (ntopics, nterms) matrix and fill with 1\n",
    "    eta = np.full(shape=(num_topics, len(vocab)), fill_value=1)\n",
    "    # for each topic in the seed dict\n",
    "    topic2id = {topic: i for i, topic in enumerate(keywords)}\n",
    "    # for each topic in the seed dict\n",
    "    for topic, tokens in keywords.items():\n",
    "        # for each seed token that is in vocab\n",
    "        for token in tokens:\n",
    "            if token in vocab.token2id:\n",
    "                eta[topic2id[topic], vocab.token2id[token]] = pseudo_count\n",
    "    if normalize:\n",
    "        eta = np.divide(eta, eta.sum(axis=0))\n",
    "    return eta\n",
    "\n",
    "eta = create_eta(keywords, dictionary, len(keywords) + 1, len(corpus) // 100, normalize=True)\n",
    "\n",
    "eta.shape"
   ]
  },
  {
   "cell_type": "code",
   "execution_count": 12,
   "id": "9daae715-6684-4385-a3f5-5a07e87d72c3",
   "metadata": {
    "scrolled": true,
    "tags": []
   },
   "outputs": [],
   "source": [
    "# Set training parameters.\n",
    "kwargs = {\n",
    "    'passes': 20,\n",
    "    'iterations': 400,\n",
    "    'chunksize': 2000,\n",
    "}\n",
    "\n",
    "with temporary_file('serialized') as s_path:\n",
    "    model = GensimAuthorTopicModel(\n",
    "        corpus,\n",
    "        author2doc=author2doc, \n",
    "        chunksize=kwargs.get('chunksize', 1000),\n",
    "        passes=kwargs.get('passes', 1),\n",
    "        iterations=kwargs.get('iterations', 50),\n",
    "        id2word=dictionary, \n",
    "        num_topics=eta.shape[0],\n",
    "        eta=eta,\n",
    "        serialized=True, \n",
    "        serialization_path=s_path,\n",
    "        eval_every=None,\n",
    "    )"
   ]
  },
  {
   "cell_type": "code",
   "execution_count": 13,
   "id": "69c681ad-ac38-45fa-89e6-a72b8d01a8bc",
   "metadata": {},
   "outputs": [],
   "source": [
    "author_vecs = [model.get_author_topics(author) for author in model.id2author.values()]"
   ]
  },
  {
   "cell_type": "code",
   "execution_count": 14,
   "id": "489c7ad6-694f-4dac-8f03-3be71a6b43fa",
   "metadata": {},
   "outputs": [
    {
     "name": "stdout",
     "output_type": "stream",
     "text": [
      "00 million                       0.010\n",
      "00 black                         0.010\n",
      "00 broward                       0.007\n",
      "00 reporter                      0.007\n",
      "00 oil                           0.006\n",
      "00 gas                           0.005\n",
      "00 tested                        0.004\n",
      "00 email                         0.004\n",
      "00 editor                        0.004\n",
      "00 plant                         0.004\n",
      "01 que                           0.009\n",
      "01 increase                      0.008\n",
      "01 puerto                        0.007\n",
      "01 species                       0.007\n",
      "01 episode                       0.007\n",
      "01 https                         0.006\n",
      "01 los                           0.005\n",
      "01 rico                          0.005\n",
      "01 las                           0.004\n",
      "01 por                           0.003\n",
      "02 climate                       0.007\n",
      "02 change                        0.004\n",
      "02 journalists                   0.004\n",
      "02 students                      0.003\n",
      "02 stories                       0.003\n",
      "02 journalism                    0.003\n",
      "02 community                     0.003\n",
      "02 proactive                     0.003\n",
      "02 federal                       0.003\n",
      "02 board                         0.003\n",
      "03 https                         0.064\n",
      "03 new                           0.009\n",
      "03 people                        0.006\n",
      "03 amp                           0.006\n",
      "03 today                         0.006\n",
      "03 like                          0.006\n",
      "03 florida                       0.006\n",
      "03 covid                         0.005\n",
      "03 time                          0.005\n",
      "03 tropical                      0.005\n",
      "04 science                       0.017\n",
      "04 college                       0.008\n",
      "04 lol                           0.005\n",
      "04 cute                          0.004\n",
      "04 mom                           0.004\n",
      "04 apparently                    0.004\n",
      "04 scientist                     0.003\n",
      "04 models                        0.003\n",
      "04 topic                         0.003\n",
      "04 haha                          0.003\n",
      "05 #storm                        0.034\n",
      "05 http                          0.007\n",
      "05 pinellas                      0.004\n",
      "05 hillsborough                  0.004\n",
      "05 #studentaccommodation         0.002\n",
      "05 #university                   0.002\n",
      "05 moth                          0.002\n",
      "05 #weather                      0.001\n",
      "05 #VAwx                         0.001\n",
      "05 deer                          0.001\n"
     ]
    }
   ],
   "source": [
    "# Train the model on the corpus.\n",
    "for topic_id in range(model.num_topics):\n",
    "    for term_id, p in model.get_topic_terms(topic_id):\n",
    "        print('{:>02} {:<30s}{:0.3f}'.format(topic_id, dictionary[term_id], p))"
   ]
  },
  {
   "cell_type": "code",
   "execution_count": 15,
   "id": "fab7679a-ec08-4d3e-a38f-0e3bf7716827",
   "metadata": {},
   "outputs": [],
   "source": [
    "model.save('../../../data/interim/models/models/v1.pt')"
   ]
  },
  {
   "cell_type": "code",
   "execution_count": 72,
   "id": "91a3e891-46b6-44ca-b830-8336771e1abb",
   "metadata": {},
   "outputs": [
    {
     "name": "stderr",
     "output_type": "stream",
     "text": [
      "100%|█████████████████████████████████████████████████████████████████████████████████████████████████████████████████████████████| 452347/452347 [02:09<00:00, 3490.85it/s]\n"
     ]
    }
   ],
   "source": [
    "tropic_proba = []\n",
    "\n",
    "# results[i].text\n",
    "\n",
    "for i in tqdm.tqdm(range(len(results))):\n",
    "    tropic_proba.append(list(zip(*model.get_new_author_topics(corpus[i:i+1])))[1])\n",
    "    \n",
    "tropic_proba = np.array(tropic_proba)"
   ]
  },
  {
   "cell_type": "code",
   "execution_count": 92,
   "id": "8fadfb59-8f19-41e5-bb69-60f51dd95479",
   "metadata": {},
   "outputs": [
    {
     "data": {
      "text/plain": [
       "(array([0, 1, 2, 3, 4, 5]),\n",
       " array([ 50292, 394793,   3890,    300,   2202,    870]))"
      ]
     },
     "execution_count": 92,
     "metadata": {},
     "output_type": "execute_result"
    }
   ],
   "source": [
    "np.unique(tropic_proba.argmax(axis=1), return_counts=True)"
   ]
  },
  {
   "cell_type": "code",
   "execution_count": null,
   "id": "c8e9692c-20f7-425f-8a3f-eca97dbad17d",
   "metadata": {},
   "outputs": [],
   "source": [
    "# Import seaborn\n",
    "import seaborn as sns\n",
    "\n",
    "# Apply the default theme\n",
    "sns.set_theme()"
   ]
  },
  {
   "cell_type": "code",
   "execution_count": 89,
   "id": "9473333a-c6c8-4739-81a0-ec83100afb06",
   "metadata": {},
   "outputs": [
    {
     "data": {
      "text/plain": [
       "<seaborn.axisgrid.FacetGrid at 0x7fe1e4f28f10>"
      ]
     },
     "execution_count": 89,
     "metadata": {},
     "output_type": "execute_result"
    },
    {
     "data": {
      "image/png": "[encoded data removed]",
      "text/plain": [
       "<Figure size 360x2160 with 6 Axes>"
      ]
     },
     "metadata": {},
     "output_type": "display_data"
    }
   ],
   "source": [
    "fig_data = [{'Topic': i, 'Probability': p} for i in range(tropic_proba.shape[1]) for p in tropic_proba[:, i]]\n",
    "\n",
    "fig_df = pd.DataFrame(fig_data)\n",
    "\n",
    "sns.displot(fig_df, x='Probability', row='Topic')"
   ]
  },
  {
   "cell_type": "code",
   "execution_count": null,
   "id": "cf37b966-9eb8-4f7e-a2b6-29e2ac652b9b",
   "metadata": {},
   "outputs": [],
   "source": []
  }
 ],
 "metadata": {
  "kernelspec": {
   "display_name": "Python 3 (ipykernel)",
   "language": "python",
   "name": "python3"
  },
  "language_info": {
   "codemirror_mode": {
    "name": "ipython",
    "version": 3
   },
   "file_extension": ".py",
   "mimetype": "text/x-python",
   "name": "python",
   "nbconvert_exporter": "python",
   "pygments_lexer": "ipython3",
   "version": "3.9.7"
  }
 },
 "nbformat": 4,
 "nbformat_minor": 5
}
