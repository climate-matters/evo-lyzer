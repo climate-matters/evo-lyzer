{
 "cells": [
  {
   "cell_type": "code",
   "execution_count": 1,
   "id": "6268b877-b974-4ce1-a6ca-2d7a166b1497",
   "metadata": {},
   "outputs": [
    {
     "name": "stderr",
     "output_type": "stream",
     "text": [
      "/Users/yasas/Documents/Projects/climate-matters/evo-lyzer/venv/lib/python3.9/site-packages/past/builtins/misc.py:45: DeprecationWarning: the imp module is deprecated in favour of importlib; see the module's documentation for alternative uses\n",
      "  from imp import reload\n"
     ]
    }
   ],
   "source": [
    "import os\n",
    "import sys\n",
    "\n",
    "if os.path.abspath('../..') not in sys.path:\n",
    "    sys.path.append(os.path.abspath('../..'))\n",
    "    \n",
    "import json\n",
    "import shutil\n",
    "import datetime\n",
    "\n",
    "from dateutil.relativedelta import relativedelta\n",
    "import tqdm\n",
    "\n",
    "import scipy\n",
    "import scipy.stats as st\n",
    "from scipy.spatial import distance\n",
    "\n",
    "import numpy as np\n",
    "import pandas as pd\n",
    "\n",
    "from sqlalchemy.orm.exc import NoResultFound\n",
    "\n",
    "from src.corpus import load_tweets\n",
    "from src.dataset import load_dataset \n",
    "from src.config import config\n",
    "from src.utils.backup import FileBackup\n",
    "from src.dashboard.models import db, Collection, CollectionTopicProba, Document, TopicModelLoader, Topic, Subject\n",
    "from src.dashboard.app import app\n",
    "\n",
    "import matplotlib.pyplot as plt\n",
    "import seaborn as sns\n",
    "\n",
    "sns.set_theme(style='darkgrid')"
   ]
  },
  {
   "cell_type": "code",
   "execution_count": null,
   "id": "7dec1421-c96e-4a30-a327-3fee36d56b0a",
   "metadata": {},
   "outputs": [],
   "source": [
    "with app.app_context():\n",
    "    models = TopicModelLoader.query.all()"
   ]
  },
  {
   "cell_type": "code",
   "execution_count": 5,
   "id": "210a56a9-fffb-431b-ba56-d9044e220d28",
   "metadata": {},
   "outputs": [
    {
     "name": "stdout",
     "output_type": "stream",
     "text": [
      "8\n",
      "6\n",
      "1\n",
      "7\n",
      "9\n",
      "10\n",
      "2\n",
      "5\n",
      "4\n",
      "3\n"
     ]
    }
   ],
   "source": [
    "for model in models:\n",
    "    print(model.load().num_epochs)"
   ]
  },
  {
   "cell_type": "code",
   "execution_count": 33,
   "id": "3090325f-9a9d-4283-855c-83c66bd7b8f7",
   "metadata": {},
   "outputs": [
    {
     "name": "stdout",
     "output_type": "stream",
     "text": [
      "Topic 1 - Energy/Climate 0\n",
      "Topic 2 1\n",
      "Topic 3 2\n",
      "Topic 4 3\n",
      "Topic 5 4\n",
      "Topic 6 - Emissions/Gas 5\n"
     ]
    }
   ],
   "source": [
    "with app.app_context():\n",
    "    models = TopicModelLoader.query.all()\n",
    "    for topic in models[2].topics:\n",
    "        print(topic.label, topic.index)"
   ]
  },
  {
   "cell_type": "code",
   "execution_count": 34,
   "id": "9788bd11-8d84-4c7d-ad77-393c0f832bc3",
   "metadata": {},
   "outputs": [],
   "source": [
    "model = models[2].load()"
   ]
  },
  {
   "cell_type": "code",
   "execution_count": 35,
   "id": "365544ca-cd69-49bc-9cf0-3da0b714666a",
   "metadata": {},
   "outputs": [
    {
     "data": {
      "text/plain": [
       "1"
      ]
     },
     "execution_count": 35,
     "metadata": {},
     "output_type": "execute_result"
    }
   ],
   "source": [
    "model.num_epochs"
   ]
  },
  {
   "cell_type": "code",
   "execution_count": 36,
   "id": "c9bfe679-32f0-4669-a9f2-aa5a2b1ba0c5",
   "metadata": {},
   "outputs": [],
   "source": [
    "topic_terms = dict()\n",
    "for i in range(0, 6):\n",
    "    topic_label = 'Topic {}'.format(i+1)\n",
    "    topic_terms[topic_label] = []\n",
    "    for term_id, proba in model.get_topic_terms(i):\n",
    "        term = model.dictionary[term_id]\n",
    "        topic_terms[topic_label].append(term)"
   ]
  },
  {
   "cell_type": "code",
   "execution_count": 41,
   "id": "e1977cae-af4b-4b4c-8db6-8f23a8cc4a25",
   "metadata": {},
   "outputs": [
    {
     "name": "stdout",
     "output_type": "stream",
     "text": [
      "\\begin{tabular}{lllllllllll}\n",
      "\\toprule\n",
      "{} &         0 &          1 &          2 &           3 &        4 &        5 &         6 &        7 &               8 &        9 \\\\\n",
      "\\midrule\n",
      "Topic 1 &       gas &  emissions &        amp &  greenhouse &   plants &     goes &   methane &      ash &  greenhouse\\_gas &    covid \\\\\n",
      "Topic 2 &       oil &       coal &        new &      carbon &  climate &  science &      says &    trump &          fossil &   energy \\\\\n",
      "Topic 3 &  forecast &       snow &       rain &         day &  showers &      amp &   morning &  weather &         tonight &    night \\\\\n",
      "Topic 4 &  forecast &        epa &    morning &       today &    santa &      day &      rain &     goes &       afternoon &  weekend \\\\\n",
      "Topic 5 &     storm &    weather &  hurricane &    forecast &   severe &   storms &  tropical &   update &           winds &     area \\\\\n",
      "Topic 6 &      year &     county &     record &         new &     time &      air &     state &    years &           today &     know \\\\\n",
      "\\bottomrule\n",
      "\\end{tabular}\n",
      "\n"
     ]
    },
    {
     "name": "stderr",
     "output_type": "stream",
     "text": [
      "/var/folders/j6/3yj400mn1k1c_5czn3j_1mm00000gp/T/ipykernel_62496/2489409013.py:1: FutureWarning: In future versions `DataFrame.to_latex` is expected to utilise the base implementation of `Styler.to_latex` for formatting and rendering. The arguments signature may therefore change. It is recommended instead to use `DataFrame.style.to_latex` which also contains additional functionality.\n",
      "  print(pd.DataFrame(topic_terms).T.to_latex())\n"
     ]
    }
   ],
   "source": [
    "print(pd.DataFrame(topic_terms).T.to_latex())"
   ]
  },
  {
   "cell_type": "code",
   "execution_count": null,
   "id": "7c3f0746-0227-43eb-9710-a35cf4ae04bc",
   "metadata": {},
   "outputs": [],
   "source": []
  }
 ],
 "metadata": {
  "kernelspec": {
   "display_name": "Python 3 (ipykernel)",
   "language": "python",
   "name": "python3"
  },
  "language_info": {
   "codemirror_mode": {
    "name": "ipython",
    "version": 3
   },
   "file_extension": ".py",
   "mimetype": "text/x-python",
   "name": "python",
   "nbconvert_exporter": "python",
   "pygments_lexer": "ipython3",
   "version": "3.9.7"
  }
 },
 "nbformat": 4,
 "nbformat_minor": 5
}
