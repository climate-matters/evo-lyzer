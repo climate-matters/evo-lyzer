{
 "cells": [
  {
   "cell_type": "code",
   "execution_count": 1,
   "id": "d0a11713-c439-4954-9e20-bf1bdbae4d27",
   "metadata": {},
   "outputs": [
    {
     "name": "stderr",
     "output_type": "stream",
     "text": [
      "/Users/yasas/Documents/Projects/climate-matters/evo-lyzer/venv/lib/python3.9/site-packages/past/builtins/misc.py:45: DeprecationWarning: the imp module is deprecated in favour of importlib; see the module's documentation for alternative uses\n",
      "  from imp import reload\n"
     ]
    }
   ],
   "source": [
    "import os\n",
    "import sys\n",
    "\n",
    "if os.path.abspath('../..') not in sys.path:\n",
    "    sys.path.append(os.path.abspath('../..'))\n",
    "    \n",
    "import json\n",
    "import shutil\n",
    "import datetime\n",
    "\n",
    "from dateutil.relativedelta import relativedelta\n",
    "import tqdm\n",
    "\n",
    "import scipy\n",
    "import scipy.stats as st\n",
    "from scipy.spatial import distance\n",
    "from scipy.stats import mannwhitneyu, wilcoxon\n",
    "\n",
    "import numpy as np\n",
    "import pandas as pd\n",
    "\n",
    "from sqlalchemy.orm.exc import NoResultFound\n",
    "\n",
    "from src.corpus import load_tweets\n",
    "from src.dataset import load_dataset \n",
    "from src.config import config\n",
    "from src.utils.backup import FileBackup\n",
    "from src.dashboard.models import db, Collection, CollectionTopicProba, Document, TopicModelLoader, Topic, Subject\n",
    "from src.dashboard.app import app\n",
    "\n",
    "import matplotlib.pyplot as plt\n",
    "import seaborn as sns\n",
    "\n",
    "sns.set_theme(style='darkgrid')"
   ]
  },
  {
   "cell_type": "code",
   "execution_count": 2,
   "id": "e5b92753-089e-4797-9487-3c4e093fd990",
   "metadata": {},
   "outputs": [],
   "source": [
    "POSITIONS_MAP = {\n",
    "    'Meteorologist': 'Meteorologist',\n",
    "    'Reporter': 'Reporter',\n",
    "    'Producer': 'Reporter',\n",
    "    'Journalist': 'Reporter',\n",
    "    'Editor': 'Reporter',\n",
    "    'Other': 'Other',\n",
    "    'Student': 'Other',\n",
    "    'Academic': 'Other',\n",
    "    'Met Producer': 'Meteorologist',\n",
    "    'News Director': 'Reporter',\n",
    "    'Vice President': 'Reporter', \n",
    "    'Photographer': 'Reporter'\n",
    "}"
   ]
  },
  {
   "cell_type": "code",
   "execution_count": 3,
   "id": "8434be9f-c737-468d-8ad6-ebb05d240c88",
   "metadata": {},
   "outputs": [
    {
     "name": "stderr",
     "output_type": "stream",
     "text": [
      "Collecting Collection Probabilities: 100%|███████████████████████████████████████████████████████████████████████████████████████████| 63215/63215 [08:10<00:00, 128.92it/s]\n"
     ]
    }
   ],
   "source": [
    "with app.app_context():\n",
    "    model_loader = None\n",
    "    for model_loader in TopicModelLoader.query.all():\n",
    "        if (model_loader.model.num_epochs, model_loader.model.num_topics) == (1, 6):\n",
    "            break\n",
    "    cs = Collection.query.all()\n",
    "    data, tuples = [], []\n",
    "    for c in tqdm.tqdm(cs, desc='Collecting Collection Probabilities'):\n",
    "        topics = c.get_topic_dist(model_loader)\n",
    "        num_docs = len(c.documents)\n",
    "        proba_sum = 0\n",
    "        for t in topics:\n",
    "            proba_sum += t.proba\n",
    "        if c.subject is None:\n",
    "            continue\n",
    "        event_id = 'None'\n",
    "        event_type = 'None'\n",
    "        if c.event:\n",
    "            event_id = c.event.id\n",
    "            event_type = c.event.event_type\n",
    "        groups = c.group.split('-')\n",
    "        index = 0\n",
    "        try:\n",
    "            index = int(groups[-1])\n",
    "            group = '-'.join(groups[:-1])\n",
    "        except ValueError as ex:\n",
    "            group = '-'.join(groups)\n",
    "        tuples += [(c.id, c.type, group, index, c.subject_id, event_id, event_type, POSITIONS_MAP[c.subject.position], num_docs)]\n",
    "        data.append({topic_proba.topic.label: topic_proba.proba for i, topic_proba in enumerate(topics)})\n",
    "    index = pd.MultiIndex.from_tuples(tuples, names=['id', 'type', 'group', 'index', 'subject_id', \n",
    "                                                     'event_id', 'event_type', 'position', 'num_docs'])\n",
    "    df = pd.DataFrame.from_records(data)\n",
    "    df.index = index\n",
    "    relevant_topics = Topic.query.filter(\n",
    "        Topic.topic_model_loader_id == model_loader.id,\n",
    "        Topic.is_relevant.is_(True),\n",
    "    ).all()"
   ]
  },
  {
   "cell_type": "code",
   "execution_count": 168,
   "id": "4a165fa1-a7a0-443c-8514-3ceeb44c8b59",
   "metadata": {},
   "outputs": [],
   "source": [
    "unfiltered_df = df\n",
    "del df"
   ]
  },
  {
   "cell_type": "code",
   "execution_count": 290,
   "id": "2827f84f-56f3-4768-970f-d8d636ca1a23",
   "metadata": {},
   "outputs": [
    {
     "data": {
      "text/plain": [
       "['Topic 1 - Emissions/Gas',\n",
       " 'Topic 2 - Energy/Cliamate/Oil/Gas',\n",
       " 'Topic 3 - Forecast',\n",
       " 'Topic 4 - Forecast',\n",
       " 'Topic 5 - Forecast/Strom']"
      ]
     },
     "execution_count": 290,
     "metadata": {},
     "output_type": "execute_result"
    }
   ],
   "source": [
    "# relevant_topics_cols = ['Topic 1 - Emissions/Gas', 'Topic 2 - Energy/Cliamate/Oil/Gas']\n",
    "relevant_topics_cols = unfiltered_df.columns[:-1].tolist()\n",
    "\n",
    "relevant_topics_cols"
   ]
  },
  {
   "cell_type": "code",
   "execution_count": 282,
   "id": "4aab95c9-aa47-414c-9f79-32e1154f7afa",
   "metadata": {},
   "outputs": [],
   "source": [
    "def index_filter(df, **kwargs):\n",
    "    filters = None\n",
    "    for key, value in kwargs.items():\n",
    "        item_filter = df.index.get_level_values(key) == value\n",
    "        if filters is None:\n",
    "            filters = item_filter\n",
    "        else:\n",
    "            filters = filters & item_filter\n",
    "    return filters"
   ]
  },
  {
   "cell_type": "code",
   "execution_count": 311,
   "id": "e317fdb6-3900-4501-8aec-ab144db2bdbc",
   "metadata": {},
   "outputs": [],
   "source": [
    "# data_df = unfiltered_df[index_filter(unfiltered_df, type='intra-subject')] \\\n",
    "#         .loc[:, relevant_topics_cols] \\\n",
    "#         .sum(axis=1) \\\n",
    "#         .reset_index(drop=False, name='Topic Relevance')\n",
    "\n",
    "# data_df['Event Type'] = data_df['event_type'].map({'Joined': 'Join', 'Workshop': 'Workshop'})\n",
    "# data_df = data_df.assign(Position=data_df['position'].map(POSITIONS_MAP))\n",
    "\n",
    "# data_df = data_df[data_df['Position'] == 'Meteorologist']\n",
    "\n",
    "# no_one_df = (data_df.groupby(['subject_id', 'event_id'])['group'].count() == 2).reset_index()\n",
    "\n",
    "# data_df = data_df.merge(no_one_df, on=['subject_id', 'event_id'], suffixes=('', '_y'))\n",
    "\n",
    "# data_df = data_df[data_df.group_y].drop('group_y', axis=1)\n",
    "\n",
    "# # ---\n",
    "\n",
    "# num_docs_y = data_df.groupby(['subject_id', 'event_id'])['Topic Relevance'].sum().sort_values()\n",
    "\n",
    "# num_docs_x = list(range(1, len(num_docs_y) + 1))\n",
    "\n",
    "# sns.lineplot(x=num_docs_x, y=num_docs_y)\n",
    "\n",
    "# num_docs_y = num_docs_y[num_docs_y > num_docs_y.quantile(0.8)]\n",
    "# print(len(num_docs_y))\n",
    "# sns.lineplot(x=num_docs_x[:len(num_docs_y)], y=num_docs_y)\n",
    "\n",
    "# plt.show()\n",
    "\n",
    "# num_docs_y_df = num_docs_y.index.to_frame().reset_index(drop=True)\n",
    "\n",
    "# num_docs_y_df['filter'] = True\n",
    "\n",
    "# filter_idx = np.where(unfiltered_df.index.to_frame()[['subject_id', 'event_id']] \\\n",
    "#     .reset_index(drop=True) \\\n",
    "#     .merge(num_docs_y_df, how='left', on=['subject_id', 'event_id'])['filter'] \\\n",
    "#     .fillna(False))\n",
    "\n",
    "# filtered_df = unfiltered_df.iloc[filter_idx]\n",
    "\n",
    "filtered_df = unfiltered_df"
   ]
  },
  {
   "cell_type": "code",
   "execution_count": 315,
   "id": "e86525b0-f6ac-471b-ac58-e4273cb42784",
   "metadata": {},
   "outputs": [
    {
     "name": "stdout",
     "output_type": "stream",
     "text": [
      "Event Type:  Join\n",
      "Number of subjects:  732\n",
      "w:  51568.0 , P-value:  4.347440023016305e-12 Reject null hypothesis\n",
      "Average relevance probability (Before event) 0.31167650129131896\n",
      "Average relevance probability (After event) 0.41080193395727\n",
      "Increment:  31.80%\n",
      "\n",
      "Event Type:  Workshop\n",
      "Number of subjects:  24\n",
      "w:  73.0 , P-value:  0.23015077818970942 Accept null hypothesis\n",
      "Average relevance probability (Before event) 0.37393287119062\n",
      "Average relevance probability (After event) 0.4703993485088777\n",
      "Increment:  25.80%\n",
      "\n",
      "Event Type: All\n",
      "Number of subjects:  738\n",
      "w:  55455.0 , P-value:  3.432005685263213e-12 Reject null hypothesis\n",
      "Average relevance probability (Before event) 0.3136476792300831\n",
      "Average relevance probability (After event) 0.41268892333621277\n",
      "Increment:  31.58%\n"
     ]
    },
    {
     "name": "stderr",
     "output_type": "stream",
     "text": [
      "/Users/yasas/Documents/Projects/climate-matters/evo-lyzer/venv/lib/python3.9/site-packages/scipy/stats/_morestats.py:3145: UserWarning: Exact p-value calculation does not work if there are ties. Switching to normal approximation.\n",
      "  warnings.warn(\"Exact p-value calculation does not work if there are \"\n"
     ]
    },
    {
     "data": {
      "image/png": "[encoded data removed]",
      "text/plain": [
       "<Figure size 720x360 with 2 Axes>"
      ]
     },
     "metadata": {},
     "output_type": "display_data"
    }
   ],
   "source": [
    "data_df = filtered_df[index_filter(filtered_df, type='intra-subject')] \\\n",
    "        .loc[:, relevant_topics_cols] \\\n",
    "        .sum(axis=1) \\\n",
    "        .reset_index(drop=False, name='Topic Relevance')\n",
    "\n",
    "data_df['Event Type'] = data_df['event_type'].map({'Joined': 'Join', 'Workshop': 'Workshop'})\n",
    "data_df = data_df.assign(Position=data_df['position'].map(POSITIONS_MAP))\n",
    "\n",
    "data_df = data_df[data_df['Position'] == 'Meteorologist']\n",
    "\n",
    "no_one_df = (data_df.groupby(['subject_id', 'event_id'])['group'].count() == 2).reset_index()\n",
    "\n",
    "data_df = data_df.merge(no_one_df, on=['subject_id', 'event_id'], suffixes=('', '_y'))\n",
    "\n",
    "data_df = data_df[data_df.group_y].drop('group_y', axis=1)\n",
    "\n",
    "for event_type in data_df['Event Type'].unique():\n",
    "    print('Event Type: ', event_type)\n",
    "    event_df = data_df[data_df['Event Type'] == event_type]\n",
    "    before_df = event_df[event_df['group'] == 'Before'].set_index(['subject_id', 'event_id'])\n",
    "    num_subjects = len(before_df.index.get_level_values('subject_id').unique())\n",
    "    before_s = before_df['Topic Relevance']\n",
    "    after_df = event_df[event_df['group'] == 'After'].set_index(['subject_id', 'event_id'])\n",
    "    after_df = after_df.loc[before_df.index, :]\n",
    "    after_s = after_df['Topic Relevance']\n",
    "    w, p = wilcoxon(after_s, before_s, alternative='greater')\n",
    "    print('Number of subjects: ', num_subjects)\n",
    "    print('w: ', w, ', P-value: ', p, 'Reject null hypothesis' if p < 0.05 else 'Accept null hypothesis')\n",
    "    # U1, p = mannwhitneyu(after_s, before_s, alternative='greater')\n",
    "    # print('U:', U1, ', P-value: ', p, 'Reject null hypothesis' if p < 0.05 else 'Accept null hypothesis')\n",
    "    bm, am = before_s.mean(), after_s.mean()\n",
    "    print('Average relevance probability (Before event)', bm)\n",
    "    print('Average relevance probability (After event)', am)\n",
    "    print('Increment: ', '{:0.2f}%'.format((am - bm) * 100 / (bm)))\n",
    "    print()\n",
    "\n",
    "print('Event Type: All')\n",
    "before_df = data_df[data_df['group'] == 'Before'].set_index(['subject_id', 'event_id'])\n",
    "before_s = before_df['Topic Relevance']\n",
    "num_subjects = len(before_df.index.get_level_values('subject_id').unique())\n",
    "after_df = data_df[data_df['group'] == 'After'].set_index(['subject_id', 'event_id'])\n",
    "after_df = after_df.loc[before_df.index, :]\n",
    "after_s = after_df['Topic Relevance']\n",
    "w, p = wilcoxon(after_s, before_s, alternative='greater')\n",
    "print('Number of subjects: ', num_subjects)\n",
    "print('w: ', w, ', P-value: ', p, 'Reject null hypothesis' if p < 0.05 else 'Accept null hypothesis')\n",
    "bm, am = before_s.mean(), after_s.mean()\n",
    "print('Average relevance probability (Before event)', bm)\n",
    "print('Average relevance probability (After event)', am)\n",
    "print('Increment: ', '{:0.2f}%'.format((am - bm) * 100 / (bm)))\n",
    "\n",
    "# data_df['Log Topic Relevance'] = np.log(data_df['Topic Relevance'])\n",
    "\n",
    "fig, axs = plt.subplots(ncols=2)\n",
    "\n",
    "fig.set_size_inches(10, 5)\n",
    "\n",
    "ax = axs[0]\n",
    "sns.histplot(data_df, x='Topic Relevance', bins=20, hue='group', stat='density', kde=True, common_norm=False, ax=ax)\n",
    "ax.set_title('Topic Relevance (pdf)')\n",
    "\n",
    "ax = sns.ecdfplot(data=data_df, x='Topic Relevance', hue='group', ax=axs[1])\n",
    "ax.set_title('Topic Relevance (cdf)')\n",
    "\n",
    "fig.tight_layout()\n",
    "plt.savefig('intra-subject-topic-relevance-topic-1-5.png', bbox_inches='tight')"
   ]
  },
  {
   "cell_type": "code",
   "execution_count": 288,
   "id": "cd5d42f8-d43c-4ae3-8507-14b74d952f84",
   "metadata": {},
   "outputs": [],
   "source": [
    "# data_df = unfiltered_df[index_filter(unfiltered_df, type='intra-subject-consistency')] \\\n",
    "#         .loc[:, relevant_topics_cols] \\\n",
    "#         .sum(axis=1) \\\n",
    "#         .reset_index(drop=False, name='Topic Relevance')\n",
    "\n",
    "# data_df['Event Type'] = data_df['event_type'].map({'Joined': 'Join', 'Workshop': 'Workshop'})\n",
    "# data_df = data_df.assign(Position=data_df['position'].map(POSITIONS_MAP))\n",
    "\n",
    "# data_df = data_df[data_df['Position'] == 'Meteorologist']\n",
    "\n",
    "# # ---\n",
    "\n",
    "# num_docs_y = data_df.groupby(['subject_id', 'event_id'])['Topic Relevance'].sum().sort_values()\n",
    "\n",
    "# num_docs_x = list(range(1, len(num_docs_y) + 1))\n",
    "\n",
    "# sns.lineplot(x=num_docs_x, y=num_docs_y)\n",
    "\n",
    "# num_docs_y = num_docs_y[num_docs_y > num_docs_y.quantile(0.8)]\n",
    "# print(len(num_docs_y))\n",
    "# sns.lineplot(x=num_docs_x[:len(num_docs_y)], y=num_docs_y)\n",
    "\n",
    "# plt.show()\n",
    "\n",
    "# num_docs_y_df = num_docs_y.index.to_frame().reset_index(drop=True)\n",
    "\n",
    "# num_docs_y_df['filter'] = True\n",
    "\n",
    "# filter_idx = np.where(unfiltered_df.index.to_frame()[['subject_id', 'event_id']] \\\n",
    "#     .reset_index(drop=True) \\\n",
    "#     .merge(num_docs_y_df, how='left', on=['subject_id', 'event_id'])['filter'] \\\n",
    "#     .fillna(False))\n",
    "\n",
    "# filtered_df = unfiltered_df.iloc[filter_idx]\n",
    "filtered_df = unfiltered_df"
   ]
  },
  {
   "cell_type": "code",
   "execution_count": 317,
   "id": "07409f6a-e3ef-4a5e-a15a-ea43f680dc66",
   "metadata": {},
   "outputs": [
    {
     "name": "stdout",
     "output_type": "stream",
     "text": [
      "U:  325876.5 , P-value:  3.8198236357165246e-07 Reject null hypothesis\n",
      "Average consistency (Before event) 2.568388372488173\n",
      "Average consistency (After event) 2.6640166715905735\n",
      "Increment:  3.72%\n"
     ]
    },
    {
     "name": "stderr",
     "output_type": "stream",
     "text": [
      "/Users/yasas/Documents/Projects/climate-matters/evo-lyzer/venv/lib/python3.9/site-packages/pandas/core/arraylike.py:397: RuntimeWarning: divide by zero encountered in log\n",
      "  result = getattr(ufunc, method)(*inputs, **kwargs)\n"
     ]
    },
    {
     "data": {
      "image/png": "[encoded data removed]",
      "text/plain": [
       "<Figure size 1080x360 with 2 Axes>"
      ]
     },
     "metadata": {},
     "output_type": "display_data"
    }
   ],
   "source": [
    "data_df = filtered_df[index_filter(filtered_df, type='intra-subject-consistency')] \\\n",
    "        .loc[:, relevant_topics_cols].sum(axis=1) \\\n",
    "        .reset_index(name='proba') \\\n",
    "        .pivot_table(\n",
    "            index=['type', 'group', 'subject_id', 'event_id', 'event_type', 'position'], \n",
    "            columns=['index'], \n",
    "            values='proba',\n",
    "        ) \\\n",
    "        .dropna()\n",
    "\n",
    "# data_df = data_df[data_df.std(axis=1) > 0]\n",
    "consistency_df = data_df.mean(axis=1) / data_df.std(axis=1) \n",
    "consistency_df = consistency_df.fillna(0.0)\n",
    "\n",
    "sub_fig_df = consistency_df.reset_index(drop=False, name='Consistency')\n",
    "sub_fig_df['Group'] = sub_fig_df['group']\n",
    "sub_fig_df = sub_fig_df.assign(Position=sub_fig_df['position'].map(POSITIONS_MAP))\n",
    "sub_fig_df = sub_fig_df[sub_fig_df['Position'] == 'Meteorologist']\n",
    "\n",
    "after_s = sub_fig_df[sub_fig_df['Group']=='After']['Consistency']\n",
    "before_s = sub_fig_df[sub_fig_df['Group']=='Before']['Consistency']\n",
    "\n",
    "U1, p = mannwhitneyu(after_s, before_s, alternative='greater')\n",
    "print('U: ', U1, ', P-value: ', p, 'Reject null hypothesis' if p < 0.05 else 'Accept null hypothesis')\n",
    "\n",
    "bm, am = before_s.mean(), after_s.mean()\n",
    "print('Average consistency (Before event)', bm)\n",
    "print('Average consistency (After event)', am)\n",
    "print('Increment: ', '{:0.2f}%'.format((am - bm) * 100 / (bm)))\n",
    "\n",
    "fig, axs = plt.subplots(ncols=2, figsize=(15, 5))\n",
    "\n",
    "ax = axs[0]\n",
    "\n",
    "sub_fig_df['Log Consistency'] = np.log(sub_fig_df['Consistency'])\n",
    "\n",
    "sns.histplot(sub_fig_df, x='Log Consistency', bins=20, hue='Group', stat='density', kde=True, common_norm=False, ax=ax,\n",
    "                hue_order=['After', 'Before'])\n",
    "# ax.axvline(x=after_s.mean(), color='blue', ls='--', lw=2.5)\n",
    "# ax.axvline(x=before_s.mean(), color='orange', ls='--', lw=2.5)\n",
    "ax.set_title('Log Consistency (pdf)')\n",
    "\n",
    "ax = sns.ecdfplot(data=sub_fig_df, x='Log Consistency', hue='group', ax=axs[1], hue_order=['After', 'Before'])\n",
    "ax.set_title('Log Consistency (cdf)')\n",
    "\n",
    "fig.tight_layout()\n",
    "plt.savefig('intra-subject-log-consistency-topic-1-5.png', bbox_inches='tight')"
   ]
  },
  {
   "cell_type": "code",
   "execution_count": 291,
   "id": "599d11c7-63c5-476f-9ddc-b2c82941109e",
   "metadata": {},
   "outputs": [],
   "source": [
    "from src.corpus.keywords import keywords"
   ]
  },
  {
   "cell_type": "code",
   "execution_count": 293,
   "id": "93cd6f9c-602c-46a3-8f3a-266dbac6eda9",
   "metadata": {},
   "outputs": [
    {
     "data": {
      "text/plain": [
       "{'causes': 0, 'problem': 1, 'solution': 2, 'description': 3, 'analysis': 4}"
      ]
     },
     "execution_count": 293,
     "metadata": {},
     "output_type": "execute_result"
    }
   ],
   "source": [
    "topic2id = {topic: i for i, topic in enumerate(keywords)}\n",
    "\n",
    "topic2id"
   ]
  },
  {
   "cell_type": "code",
   "execution_count": 318,
   "id": "462e2a01-84d6-4fd0-8a1e-f7accd64ec82",
   "metadata": {},
   "outputs": [
    {
     "name": "stdout",
     "output_type": "stream",
     "text": [
      "0 | causes | chlorofluorocarbons, nitrous oxides, carbon dioxide emissions, hydrochlorofluorocarbons, aerosol, power plant, aerosols, perfluorocarbons, mauna loa, 400ppm, halocarbon, coal fired power plants, power plants, heat-trapping gases, fracking, climate denier, chlorofluorocarbon, climate skeptic, gas, carbon footprint, nitrous oxide, nmvocs, anthropogenic climate change, enhanced greenhouse effect, black carbon, coal, parts per million, greenhouse gases, hfc, halocarbons, keeling curve, fossil fuel, 400 ppm, coal power plants, carbon dioxide, natural gas, hydrochlorofluorocarbon, fossil fuels, nitrogen oxide, hydrofluorocarbon, co2 emissions, hfcs, fluorinated gases, heat trapping gas, greenhouse effect, coal fired power plant, climate sceptic, carbon dioxides, co2, coalbed methane, greenhouse gas, coal-fired power plant, fluorocarbons, heat-trapping gas, perfluorocarbon, methane, nmvoc, hcfcs, hydrofluorocarbons, hydraulic fracturing, coal-fired power plants, emission, carbon sink, particulate matter, carbon emissions, heat trapping gases, keystone, coal power plant, greenhouse gasses, emissions, fluorocarbon, oil, carbon pollution, nitrogen oxides, hcfc, parts per billion, anthropogenic, enteric fermentation, carbon, crude oil, parts per trillion, fluorinated gas\n",
      "1 | problem | heat, invasive species, gaining ice, climate shift, melting glaciers, record high temperatures, climate thresholds, heat wave, climate change heats north pole, spike, early winter heat wave, temperature swings, sea surface temperature, ice free regions, climate system, climate vulnerability, hotter, sea surface temperatures, albedo, climate refugee, ho, ho, hot!, sea ice melt, glacier melt, extra warm, variability, ice free region, phytoplankton blooming, globalwarming, critical threshold, historical low, extreme temperature, sea ice, losing ice, extreme warm event, freeze-up, upward trend, sea level rise, above normal, ice cap melting, global warming vulnerability, water temperature, ice caps, ice vanishing, oscillation, unseasonal sea ice decline, tipping point, large storms, ice loss, warm episodes, temperature increase, climate forcing, glacial melt, glacier, climate shifts, freezing sea ice, extreme warmth, transport heat, sea ice melting, extremely warm, species extinction, large temperature increases, global warming, climate variability, climate systems, spikes, climate threshold, critical thresholds, vulnerability, permafrost, climate feedback, hot, largest temperature increase, ocean acidification, sea ice thinning, reindeer, extreme heat, above average, warm episode, albedo-feedback, temperature anomaly, warming, sst, freezing point, global average temperature, arctic amplification, record low ice extent, anomalies, energy imbalance, thermal radiation, large storm, historical high, climate refugees, glaciers, risk, heat absorbed, water temperatures, retreating, retreat, warming trend, sea level rising, re-freezing sea ice, vanishing ice, temperature swing, degrees above normal, freak temperatures, sea ice retreat, polar amplification, freak temperature, ice cap melt, buoy, ice cap, record-low ice coverage, climate, fastest-warming, radiative forcing, sea ice thin, flux, anomaly, mass of ice, globe is warming, extra warming, climate change, climate sensitivity, drought, sea ice extent, heat rise and temperatures, sea ice dip, temperature increases, extreme temperatures, desertification, globe has warmed, globe will be warming, large temperature increase, jet stream, ice gain, heating, sea ice growth, sea ice dynamics, energy balance, sea ice area, melting point, climatechange, wildfire\n",
      "2 | solution | energy efficiency, recycle, climate change preparedness, biodiesel, renewable sources of energy, carbon credit, solar energy, wind power, carbon offsets, zero carbon, environmental accounting, hydropower, advanced biofuels, biofuel, solar, solar panel, clean power, community solar, ethanol, renewable sources of power, carbon neutral, mitigation, recycling, solar panels, global warming adaptation, afforestation, carbon trading, corn ethanol, biofuels, climate resilience, eco-friendly, distributed wind, renewable power, cellulosic biofuel, corn based ethanol, carbon sequestration, energy efficient, clean energy, solar power, carbon capture, climate change resilience, wind turbines, eco friendly, alternative energy, climate change adaptation, wind turbine, carbon offset, montreal protocol, cleantech, decarbonize, corn-based ethanol, carbon neutrality, kyoto protocol, alternative power, cap and trade, emissions trading, renewable energy, distributed solar, global warming resilience, alternative sources of energy, climate adaptation, carbon credits, mitigate, reforestation, alternative sources of power, global warming preparedness, climate preparedness, carbon tax, wind energy, emission standards, advanced biofuel, cellulosic biofuels\n",
      "3 | description | 23 degrees above normal, oldenborgh, decadal north atlantic variability, yamal peninsula, dr. otto, national oceanic and atmospheric administration, marc macias-fauria, north-western siberia, cmip5 multi-model ensemble, weather underground, environmental change institute, noaa, environmental protection agency, sarah kew, svalbard, epa, world weather attribution, national snow and ice data center, oxford, ipcc, 40 degrees above normal, amo, fredi otto, jeremy mathis, climate central, siberia, aerosols, friederike otto, otto, 275000, intergovernmental panel on climate change, unfccc, andrew king, dr otto, zachary labe, nsidc, wwa, agw, 30-35 degrees above normal, north pole environmental observatory, 35 degrees fahrenheit, david karoly, heidi cullen, geert jan van oldenborgh, santa, nca, november-december 2016, weather@home, eci, national climate assessment, north atlantic variability, 2013 ipcc ar5 report, longyearbyen, oxford university, peter uhe, arctic research program, goes, cullen, sjoukje philip, beaufort sea, 22 percent out of 275,000, franz joseph islands, gaussian, positive feedback\n",
      "4 | analysis | weather systems, forecast, science, weather attribution, weather model, scientist, climate scenarios, historical record, historical records, world weather attribution, climate attribution, satellite imagery, extremely, satellite image, extreme event, climate science, unusual, event likelihood, climate central, climate matters, historical simulations, extremely unlikely, probability, attribution study, coupled climate models, climatematters, satellite images, extreme event attribution, climatecentral, coupled climate model, extreme, climate predictions, climate prediction, rare, event frequency, hadam3p, forecasting, probabilities, climate projection, climate projections, historical simulation, event attribution, modulated, extreme weather attribution, weather system, climate scenario, climate scientist, attribution, weather models\n"
     ]
    }
   ],
   "source": [
    "for x, y in keywords.items():\n",
    "    print(topic2id[x], '|', x, '|', ', '.join(y))"
   ]
  },
  {
   "cell_type": "code",
   "execution_count": null,
   "id": "8e6c2bb1-ac39-4fef-a5a4-0c5a9ae51561",
   "metadata": {},
   "outputs": [],
   "source": []
  }
 ],
 "metadata": {
  "kernelspec": {
   "display_name": "Python 3 (ipykernel)",
   "language": "python",
   "name": "python3"
  },
  "language_info": {
   "codemirror_mode": {
    "name": "ipython",
    "version": 3
   },
   "file_extension": ".py",
   "mimetype": "text/x-python",
   "name": "python",
   "nbconvert_exporter": "python",
   "pygments_lexer": "ipython3",
   "version": "3.9.7"
  }
 },
 "nbformat": 4,
 "nbformat_minor": 5
}
