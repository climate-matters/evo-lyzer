{
 "cells": [
  {
   "cell_type": "code",
   "execution_count": 1,
   "id": "330a20b3-affe-4ab5-bf09-56acf8890d9e",
   "metadata": {},
   "outputs": [],
   "source": [
    "# OPTIONAL: Load the \"autoreload\" extension so that code can change\n",
    "%load_ext autoreload"
   ]
  },
  {
   "cell_type": "code",
   "execution_count": 2,
   "id": "37c18420-4c62-4254-868b-dca5aae60a3e",
   "metadata": {},
   "outputs": [],
   "source": [
    "# OPTIONAL: always reload modules so that as you change code in src, it gets loaded\n",
    "%autoreload 2"
   ]
  },
  {
   "cell_type": "code",
   "execution_count": 3,
   "id": "0eae6c09-d2f9-40e6-b95a-1660835455a2",
   "metadata": {},
   "outputs": [],
   "source": [
    "import os\n",
    "import sys\n",
    "\n",
    "if os.path.abspath('../../..') not in sys.path:\n",
    "    sys.path.append(os.path.abspath('../../..'))"
   ]
  },
  {
   "cell_type": "code",
   "execution_count": 4,
   "id": "9ac7210a-5c16-4d12-8dba-f54c89615259",
   "metadata": {},
   "outputs": [],
   "source": [
    "MODEL_VERSION = 0"
   ]
  },
  {
   "cell_type": "code",
   "execution_count": 5,
   "id": "60eecb6b-17a5-4fd1-97c9-12a13f90427c",
   "metadata": {},
   "outputs": [
    {
     "data": {
      "text/html": [
       "\n",
       "    <div class=\"bk-root\">\n",
       "        <a href=\"https://bokeh.org\" target=\"_blank\" class=\"bk-logo bk-logo-small bk-logo-notebook\"></a>\n",
       "        <span id=\"1002\">Loading BokehJS ...</span>\n",
       "    </div>"
      ]
     },
     "metadata": {},
     "output_type": "display_data"
    },
    {
     "data": {
      "application/javascript": [
       "\n",
       "(function(root) {\n",
       "  function now() {\n",
       "    return new Date();\n",
       "  }\n",
       "\n",
       "  const force = true;\n",
       "\n",
       "  if (typeof root._bokeh_onload_callbacks === \"undefined\" || force === true) {\n",
       "    root._bokeh_onload_callbacks = [];\n",
       "    root._bokeh_is_loading = undefined;\n",
       "  }\n",
       "\n",
       "  const JS_MIME_TYPE = 'application/javascript';\n",
       "  const HTML_MIME_TYPE = 'text/html';\n",
       "  const EXEC_MIME_TYPE = 'application/vnd.bokehjs_exec.v0+json';\n",
       "  const CLASS_NAME = 'output_bokeh rendered_html';\n",
       "\n",
       "  /**\n",
       "   * Render data to the DOM node\n",
       "   */\n",
       "  function render(props, node) {\n",
       "    const script = document.createElement(\"script\");\n",
       "    node.appendChild(script);\n",
       "  }\n",
       "\n",
       "  /**\n",
       "   * Handle when an output is cleared or removed\n",
       "   */\n",
       "  function handleClearOutput(event, handle) {\n",
       "    const cell = handle.cell;\n",
       "\n",
       "    const id = cell.output_area._bokeh_element_id;\n",
       "    const server_id = cell.output_area._bokeh_server_id;\n",
       "    // Clean up Bokeh references\n",
       "    if (id != null && id in Bokeh.index) {\n",
       "      Bokeh.index[id].model.document.clear();\n",
       "      delete Bokeh.index[id];\n",
       "    }\n",
       "\n",
       "    if (server_id !== undefined) {\n",
       "      // Clean up Bokeh references\n",
       "      const cmd_clean = \"from bokeh.io.state import curstate; print(curstate().uuid_to_server['\" + server_id + \"'].get_sessions()[0].document.roots[0]._id)\";\n",
       "      cell.notebook.kernel.execute(cmd_clean, {\n",
       "        iopub: {\n",
       "          output: function(msg) {\n",
       "            const id = msg.content.text.trim();\n",
       "            if (id in Bokeh.index) {\n",
       "              Bokeh.index[id].model.document.clear();\n",
       "              delete Bokeh.index[id];\n",
       "            }\n",
       "          }\n",
       "        }\n",
       "      });\n",
       "      // Destroy server and session\n",
       "      const cmd_destroy = \"import bokeh.io.notebook as ion; ion.destroy_server('\" + server_id + \"')\";\n",
       "      cell.notebook.kernel.execute(cmd_destroy);\n",
       "    }\n",
       "  }\n",
       "\n",
       "  /**\n",
       "   * Handle when a new output is added\n",
       "   */\n",
       "  function handleAddOutput(event, handle) {\n",
       "    const output_area = handle.output_area;\n",
       "    const output = handle.output;\n",
       "\n",
       "    // limit handleAddOutput to display_data with EXEC_MIME_TYPE content only\n",
       "    if ((output.output_type != \"display_data\") || (!Object.prototype.hasOwnProperty.call(output.data, EXEC_MIME_TYPE))) {\n",
       "      return\n",
       "    }\n",
       "\n",
       "    const toinsert = output_area.element.find(\".\" + CLASS_NAME.split(' ')[0]);\n",
       "\n",
       "    if (output.metadata[EXEC_MIME_TYPE][\"id\"] !== undefined) {\n",
       "      toinsert[toinsert.length - 1].firstChild.textContent = output.data[JS_MIME_TYPE];\n",
       "      // store reference to embed id on output_area\n",
       "      output_area._bokeh_element_id = output.metadata[EXEC_MIME_TYPE][\"id\"];\n",
       "    }\n",
       "    if (output.metadata[EXEC_MIME_TYPE][\"server_id\"] !== undefined) {\n",
       "      const bk_div = document.createElement(\"div\");\n",
       "      bk_div.innerHTML = output.data[HTML_MIME_TYPE];\n",
       "      const script_attrs = bk_div.children[0].attributes;\n",
       "      for (let i = 0; i < script_attrs.length; i++) {\n",
       "        toinsert[toinsert.length - 1].firstChild.setAttribute(script_attrs[i].name, script_attrs[i].value);\n",
       "        toinsert[toinsert.length - 1].firstChild.textContent = bk_div.children[0].textContent\n",
       "      }\n",
       "      // store reference to server id on output_area\n",
       "      output_area._bokeh_server_id = output.metadata[EXEC_MIME_TYPE][\"server_id\"];\n",
       "    }\n",
       "  }\n",
       "\n",
       "  function register_renderer(events, OutputArea) {\n",
       "\n",
       "    function append_mime(data, metadata, element) {\n",
       "      // create a DOM node to render to\n",
       "      const toinsert = this.create_output_subarea(\n",
       "        metadata,\n",
       "        CLASS_NAME,\n",
       "        EXEC_MIME_TYPE\n",
       "      );\n",
       "      this.keyboard_manager.register_events(toinsert);\n",
       "      // Render to node\n",
       "      const props = {data: data, metadata: metadata[EXEC_MIME_TYPE]};\n",
       "      render(props, toinsert[toinsert.length - 1]);\n",
       "      element.append(toinsert);\n",
       "      return toinsert\n",
       "    }\n",
       "\n",
       "    /* Handle when an output is cleared or removed */\n",
       "    events.on('clear_output.CodeCell', handleClearOutput);\n",
       "    events.on('delete.Cell', handleClearOutput);\n",
       "\n",
       "    /* Handle when a new output is added */\n",
       "    events.on('output_added.OutputArea', handleAddOutput);\n",
       "\n",
       "    /**\n",
       "     * Register the mime type and append_mime function with output_area\n",
       "     */\n",
       "    OutputArea.prototype.register_mime_type(EXEC_MIME_TYPE, append_mime, {\n",
       "      /* Is output safe? */\n",
       "      safe: true,\n",
       "      /* Index of renderer in `output_area.display_order` */\n",
       "      index: 0\n",
       "    });\n",
       "  }\n",
       "\n",
       "  // register the mime type if in Jupyter Notebook environment and previously unregistered\n",
       "  if (root.Jupyter !== undefined) {\n",
       "    const events = require('base/js/events');\n",
       "    const OutputArea = require('notebook/js/outputarea').OutputArea;\n",
       "\n",
       "    if (OutputArea.prototype.mime_types().indexOf(EXEC_MIME_TYPE) == -1) {\n",
       "      register_renderer(events, OutputArea);\n",
       "    }\n",
       "  }\n",
       "\n",
       "  \n",
       "  if (typeof (root._bokeh_timeout) === \"undefined\" || force === true) {\n",
       "    root._bokeh_timeout = Date.now() + 5000;\n",
       "    root._bokeh_failed_load = false;\n",
       "  }\n",
       "\n",
       "  const NB_LOAD_WARNING = {'data': {'text/html':\n",
       "     \"<div style='background-color: #fdd'>\\n\"+\n",
       "     \"<p>\\n\"+\n",
       "     \"BokehJS does not appear to have successfully loaded. If loading BokehJS from CDN, this \\n\"+\n",
       "     \"may be due to a slow or bad network connection. Possible fixes:\\n\"+\n",
       "     \"</p>\\n\"+\n",
       "     \"<ul>\\n\"+\n",
       "     \"<li>re-rerun `output_notebook()` to attempt to load from CDN again, or</li>\\n\"+\n",
       "     \"<li>use INLINE resources instead, as so:</li>\\n\"+\n",
       "     \"</ul>\\n\"+\n",
       "     \"<code>\\n\"+\n",
       "     \"from bokeh.resources import INLINE\\n\"+\n",
       "     \"output_notebook(resources=INLINE)\\n\"+\n",
       "     \"</code>\\n\"+\n",
       "     \"</div>\"}};\n",
       "\n",
       "  function display_loaded() {\n",
       "    const el = document.getElementById(\"1002\");\n",
       "    if (el != null) {\n",
       "      el.textContent = \"BokehJS is loading...\";\n",
       "    }\n",
       "    if (root.Bokeh !== undefined) {\n",
       "      if (el != null) {\n",
       "        el.textContent = \"BokehJS \" + root.Bokeh.version + \" successfully loaded.\";\n",
       "      }\n",
       "    } else if (Date.now() < root._bokeh_timeout) {\n",
       "      setTimeout(display_loaded, 100)\n",
       "    }\n",
       "  }\n",
       "\n",
       "\n",
       "  function run_callbacks() {\n",
       "    try {\n",
       "      root._bokeh_onload_callbacks.forEach(function(callback) {\n",
       "        if (callback != null)\n",
       "          callback();\n",
       "      });\n",
       "    } finally {\n",
       "      delete root._bokeh_onload_callbacks\n",
       "    }\n",
       "    console.debug(\"Bokeh: all callbacks have finished\");\n",
       "  }\n",
       "\n",
       "  function load_libs(css_urls, js_urls, callback) {\n",
       "    if (css_urls == null) css_urls = [];\n",
       "    if (js_urls == null) js_urls = [];\n",
       "\n",
       "    root._bokeh_onload_callbacks.push(callback);\n",
       "    if (root._bokeh_is_loading > 0) {\n",
       "      console.debug(\"Bokeh: BokehJS is being loaded, scheduling callback at\", now());\n",
       "      return null;\n",
       "    }\n",
       "    if (js_urls == null || js_urls.length === 0) {\n",
       "      run_callbacks();\n",
       "      return null;\n",
       "    }\n",
       "    console.debug(\"Bokeh: BokehJS not loaded, scheduling load and callback at\", now());\n",
       "    root._bokeh_is_loading = css_urls.length + js_urls.length;\n",
       "\n",
       "    function on_load() {\n",
       "      root._bokeh_is_loading--;\n",
       "      if (root._bokeh_is_loading === 0) {\n",
       "        console.debug(\"Bokeh: all BokehJS libraries/stylesheets loaded\");\n",
       "        run_callbacks()\n",
       "      }\n",
       "    }\n",
       "\n",
       "    function on_error(url) {\n",
       "      console.error(\"failed to load \" + url);\n",
       "    }\n",
       "\n",
       "    for (let i = 0; i < css_urls.length; i++) {\n",
       "      const url = css_urls[i];\n",
       "      const element = document.createElement(\"link\");\n",
       "      element.onload = on_load;\n",
       "      element.onerror = on_error.bind(null, url);\n",
       "      element.rel = \"stylesheet\";\n",
       "      element.type = \"text/css\";\n",
       "      element.href = url;\n",
       "      console.debug(\"Bokeh: injecting link tag for BokehJS stylesheet: \", url);\n",
       "      document.body.appendChild(element);\n",
       "    }\n",
       "\n",
       "    for (let i = 0; i < js_urls.length; i++) {\n",
       "      const url = js_urls[i];\n",
       "      const element = document.createElement('script');\n",
       "      element.onload = on_load;\n",
       "      element.onerror = on_error.bind(null, url);\n",
       "      element.async = false;\n",
       "      element.src = url;\n",
       "      console.debug(\"Bokeh: injecting script tag for BokehJS library: \", url);\n",
       "      document.head.appendChild(element);\n",
       "    }\n",
       "  };\n",
       "\n",
       "  function inject_raw_css(css) {\n",
       "    const element = document.createElement(\"style\");\n",
       "    element.appendChild(document.createTextNode(css));\n",
       "    document.body.appendChild(element);\n",
       "  }\n",
       "\n",
       "  \n",
       "  const js_urls = [\"https://cdn.bokeh.org/bokeh/release/bokeh-2.4.2.min.js\", \"https://cdn.bokeh.org/bokeh/release/bokeh-gl-2.4.2.min.js\", \"https://cdn.bokeh.org/bokeh/release/bokeh-widgets-2.4.2.min.js\", \"https://cdn.bokeh.org/bokeh/release/bokeh-tables-2.4.2.min.js\", \"https://cdn.bokeh.org/bokeh/release/bokeh-mathjax-2.4.2.min.js\"];\n",
       "  const css_urls = [];\n",
       "  \n",
       "\n",
       "  const inline_js = [\n",
       "    function(Bokeh) {\n",
       "      Bokeh.set_log_level(\"info\");\n",
       "    },\n",
       "    function(Bokeh) {\n",
       "    \n",
       "    \n",
       "    }\n",
       "  ];\n",
       "\n",
       "  function run_inline_js() {\n",
       "    \n",
       "    if (root.Bokeh !== undefined || force === true) {\n",
       "      \n",
       "    for (let i = 0; i < inline_js.length; i++) {\n",
       "      inline_js[i].call(root, root.Bokeh);\n",
       "    }\n",
       "    if (force === true) {\n",
       "        display_loaded();\n",
       "      }} else if (Date.now() < root._bokeh_timeout) {\n",
       "      setTimeout(run_inline_js, 100);\n",
       "    } else if (!root._bokeh_failed_load) {\n",
       "      console.log(\"Bokeh: BokehJS failed to load within specified timeout.\");\n",
       "      root._bokeh_failed_load = true;\n",
       "    } else if (force !== true) {\n",
       "      const cell = $(document.getElementById(\"1002\")).parents('.cell').data().cell;\n",
       "      cell.output_area.append_execute_result(NB_LOAD_WARNING)\n",
       "    }\n",
       "\n",
       "  }\n",
       "\n",
       "  if (root._bokeh_is_loading === 0) {\n",
       "    console.debug(\"Bokeh: BokehJS loaded, going straight to plotting\");\n",
       "    run_inline_js();\n",
       "  } else {\n",
       "    load_libs(css_urls, js_urls, function() {\n",
       "      console.debug(\"Bokeh: BokehJS plotting callback run at\", now());\n",
       "      run_inline_js();\n",
       "    });\n",
       "  }\n",
       "}(window));"
      ],
      "application/vnd.bokehjs_load.v0+json": "\n(function(root) {\n  function now() {\n    return new Date();\n  }\n\n  const force = true;\n\n  if (typeof root._bokeh_onload_callbacks === \"undefined\" || force === true) {\n    root._bokeh_onload_callbacks = [];\n    root._bokeh_is_loading = undefined;\n  }\n\n  \n\n  \n  if (typeof (root._bokeh_timeout) === \"undefined\" || force === true) {\n    root._bokeh_timeout = Date.now() + 5000;\n    root._bokeh_failed_load = false;\n  }\n\n  const NB_LOAD_WARNING = {'data': {'text/html':\n     \"<div style='background-color: #fdd'>\\n\"+\n     \"<p>\\n\"+\n     \"BokehJS does not appear to have successfully loaded. If loading BokehJS from CDN, this \\n\"+\n     \"may be due to a slow or bad network connection. Possible fixes:\\n\"+\n     \"</p>\\n\"+\n     \"<ul>\\n\"+\n     \"<li>re-rerun `output_notebook()` to attempt to load from CDN again, or</li>\\n\"+\n     \"<li>use INLINE resources instead, as so:</li>\\n\"+\n     \"</ul>\\n\"+\n     \"<code>\\n\"+\n     \"from bokeh.resources import INLINE\\n\"+\n     \"output_notebook(resources=INLINE)\\n\"+\n     \"</code>\\n\"+\n     \"</div>\"}};\n\n  function display_loaded() {\n    const el = document.getElementById(\"1002\");\n    if (el != null) {\n      el.textContent = \"BokehJS is loading...\";\n    }\n    if (root.Bokeh !== undefined) {\n      if (el != null) {\n        el.textContent = \"BokehJS \" + root.Bokeh.version + \" successfully loaded.\";\n      }\n    } else if (Date.now() < root._bokeh_timeout) {\n      setTimeout(display_loaded, 100)\n    }\n  }\n\n\n  function run_callbacks() {\n    try {\n      root._bokeh_onload_callbacks.forEach(function(callback) {\n        if (callback != null)\n          callback();\n      });\n    } finally {\n      delete root._bokeh_onload_callbacks\n    }\n    console.debug(\"Bokeh: all callbacks have finished\");\n  }\n\n  function load_libs(css_urls, js_urls, callback) {\n    if (css_urls == null) css_urls = [];\n    if (js_urls == null) js_urls = [];\n\n    root._bokeh_onload_callbacks.push(callback);\n    if (root._bokeh_is_loading > 0) {\n      console.debug(\"Bokeh: BokehJS is being loaded, scheduling callback at\", now());\n      return null;\n    }\n    if (js_urls == null || js_urls.length === 0) {\n      run_callbacks();\n      return null;\n    }\n    console.debug(\"Bokeh: BokehJS not loaded, scheduling load and callback at\", now());\n    root._bokeh_is_loading = css_urls.length + js_urls.length;\n\n    function on_load() {\n      root._bokeh_is_loading--;\n      if (root._bokeh_is_loading === 0) {\n        console.debug(\"Bokeh: all BokehJS libraries/stylesheets loaded\");\n        run_callbacks()\n      }\n    }\n\n    function on_error(url) {\n      console.error(\"failed to load \" + url);\n    }\n\n    for (let i = 0; i < css_urls.length; i++) {\n      const url = css_urls[i];\n      const element = document.createElement(\"link\");\n      element.onload = on_load;\n      element.onerror = on_error.bind(null, url);\n      element.rel = \"stylesheet\";\n      element.type = \"text/css\";\n      element.href = url;\n      console.debug(\"Bokeh: injecting link tag for BokehJS stylesheet: \", url);\n      document.body.appendChild(element);\n    }\n\n    for (let i = 0; i < js_urls.length; i++) {\n      const url = js_urls[i];\n      const element = document.createElement('script');\n      element.onload = on_load;\n      element.onerror = on_error.bind(null, url);\n      element.async = false;\n      element.src = url;\n      console.debug(\"Bokeh: injecting script tag for BokehJS library: \", url);\n      document.head.appendChild(element);\n    }\n  };\n\n  function inject_raw_css(css) {\n    const element = document.createElement(\"style\");\n    element.appendChild(document.createTextNode(css));\n    document.body.appendChild(element);\n  }\n\n  \n  const js_urls = [\"https://cdn.bokeh.org/bokeh/release/bokeh-2.4.2.min.js\", \"https://cdn.bokeh.org/bokeh/release/bokeh-gl-2.4.2.min.js\", \"https://cdn.bokeh.org/bokeh/release/bokeh-widgets-2.4.2.min.js\", \"https://cdn.bokeh.org/bokeh/release/bokeh-tables-2.4.2.min.js\", \"https://cdn.bokeh.org/bokeh/release/bokeh-mathjax-2.4.2.min.js\"];\n  const css_urls = [];\n  \n\n  const inline_js = [\n    function(Bokeh) {\n      Bokeh.set_log_level(\"info\");\n    },\n    function(Bokeh) {\n    \n    \n    }\n  ];\n\n  function run_inline_js() {\n    \n    if (root.Bokeh !== undefined || force === true) {\n      \n    for (let i = 0; i < inline_js.length; i++) {\n      inline_js[i].call(root, root.Bokeh);\n    }\n    if (force === true) {\n        display_loaded();\n      }} else if (Date.now() < root._bokeh_timeout) {\n      setTimeout(run_inline_js, 100);\n    } else if (!root._bokeh_failed_load) {\n      console.log(\"Bokeh: BokehJS failed to load within specified timeout.\");\n      root._bokeh_failed_load = true;\n    } else if (force !== true) {\n      const cell = $(document.getElementById(\"1002\")).parents('.cell').data().cell;\n      cell.output_area.append_execute_result(NB_LOAD_WARNING)\n    }\n\n  }\n\n  if (root._bokeh_is_loading === 0) {\n    console.debug(\"Bokeh: BokehJS loaded, going straight to plotting\");\n    run_inline_js();\n  } else {\n    load_libs(css_urls, js_urls, function() {\n      console.debug(\"Bokeh: BokehJS plotting callback run at\", now());\n      run_inline_js();\n    });\n  }\n}(window));"
     },
     "metadata": {},
     "output_type": "display_data"
    }
   ],
   "source": [
    "import json\n",
    "import re\n",
    "import logging\n",
    "import uuid\n",
    "import random\n",
    "\n",
    "from collections import defaultdict\n",
    "\n",
    "import tqdm\n",
    "\n",
    "import numpy as np\n",
    "import pandas as pd\n",
    "\n",
    "from sklearn.manifold import TSNE\n",
    "from imblearn.under_sampling import RandomUnderSampler \n",
    "\n",
    "from flashtext import KeywordProcessor\n",
    "\n",
    "from gensim.parsing.preprocessing import (\n",
    "    preprocess_string, \n",
    "    strip_tags,\n",
    "    strip_punctuation, \n",
    "    strip_multiple_whitespaces, \n",
    "    strip_numeric, \n",
    "    lower_to_unicode,\n",
    "    strip_short,\n",
    "    remove_stopwords,\n",
    ")\n",
    "from gensim.corpora.dictionary import Dictionary\n",
    "from gensim.models import AuthorTopicModel as GensimAuthorTopicModel\n",
    "from gensim.models.phrases import Phrases, ENGLISH_CONNECTOR_WORDS\n",
    "from gensim.models.coherencemodel import CoherenceModel\n",
    "from gensim.test.utils import temporary_file\n",
    "\n",
    "import seaborn as sns\n",
    "\n",
    "from src.corpus import load_documents, load_tweets, load_availability\n",
    "from src.config import config\n",
    "from src.plotting import bokeh as bhp\n",
    "\n",
    "sns.set_theme()\n",
    "bhp.output_notebook()"
   ]
  },
  {
   "cell_type": "code",
   "execution_count": 6,
   "id": "101cdb82-2345-45cf-9690-cf5138fd5039",
   "metadata": {},
   "outputs": [],
   "source": [
    "logging.basicConfig(\n",
    "    format='%(asctime)s:%(levelname)s:%(message)s', \n",
    "    level=logging.WARNING,\n",
    "    handlers=[\n",
    "        logging.StreamHandler(),\n",
    "    ]\n",
    ")"
   ]
  },
  {
   "cell_type": "code",
   "execution_count": 8,
   "id": "6275463f-cedb-44b0-bd47-cb0009f62e0c",
   "metadata": {},
   "outputs": [
    {
     "name": "stderr",
     "output_type": "stream",
     "text": [
      "Loading Documents: 100%|██████████████████████████████████████████████████████████████████████████████████████████████████████████| 880682/880682 [01:31<00:00, 9586.76it/s]\n"
     ]
    }
   ],
   "source": [
    "docs = []\n",
    "for doc in load_documents(verbose=True):\n",
    "    if len(doc.tokens) > 5:\n",
    "        docs.append(doc)"
   ]
  },
  {
   "cell_type": "code",
   "execution_count": 19,
   "id": "9448be79-28c1-4347-b59a-ce4d4f67dc92",
   "metadata": {},
   "outputs": [
    {
     "name": "stdout",
     "output_type": "stream",
     "text": [
      "% docs with keywords: 0.1394387481855762\n",
      "----------------------------------------\n",
      "Keyword Based Label Statistics\n",
      "----------------------------------------\n",
      "solution            \t  4029\n",
      "description         \t  8935\n",
      "causes              \t 10513\n",
      "analysis            \t 35313\n",
      "problem             \t 43240\n",
      "other               \t576854\n"
     ]
    }
   ],
   "source": [
    "docs_with_kw = list(filter(lambda d: d.has_keyword, docs))\n",
    "\n",
    "print('% docs with keywords: {}'.format(len(docs_with_kw)/len(docs)))\n",
    "\n",
    "keyword_doc_count = defaultdict(lambda: 0)\n",
    "\n",
    "keyword_doc_count['other'] = len(docs) - len(docs_with_kw)\n",
    "\n",
    "for doc in docs_with_kw:\n",
    "    for kw in set(doc.keywords):\n",
    "        keyword_doc_count[kw] += 1\n",
    "\n",
    "print('--' * 20 + '\\nKeyword Based Label Statistics\\n' + '--' * 20)\n",
    "print('\\n'.join(map(lambda x: '{:<20s}\\t{:>6d}'.format(*x), sorted(keyword_doc_count.items(), key=lambda x: x[1]))))"
   ]
  },
  {
   "cell_type": "code",
   "execution_count": 172,
   "id": "15b076eb-3d3d-4599-a30d-73dcbbe348df",
   "metadata": {},
   "outputs": [
    {
     "name": "stderr",
     "output_type": "stream",
     "text": [
      "Extracting Unique Documents: 100%|██████████████████████████████████████████████████████████████████████████████████████████████| 670323/670323 [00:01<00:00, 467716.67it/s]\n"
     ]
    },
    {
     "name": "stdout",
     "output_type": "stream",
     "text": [
      "77623 duplicates removed from a total of 670323 documents.\n"
     ]
    },
    {
     "name": "stderr",
     "output_type": "stream",
     "text": [
      "Selecting Documents: 100%|███████████████████████████████████████████████████████████████████████████████████████████████████████| 87675/87675 [00:00<00:00, 1708959.45it/s]\n"
     ]
    }
   ],
   "source": [
    "unique_docs = []\n",
    "observed_set = set()\n",
    "for doc in tqdm.tqdm(docs, desc='Extracting Unique Documents'):\n",
    "    doc_tokens = tuple(sorted(doc.tokens))\n",
    "    if doc_tokens not in observed_set:\n",
    "        unique_docs.append(doc)\n",
    "        observed_set.add(doc_tokens)\n",
    "\n",
    "print('{} duplicates removed from a total of {} documents.'.format(len(docs)-len(unique_docs), len(docs)))\n",
    "\n",
    "labels = set()\n",
    "for i, doc in enumerate(unique_docs):\n",
    "    labels.update(doc.keywords)\n",
    "labels = list(labels) + ['other']\n",
    "label2id = dict(zip(labels, range(len(labels))))\n",
    "\n",
    "rus = RandomUnderSampler(sampling_strategy='majority', random_state=42)\n",
    "\n",
    "X, y = [], []\n",
    "    \n",
    "for i, doc in enumerate(unique_docs):\n",
    "    X.append([i])\n",
    "    y_doc = [0 for _ in range(len(label2id))]\n",
    "    label = 'other'\n",
    "    if len(doc.keywords) > 0:\n",
    "        label = random.choice(doc.keywords)\n",
    "    y_doc[label2id[label]] = 1\n",
    "    y.append(y_doc)\n",
    "\n",
    "X = np.array(X)\n",
    "y = np.array(y)\n",
    "\n",
    "X_res, y_res = rus.fit_resample(X, y)\n",
    "\n",
    "docs_sample = [unique_docs[x[0]] for x in tqdm.tqdm(X_res, desc='Selecting Documents')]"
   ]
  },
  {
   "cell_type": "code",
   "execution_count": 173,
   "id": "46e5ecc9-fdb9-4dea-9e1d-99fc03b188bb",
   "metadata": {},
   "outputs": [
    {
     "data": {
      "text/plain": [
       "(array([0, 1]), array([438375,  87675]))"
      ]
     },
     "execution_count": 173,
     "metadata": {},
     "output_type": "execute_result"
    }
   ],
   "source": [
    "np.unique(y_res, return_counts=True)"
   ]
  },
  {
   "cell_type": "code",
   "execution_count": 174,
   "id": "3d3d3c77-8645-425d-a38c-9f0edfa2531f",
   "metadata": {},
   "outputs": [
    {
     "name": "stdout",
     "output_type": "stream",
     "text": [
      "% docs with keywords: 0.9626347305389221\n",
      "----------------------------------------\n",
      "Keyword Based Label Statistics\n",
      "----------------------------------------\n",
      "other               \t  3276\n",
      "solution            \t  3824\n",
      "description         \t  8362\n",
      "causes              \t 10111\n",
      "analysis            \t 28727\n",
      "problem             \t 41672\n"
     ]
    }
   ],
   "source": [
    "docs_with_kw = list(filter(lambda d: d.has_keyword, docs_sample))\n",
    "\n",
    "print('% docs with keywords: {}'.format(len(docs_with_kw)/len(docs_sample)))\n",
    "\n",
    "keyword_doc_count = defaultdict(lambda: 0)\n",
    "\n",
    "keyword_doc_count['other'] = len(docs_sample) - len(docs_with_kw)\n",
    "\n",
    "for doc in docs_with_kw:\n",
    "    for kw in set(doc.keywords):\n",
    "        keyword_doc_count[kw] += 1\n",
    "\n",
    "print('--' * 20 + '\\nKeyword Based Label Statistics\\n' + '--' * 20)\n",
    "print('\\n'.join(map(lambda x: '{:<20s}\\t{:>6d}'.format(*x), sorted(keyword_doc_count.items(), key=lambda x: x[1]))))"
   ]
  },
  {
   "cell_type": "code",
   "execution_count": 178,
   "id": "64877074-e642-45ab-b089-8acaee0fbeee",
   "metadata": {},
   "outputs": [
    {
     "data": {
      "text/plain": [
       "<AxesSubplot:ylabel='Count'>"
      ]
     },
     "execution_count": 178,
     "metadata": {},
     "output_type": "execute_result"
    },
    {
     "data": {
      "image/png": "[encoded data removed]",
      "text/plain": [
       "<Figure size 432x288 with 1 Axes>"
      ]
     },
     "metadata": {},
     "output_type": "display_data"
    }
   ],
   "source": [
    "fig_data = [len(x) for _, x in author2doc.items()]\n",
    "\n",
    "sns.histplot(fig_data)"
   ]
  },
  {
   "cell_type": "code",
   "execution_count": 183,
   "id": "9daae715-6684-4385-a3f5-5a07e87d72c3",
   "metadata": {
    "tags": []
   },
   "outputs": [
    {
     "name": "stderr",
     "output_type": "stream",
     "text": [
      "Training the Model (Trial 1/13, Topics 6, Epoch 1): 100%|████████████████████████████████████████████████████████████████████████████| 87675/87675 [01:55<00:00, 759.38it/s]\n",
      "Training the Model (Trial 1/13, Topics 6, Epoch 2): 100%|████████████████████████████████████████████████████████████████████████████| 87675/87675 [01:46<00:00, 826.69it/s]\n",
      "Training the Model (Trial 1/13, Topics 6, Epoch 3): 100%|████████████████████████████████████████████████████████████████████████████| 87675/87675 [01:41<00:00, 862.35it/s]\n",
      "Training the Model (Trial 1/13, Topics 6, Epoch 4): 100%|████████████████████████████████████████████████████████████████████████████| 87675/87675 [01:41<00:00, 861.20it/s]\n",
      "Training the Model (Trial 1/13, Topics 6, Epoch 5): 100%|████████████████████████████████████████████████████████████████████████████| 87675/87675 [01:41<00:00, 862.41it/s]\n",
      "Training the Model (Trial 2/13, Topics 7, Epoch 1): 100%|████████████████████████████████████████████████████████████████████████████| 87675/87675 [01:43<00:00, 849.00it/s]\n",
      "Training the Model (Trial 2/13, Topics 7, Epoch 2): 100%|████████████████████████████████████████████████████████████████████████████| 87675/87675 [01:40<00:00, 868.48it/s]\n",
      "Training the Model (Trial 2/13, Topics 7, Epoch 3): 100%|████████████████████████████████████████████████████████████████████████████| 87675/87675 [01:42<00:00, 853.30it/s]\n",
      "Training the Model (Trial 2/13, Topics 7, Epoch 4): 100%|████████████████████████████████████████████████████████████████████████████| 87675/87675 [01:39<00:00, 882.81it/s]\n",
      "Training the Model (Trial 2/13, Topics 7, Epoch 5): 100%|████████████████████████████████████████████████████████████████████████████| 87675/87675 [01:37<00:00, 894.80it/s]\n",
      "Training the Model (Trial 3/13, Topics 8, Epoch 1): 100%|████████████████████████████████████████████████████████████████████████████| 87675/87675 [01:38<00:00, 886.62it/s]\n",
      "Training the Model (Trial 3/13, Topics 8, Epoch 2): 100%|████████████████████████████████████████████████████████████████████████████| 87675/87675 [01:37<00:00, 897.38it/s]\n",
      "Training the Model (Trial 3/13, Topics 8, Epoch 3): 100%|████████████████████████████████████████████████████████████████████████████| 87675/87675 [01:37<00:00, 899.04it/s]\n",
      "Training the Model (Trial 3/13, Topics 8, Epoch 4): 100%|████████████████████████████████████████████████████████████████████████████| 87675/87675 [01:36<00:00, 904.88it/s]\n",
      "Training the Model (Trial 3/13, Topics 8, Epoch 5): 100%|████████████████████████████████████████████████████████████████████████████| 87675/87675 [01:37<00:00, 896.30it/s]\n",
      "Training the Model (Trial 4/13, Topics 9, Epoch 1): 100%|████████████████████████████████████████████████████████████████████████████| 87675/87675 [01:38<00:00, 889.48it/s]\n",
      "Training the Model (Trial 4/13, Topics 9, Epoch 2): 100%|████████████████████████████████████████████████████████████████████████████| 87675/87675 [01:36<00:00, 911.94it/s]\n",
      "Training the Model (Trial 4/13, Topics 9, Epoch 3): 100%|████████████████████████████████████████████████████████████████████████████| 87675/87675 [01:36<00:00, 905.37it/s]\n",
      "Training the Model (Trial 4/13, Topics 9, Epoch 4): 100%|████████████████████████████████████████████████████████████████████████████| 87675/87675 [01:37<00:00, 897.78it/s]\n",
      "Training the Model (Trial 4/13, Topics 9, Epoch 5): 100%|████████████████████████████████████████████████████████████████████████████| 87675/87675 [01:38<00:00, 890.44it/s]\n",
      "Training the Model (Trial 5/13, Topics 10, Epoch 1): 100%|███████████████████████████████████████████████████████████████████████████| 87675/87675 [01:46<00:00, 826.80it/s]\n",
      "Training the Model (Trial 5/13, Topics 10, Epoch 2): 100%|███████████████████████████████████████████████████████████████████████████| 87675/87675 [01:45<00:00, 829.29it/s]\n",
      "Training the Model (Trial 5/13, Topics 10, Epoch 3): 100%|███████████████████████████████████████████████████████████████████████████| 87675/87675 [01:47<00:00, 818.43it/s]\n",
      "Training the Model (Trial 5/13, Topics 10, Epoch 4): 100%|███████████████████████████████████████████████████████████████████████████| 87675/87675 [01:58<00:00, 738.97it/s]\n",
      "Training the Model (Trial 5/13, Topics 10, Epoch 5): 100%|███████████████████████████████████████████████████████████████████████████| 87675/87675 [01:53<00:00, 774.29it/s]\n",
      "Training the Model (Trial 6/13, Topics 15, Epoch 1): 100%|███████████████████████████████████████████████████████████████████████████| 87675/87675 [01:39<00:00, 881.60it/s]\n",
      "Training the Model (Trial 6/13, Topics 15, Epoch 2): 100%|███████████████████████████████████████████████████████████████████████████| 87675/87675 [01:47<00:00, 814.07it/s]\n",
      "Training the Model (Trial 6/13, Topics 15, Epoch 3): 100%|███████████████████████████████████████████████████████████████████████████| 87675/87675 [01:49<00:00, 800.76it/s]\n",
      "Training the Model (Trial 6/13, Topics 15, Epoch 4): 100%|███████████████████████████████████████████████████████████████████████████| 87675/87675 [01:51<00:00, 789.51it/s]\n",
      "Training the Model (Trial 6/13, Topics 15, Epoch 5): 100%|███████████████████████████████████████████████████████████████████████████| 87675/87675 [01:49<00:00, 802.02it/s]\n",
      "Training the Model (Trial 7/13, Topics 20, Epoch 1): 100%|███████████████████████████████████████████████████████████████████████████| 87675/87675 [01:50<00:00, 795.71it/s]\n",
      "Training the Model (Trial 7/13, Topics 20, Epoch 2): 100%|███████████████████████████████████████████████████████████████████████████| 87675/87675 [01:46<00:00, 820.88it/s]\n",
      "Training the Model (Trial 7/13, Topics 20, Epoch 3): 100%|███████████████████████████████████████████████████████████████████████████| 87675/87675 [01:38<00:00, 890.59it/s]\n",
      "Training the Model (Trial 7/13, Topics 20, Epoch 4): 100%|███████████████████████████████████████████████████████████████████████████| 87675/87675 [01:37<00:00, 894.67it/s]\n",
      "Training the Model (Trial 7/13, Topics 20, Epoch 5): 100%|███████████████████████████████████████████████████████████████████████████| 87675/87675 [01:38<00:00, 889.46it/s]\n",
      "Training the Model (Trial 8/13, Topics 25, Epoch 1): 100%|███████████████████████████████████████████████████████████████████████████| 87675/87675 [01:40<00:00, 872.94it/s]\n",
      "Training the Model (Trial 8/13, Topics 25, Epoch 2): 100%|███████████████████████████████████████████████████████████████████████████| 87675/87675 [01:37<00:00, 897.34it/s]\n",
      "Training the Model (Trial 8/13, Topics 25, Epoch 3): 100%|███████████████████████████████████████████████████████████████████████████| 87675/87675 [01:38<00:00, 888.96it/s]\n",
      "Training the Model (Trial 8/13, Topics 25, Epoch 4): 100%|███████████████████████████████████████████████████████████████████████████| 87675/87675 [01:39<00:00, 879.36it/s]\n",
      "Training the Model (Trial 8/13, Topics 25, Epoch 5): 100%|███████████████████████████████████████████████████████████████████████████| 87675/87675 [01:52<00:00, 776.42it/s]\n",
      "Training the Model (Trial 9/13, Topics 30, Epoch 1): 100%|███████████████████████████████████████████████████████████████████████████| 87675/87675 [01:48<00:00, 805.63it/s]\n",
      "Training the Model (Trial 9/13, Topics 30, Epoch 2): 100%|███████████████████████████████████████████████████████████████████████████| 87675/87675 [01:46<00:00, 822.92it/s]\n",
      "Training the Model (Trial 9/13, Topics 30, Epoch 3): 100%|███████████████████████████████████████████████████████████████████████████| 87675/87675 [01:47<00:00, 812.67it/s]\n",
      "Training the Model (Trial 9/13, Topics 30, Epoch 4): 100%|███████████████████████████████████████████████████████████████████████████| 87675/87675 [01:47<00:00, 817.07it/s]\n",
      "Training the Model (Trial 9/13, Topics 30, Epoch 5): 100%|███████████████████████████████████████████████████████████████████████████| 87675/87675 [02:15<00:00, 645.78it/s]\n",
      "Training the Model (Trial 10/13, Topics 35, Epoch 1): 100%|██████████████████████████████████████████████████████████████████████████| 87675/87675 [01:53<00:00, 770.65it/s]\n",
      "Training the Model (Trial 10/13, Topics 35, Epoch 2): 100%|██████████████████████████████████████████████████████████████████████████| 87675/87675 [01:50<00:00, 791.00it/s]\n",
      "Training the Model (Trial 10/13, Topics 35, Epoch 3): 100%|██████████████████████████████████████████████████████████████████████████| 87675/87675 [01:51<00:00, 783.89it/s]\n",
      "Training the Model (Trial 10/13, Topics 35, Epoch 4): 100%|██████████████████████████████████████████████████████████████████████████| 87675/87675 [01:51<00:00, 786.04it/s]\n",
      "Training the Model (Trial 10/13, Topics 35, Epoch 5): 100%|██████████████████████████████████████████████████████████████████████████| 87675/87675 [01:51<00:00, 787.79it/s]\n",
      "Training the Model (Trial 11/13, Topics 40, Epoch 1): 100%|██████████████████████████████████████████████████████████████████████████| 87675/87675 [01:53<00:00, 775.22it/s]\n",
      "Training the Model (Trial 11/13, Topics 40, Epoch 2): 100%|██████████████████████████████████████████████████████████████████████████| 87675/87675 [01:45<00:00, 830.01it/s]\n",
      "Training the Model (Trial 11/13, Topics 40, Epoch 3): 100%|██████████████████████████████████████████████████████████████████████████| 87675/87675 [01:41<00:00, 863.82it/s]\n",
      "Training the Model (Trial 11/13, Topics 40, Epoch 4): 100%|██████████████████████████████████████████████████████████████████████████| 87675/87675 [01:43<00:00, 850.74it/s]\n",
      "Training the Model (Trial 11/13, Topics 40, Epoch 5): 100%|██████████████████████████████████████████████████████████████████████████| 87675/87675 [01:42<00:00, 857.79it/s]\n",
      "Training the Model (Trial 12/13, Topics 45, Epoch 1): 100%|██████████████████████████████████████████████████████████████████████████| 87675/87675 [01:45<00:00, 828.92it/s]\n",
      "Training the Model (Trial 12/13, Topics 45, Epoch 2): 100%|██████████████████████████████████████████████████████████████████████████| 87675/87675 [01:42<00:00, 857.09it/s]\n",
      "Training the Model (Trial 12/13, Topics 45, Epoch 3): 100%|██████████████████████████████████████████████████████████████████████████| 87675/87675 [01:43<00:00, 846.23it/s]\n",
      "Training the Model (Trial 12/13, Topics 45, Epoch 4): 100%|██████████████████████████████████████████████████████████████████████████| 87675/87675 [01:46<00:00, 825.46it/s]\n",
      "Training the Model (Trial 12/13, Topics 45, Epoch 5): 100%|██████████████████████████████████████████████████████████████████████████| 87675/87675 [01:42<00:00, 857.09it/s]\n",
      "Training the Model (Trial 13/13, Topics 50, Epoch 1): 100%|██████████████████████████████████████████████████████████████████████████| 87675/87675 [01:43<00:00, 846.69it/s]\n",
      "Training the Model (Trial 13/13, Topics 50, Epoch 2): 100%|██████████████████████████████████████████████████████████████████████████| 87675/87675 [01:40<00:00, 872.41it/s]\n",
      "Training the Model (Trial 13/13, Topics 50, Epoch 3): 100%|██████████████████████████████████████████████████████████████████████████| 87675/87675 [01:41<00:00, 866.71it/s]\n",
      "Training the Model (Trial 13/13, Topics 50, Epoch 4): 100%|██████████████████████████████████████████████████████████████████████████| 87675/87675 [01:40<00:00, 868.44it/s]\n",
      "Training the Model (Trial 13/13, Topics 50, Epoch 5): 100%|██████████████████████████████████████████████████████████████████████████| 87675/87675 [01:41<00:00, 860.76it/s]\n"
     ]
    }
   ],
   "source": [
    "# parameters of model\n",
    "min_num_topics = len(keywords) + 1\n",
    "num_topics_range = list(range(min_num_topics, 11)) + list(range(15, 51, 5))\n",
    "num_epochs = 5\n",
    "iterations = 10\n",
    "chunksize = 2000\n",
    "\n",
    "def progress_desc(trial, num_trials, num_topics, epoch):\n",
    "    return 'Training the Model (Trial {}/{}, Topics {}, Epoch {})'.format(\n",
    "        trial, num_trials, num_topics, epoch\n",
    "    )\n",
    "\n",
    "num_trials = len(num_topics_range)\n",
    "for trial, num_topics in enumerate(num_topics_range):\n",
    "    epoch = 1\n",
    "    eta = create_eta(keywords, dictionary, num_topics, len(corpus) // 100, normalize=True)\n",
    "    with temporary_file('serialized') as s_path:\n",
    "        model = GensimAuthorTopicModel(\n",
    "            tqdm.tqdm(corpus, desc=progress_desc(trial+1, num_trials, num_topics, epoch)),\n",
    "            author2doc=author2doc, \n",
    "            passes=1,\n",
    "            iterations=iterations,\n",
    "            id2word=dictionary, \n",
    "            num_topics=num_topics,\n",
    "            eta=eta,\n",
    "            serialized=True, \n",
    "            serialization_path=s_path,\n",
    "            eval_every=None,)\n",
    "        model.save(get_topic_model_path(num_topics=num_topics, epoch=epoch))\n",
    "        epoch += 1\n",
    "        while epoch <= num_epochs:\n",
    "            model.update(\n",
    "                tqdm.tqdm(corpus, desc=progress_desc(trial+1, num_trials, num_topics, epoch)),\n",
    "                author2doc=author2doc\n",
    "            )\n",
    "            model.save(get_topic_model_path(num_topics=num_topics, epoch=epoch))\n",
    "            epoch += 1"
   ]
  },
  {
   "cell_type": "code",
   "execution_count": 187,
   "id": "4a22dc89-f581-4b81-8d29-96cb652a65a6",
   "metadata": {},
   "outputs": [],
   "source": [
    "history = []\n",
    "\n",
    "for trial, num_topics in tqdm.tqdm(enumerate(num_topics_range), desc='Loading Snapshots'):\n",
    "    for epoch in range(1, num_epochs+1):\n",
    "        local_topic_model_path = get_topic_model_path(num_topics=num_topics, epoch=epoch)\n",
    "        local_topic_model = GensimAuthorTopicModel.load(local_topic_model_path)\n",
    "        history.append(dict(\n",
    "            num_topics=num_topics,\n",
    "            epoch=epoch,\n",
    "            model=local_topic_model,\n",
    "        ))"
   ]
  },
  {
   "cell_type": "code",
   "execution_count": 188,
   "id": "ba518b5b-bd25-408f-a853-29fcce370822",
   "metadata": {},
   "outputs": [
    {
     "name": "stderr",
     "output_type": "stream",
     "text": [
      "Evaluating Snapshots: 100%|█████████████████████████████████████████████████████████████████████████████████████████████████████████████████| 65/65 [08:35<00:00,  7.93s/it]\n"
     ]
    }
   ],
   "source": [
    "scores = []\n",
    "\n",
    "for history_item in tqdm.tqdm(history, desc='Evaluating Snapshots'):\n",
    "    local_topic_model = history_item['model']\n",
    "    u_mass = CoherenceModel(model=local_topic_model, corpus=corpus, coherence='u_mass')\n",
    "    c_v = CoherenceModel(model=local_topic_model, texts=tokenized_docs, coherence='c_v')\n",
    "    scores.append(dict(\n",
    "        num_topics=history_item['num_topics'],\n",
    "        epoch=history_item['epoch'],\n",
    "        u_mass=u_mass.get_coherence(), \n",
    "        c_v=c_v.get_coherence()\n",
    "    ))"
   ]
  },
  {
   "cell_type": "code",
   "execution_count": 189,
   "id": "ef6144bb-513c-4d2b-97c2-195c53388da8",
   "metadata": {},
   "outputs": [
    {
     "data": {
      "text/html": [
       "<div>\n",
       "<style scoped>\n",
       "    .dataframe tbody tr th:only-of-type {\n",
       "        vertical-align: middle;\n",
       "    }\n",
       "\n",
       "    .dataframe tbody tr th {\n",
       "        vertical-align: top;\n",
       "    }\n",
       "\n",
       "    .dataframe thead th {\n",
       "        text-align: right;\n",
       "    }\n",
       "</style>\n",
       "<table border=\"1\" class=\"dataframe\">\n",
       "  <thead>\n",
       "    <tr style=\"text-align: right;\">\n",
       "      <th></th>\n",
       "      <th>num_topics</th>\n",
       "      <th>epoch</th>\n",
       "      <th>u_mass</th>\n",
       "      <th>c_v</th>\n",
       "    </tr>\n",
       "  </thead>\n",
       "  <tbody>\n",
       "    <tr>\n",
       "      <th>0</th>\n",
       "      <td>6</td>\n",
       "      <td>1</td>\n",
       "      <td>-4.879681</td>\n",
       "      <td>0.385370</td>\n",
       "    </tr>\n",
       "    <tr>\n",
       "      <th>1</th>\n",
       "      <td>6</td>\n",
       "      <td>2</td>\n",
       "      <td>-4.670272</td>\n",
       "      <td>0.386020</td>\n",
       "    </tr>\n",
       "    <tr>\n",
       "      <th>2</th>\n",
       "      <td>6</td>\n",
       "      <td>3</td>\n",
       "      <td>-4.738684</td>\n",
       "      <td>0.392793</td>\n",
       "    </tr>\n",
       "    <tr>\n",
       "      <th>3</th>\n",
       "      <td>6</td>\n",
       "      <td>4</td>\n",
       "      <td>-4.455181</td>\n",
       "      <td>0.411942</td>\n",
       "    </tr>\n",
       "    <tr>\n",
       "      <th>4</th>\n",
       "      <td>6</td>\n",
       "      <td>5</td>\n",
       "      <td>-4.690960</td>\n",
       "      <td>0.419779</td>\n",
       "    </tr>\n",
       "    <tr>\n",
       "      <th>...</th>\n",
       "      <td>...</td>\n",
       "      <td>...</td>\n",
       "      <td>...</td>\n",
       "      <td>...</td>\n",
       "    </tr>\n",
       "    <tr>\n",
       "      <th>60</th>\n",
       "      <td>50</td>\n",
       "      <td>1</td>\n",
       "      <td>-4.965308</td>\n",
       "      <td>0.426507</td>\n",
       "    </tr>\n",
       "    <tr>\n",
       "      <th>61</th>\n",
       "      <td>50</td>\n",
       "      <td>2</td>\n",
       "      <td>-4.721515</td>\n",
       "      <td>0.439731</td>\n",
       "    </tr>\n",
       "    <tr>\n",
       "      <th>62</th>\n",
       "      <td>50</td>\n",
       "      <td>3</td>\n",
       "      <td>-4.746412</td>\n",
       "      <td>0.435768</td>\n",
       "    </tr>\n",
       "    <tr>\n",
       "      <th>63</th>\n",
       "      <td>50</td>\n",
       "      <td>4</td>\n",
       "      <td>-4.679986</td>\n",
       "      <td>0.438431</td>\n",
       "    </tr>\n",
       "    <tr>\n",
       "      <th>64</th>\n",
       "      <td>50</td>\n",
       "      <td>5</td>\n",
       "      <td>-4.645532</td>\n",
       "      <td>0.438780</td>\n",
       "    </tr>\n",
       "  </tbody>\n",
       "</table>\n",
       "<p>65 rows × 4 columns</p>\n",
       "</div>"
      ],
      "text/plain": [
       "    num_topics  epoch    u_mass       c_v\n",
       "0            6      1 -4.879681  0.385370\n",
       "1            6      2 -4.670272  0.386020\n",
       "2            6      3 -4.738684  0.392793\n",
       "3            6      4 -4.455181  0.411942\n",
       "4            6      5 -4.690960  0.419779\n",
       "..         ...    ...       ...       ...\n",
       "60          50      1 -4.965308  0.426507\n",
       "61          50      2 -4.721515  0.439731\n",
       "62          50      3 -4.746412  0.435768\n",
       "63          50      4 -4.679986  0.438431\n",
       "64          50      5 -4.645532  0.438780\n",
       "\n",
       "[65 rows x 4 columns]"
      ]
     },
     "execution_count": 189,
     "metadata": {},
     "output_type": "execute_result"
    }
   ],
   "source": [
    "pd.DataFrame(scores)"
   ]
  },
  {
   "cell_type": "code",
   "execution_count": 194,
   "id": "89d504e5-daa7-4bf4-8dcd-2fc8def497ea",
   "metadata": {},
   "outputs": [
    {
     "data": {
      "text/plain": [
       "<seaborn.axisgrid.FacetGrid at 0x7fd0ef2822b0>"
      ]
     },
     "execution_count": 194,
     "metadata": {},
     "output_type": "execute_result"
    },
    {
     "data": {
      "image/png": "[encoded data removed]",
      "text/plain": [
       "<Figure size 360x360 with 1 Axes>"
      ]
     },
     "metadata": {},
     "output_type": "display_data"
    },
    {
     "data": {
      "image/png": "[encoded data removed]",
      "text/plain": [
       "<Figure size 360x360 with 1 Axes>"
      ]
     },
     "metadata": {},
     "output_type": "display_data"
    },
    {
     "data": {
      "image/png": "[encoded data removed]",
      "text/plain": [
       "<Figure size 360x360 with 1 Axes>"
      ]
     },
     "metadata": {},
     "output_type": "display_data"
    },
    {
     "data": {
      "image/png": "[encoded data removed]",
      "text/plain": [
       "<Figure size 360x360 with 1 Axes>"
      ]
     },
     "metadata": {},
     "output_type": "display_data"
    }
   ],
   "source": [
    "fig_data_1 = []\n",
    "fig_data_2 = []\n",
    "fig_data_3 = []\n",
    "fig_data_4 = []\n",
    "\n",
    "for i, row in enumerate(scores):\n",
    "    fig_data_1.append({'Variable': 'Epoch', 'Value': row['epoch'], 'Scorer': 'u_mass', \n",
    "                     'Coherence': row['u_mass']})\n",
    "    fig_data_2.append({'Variable': 'Epoch', 'Value': row['epoch'], 'Scorer': 'c_v', \n",
    "                     'Coherence': row['c_v']})\n",
    "    fig_data_3.append({'Variable': 'Num Topics', 'Value': row['num_topics'], 'Scorer': 'u_mass', \n",
    "                     'Coherence': row['u_mass']})\n",
    "    fig_data_4.append({'Variable': 'Num Topics', 'Value': row['num_topics'], 'Scorer': 'c_v', \n",
    "                     'Coherence': row['c_v']})\n",
    "\n",
    "sns.lmplot(x='Value', y='Coherence', row='Scorer', col='Variable', data=pd.DataFrame(fig_data_1))\n",
    "sns.lmplot(x='Value', y='Coherence', row='Scorer', col='Variable', data=pd.DataFrame(fig_data_2))\n",
    "sns.lmplot(x='Value', y='Coherence', row='Scorer', col='Variable', data=pd.DataFrame(fig_data_3))\n",
    "sns.lmplot(x='Value', y='Coherence', row='Scorer', col='Variable', data=pd.DataFrame(fig_data_4))"
   ]
  },
  {
   "cell_type": "code",
   "execution_count": 197,
   "id": "b66b49a5-aec0-475e-bf65-31f20b5fb66a",
   "metadata": {},
   "outputs": [],
   "source": [
    "model = GensimAuthorTopicModel.load(get_topic_model_path(num_topics=9, epoch=5))"
   ]
  },
  {
   "cell_type": "code",
   "execution_count": 198,
   "id": "69c681ad-ac38-45fa-89e6-a72b8d01a8bc",
   "metadata": {},
   "outputs": [],
   "source": [
    "author_vecs = []\n",
    "\n",
    "for author in model.id2author.values():\n",
    "    author_topics = model.get_author_topics(author)\n",
    "    author_vecs.append(author_topics)"
   ]
  },
  {
   "cell_type": "code",
   "execution_count": 199,
   "id": "489c7ad6-694f-4dac-8f03-3be71a6b43fa",
   "metadata": {},
   "outputs": [
    {
     "name": "stdout",
     "output_type": "stream",
     "text": [
      "00 tropical_storm                0.087\n",
      "00 tropical                      0.042\n",
      "00 forecast                      0.041\n",
      "00 #SpectrumNews1KY_#kywx        0.040\n",
      "00 hurricane                     0.037\n",
      "00 storm                         0.033\n",
      "00 heat_index                    0.023\n",
      "00 #kywx                         0.019\n",
      "00 #mowx                         0.014\n",
      "00 #SpectrumNews1KY              0.012\n",
      "01 science                       0.024\n",
      "01 renewable_energy              0.023\n",
      "01 amp                           0.019\n",
      "01 solar                         0.018\n",
      "01 new                           0.017\n",
      "01 energy                        0.016\n",
      "01 goes                          0.012\n",
      "01 oil_gas                       0.011\n",
      "01 says                          0.010\n",
      "01 gas                           0.010\n",
      "02 today                         0.033\n",
      "02 good_morning                  0.027\n",
      "02 morning                       0.026\n",
      "02 forecast_today                0.025\n",
      "02 forecast                      0.017\n",
      "02 day                           0.017\n",
      "02 rain                          0.016\n",
      "02 weekend                       0.015\n",
      "02 week                          0.014\n",
      "02 recycling                     0.012\n",
      "03 santa_cruz                    0.062\n",
      "03 santa                         0.057\n",
      "03 air_quality                   0.033\n",
      "03 amp                           0.029\n",
      "03 heat_wave                     0.019\n",
      "03 heat                          0.017\n",
      "03 high                          0.017\n",
      "03 high_temperatures             0.016\n",
      "03 record                        0.015\n",
      "03 excessive_heat                0.014\n",
      "04 severe_weather                0.040\n",
      "04 severe                        0.025\n",
      "04 weather                       0.025\n",
      "04 storms                        0.024\n",
      "04 heavy_rain                    0.021\n",
      "04 severe_storms                 0.019\n",
      "04 risk                          0.015\n",
      "04 storm                         0.013\n",
      "04 afternoon                     0.012\n",
      "04 afternoon_evening             0.012\n",
      "05 forecast                      0.076\n",
      "05 weekend_forecast              0.020\n",
      "05 snow                          0.018\n",
      "05 weather                       0.017\n",
      "05 morning                       0.017\n",
      "05 rain                          0.016\n",
      "05 day                           0.015\n",
      "05 today                         0.014\n",
      "05 goes                          0.012\n",
      "05 weekend                       0.012\n",
      "06 latest_forecast               0.057\n",
      "06 forecast                      0.050\n",
      "06 day_forecast                  0.044\n",
      "06 partly_cloudy                 0.023\n",
      "06 rain                          0.021\n",
      "06 showers                       0.021\n",
      "06 rain_chances                  0.019\n",
      "06 day                           0.019\n",
      "06 scattered_showers             0.017\n",
      "06 showers_storms                0.015\n",
      "07 climate_change                0.133\n",
      "07 climate                       0.065\n",
      "07 clean_energy                  0.053\n",
      "07 epa                           0.041\n",
      "07 change                        0.034\n",
      "07 trump_administration          0.024\n",
      "07 trump                         0.022\n",
      "07 fossil_fuel                   0.021\n",
      "07 white_house                   0.017\n",
      "07 fossil_fuels                  0.016\n",
      "08 climate_science               0.108\n",
      "08 extreme_weather               0.064\n",
      "08 southern_minnesota            0.064\n",
      "08 satellite                     0.041\n",
      "08 noaa                          0.036\n",
      "08 climate                       0.035\n",
      "08 latest                        0.034\n",
      "08 science                       0.028\n",
      "08 latest_climate_media_daily    0.028\n",
      "08 covid                         0.027\n"
     ]
    }
   ],
   "source": [
    "# Train the model on the corpus.\n",
    "for topic_id in range(model.num_topics):\n",
    "    for term_id, p in model.get_topic_terms(topic_id):\n",
    "        print('{:>02} {:<30s}{:0.3f}'.format(topic_id, dictionary[term_id], p))"
   ]
  },
  {
   "cell_type": "code",
   "execution_count": 200,
   "id": "b5a75016-5790-4bc3-a8ab-30999536a8e2",
   "metadata": {},
   "outputs": [
    {
     "name": "stderr",
     "output_type": "stream",
     "text": [
      "100%|███████████████████████████████████████████████████████████████████████████████████████████████████████████████████████████████| 87675/87675 [00:30<00:00, 2914.81it/s]\n"
     ]
    }
   ],
   "source": [
    "tropic_proba = []\n",
    "\n",
    "for i in tqdm.tqdm(range(len(docs_sample))):\n",
    "    tropic_proba.append(list(zip(*model.get_new_author_topics(corpus[i:i+1])))[1])\n",
    "    \n",
    "tropic_proba = np.array(tropic_proba)"
   ]
  },
  {
   "cell_type": "code",
   "execution_count": 201,
   "id": "41b7657a-eb4a-4af4-bf2f-fd52e6fd7ff7",
   "metadata": {},
   "outputs": [
    {
     "data": {
      "text/plain": [
       "{0: 3902,\n",
       " 1: 25103,\n",
       " 2: 9422,\n",
       " 3: 7053,\n",
       " 4: 7567,\n",
       " 5: 12000,\n",
       " 6: 6176,\n",
       " 7: 14386,\n",
       " 8: 2066}"
      ]
     },
     "execution_count": 201,
     "metadata": {},
     "output_type": "execute_result"
    }
   ],
   "source": [
    "dict(zip(*np.unique(tropic_proba.argmax(axis=1), return_counts=True)))"
   ]
  },
  {
   "cell_type": "code",
   "execution_count": 202,
   "id": "b095c1cd-f68f-44be-ad68-2169fa419ca7",
   "metadata": {},
   "outputs": [
    {
     "data": {
      "text/plain": [
       "<seaborn.axisgrid.FacetGrid at 0x7fd0ef9e6f40>"
      ]
     },
     "execution_count": 202,
     "metadata": {},
     "output_type": "execute_result"
    },
    {
     "data": {
      "image/png": "[encoded data removed]",
      "text/plain": [
       "<Figure size 405.85x360 with 1 Axes>"
      ]
     },
     "metadata": {},
     "output_type": "display_data"
    }
   ],
   "source": [
    "fig_data = [{'Topic': i, 'Probability': p} for i in range(tropic_proba.shape[1]) for p in tropic_proba[:, i]]\n",
    "\n",
    "fig_df = pd.DataFrame(fig_data)\n",
    "\n",
    "sns.displot(fig_df, x='Probability', hue='Topic')"
   ]
  },
  {
   "cell_type": "code",
   "execution_count": 203,
   "id": "95043684-87ec-499c-9cd8-72c75ab87be0",
   "metadata": {},
   "outputs": [
    {
     "name": "stderr",
     "output_type": "stream",
     "text": [
      "/Users/yasas/Documents/Projects/climate-matters/evo-lyzer/venv/lib/python3.9/site-packages/sklearn/manifold/_t_sne.py:780: FutureWarning: The default initialization in TSNE will change from 'random' to 'pca' in 1.2.\n",
      "  warnings.warn(\n",
      "/Users/yasas/Documents/Projects/climate-matters/evo-lyzer/venv/lib/python3.9/site-packages/sklearn/manifold/_t_sne.py:790: FutureWarning: The default learning rate in TSNE will change from 200.0 to 'auto' in 1.2.\n",
      "  warnings.warn(\n"
     ]
    },
    {
     "data": {
      "text/html": [
       "\n",
       "\n",
       "\n",
       "\n",
       "\n",
       "\n",
       "  <div class=\"bk-root\" id=\"cdcb0b38-0a53-4f84-8e3c-0543fabfbee1\" data-root-id=\"1247\"></div>\n"
      ]
     },
     "metadata": {},
     "output_type": "display_data"
    },
    {
     "data": {
      "application/javascript": [
       "(function(root) {\n",
       "  function embed_document(root) {\n",
       "    \n",
       "  const docs_json = {\"bfa09d02-aa92-4f30-b270-9fc28fabffe8\":{\"defs\":[],\"roots\":{\"references\":[{\"attributes\":{\"below\":[{\"id\":\"1256\"}],\"center\":[{\"id\":\"1259\"},{\"id\":\"1263\"}],\"left\":[{\"id\":\"1260\"}],\"renderers\":[{\"id\":\"1286\"}],\"title\":{\"id\":\"1312\"},\"toolbar\":{\"id\":\"1273\"},\"x_range\":{\"id\":\"1248\"},\"x_scale\":{\"id\":\"1252\"},\"y_range\":{\"id\":\"1250\"},\"y_scale\":{\"id\":\"1254\"}},\"id\":\"1247\",\"subtype\":\"Figure\",\"type\":\"Plot\"},{\"attributes\":{\"fill_alpha\":{\"value\":0.6},\"fill_color\":{\"value\":\"#1f77b4\"},\"line_color\":{\"value\":null},\"radius\":{\"field\":\"radii\"},\"x\":{\"field\":\"x\"},\"y\":{\"field\":\"y\"}},\"id\":\"1283\",\"type\":\"Circle\"},{\"attributes\":{},\"id\":\"1268\",\"type\":\"ResetTool\"},{\"attributes\":{},\"id\":\"1269\",\"type\":\"SaveTool\"},{\"attributes\":{},\"id\":\"1320\",\"type\":\"UnionRenderers\"},{\"attributes\":{},\"id\":\"1264\",\"type\":\"CrosshairTool\"},{\"attributes\":{\"data\":{\"author_names\":[25482339,1222894409,2067040562,3720444843,3773619596,4283195733,5077960503,5211943686,5298865585,8181421982,8469785428,9021665388,11600828524,14288994745,15076591651,17831365842,20888345921,22047346062,26915907691,27812566503,28010402588,28113162765,29803283479,29873798713,31440306850,32020862149,32021680287,33782054196,36101665690,36924601486,42010795449,42953377850,43417996965,45656773630,48942643655,49348323537,50856559347,53695046258,55495533613,58731631548,59359103433,59700402076,60503910255,61764244642,62875642822,63047092263,63456287412,64255985408,65216116977,66361684177,67247195145,68221810963,70636305410,70640411348,71172099125,72039129096,73210887971,74857762826,75314380505,78508246182,79073378404,79744156524,80064358702,80576782589,80751311751,80801939835,81825882119,84497786642,84708334009,85489020588,86012595401,86508433278,86633149777,90383047171,92056124715,96515460289,97200038371,101791496718,106943823481,110094770452,110994452684,111230704167,116913523709,119399232790,121462401527,122963019162,123010203081,129365961728,130885356010,131331860964,131399646721,132307686965,133528792052,134352566779,139081685715,139182750051,139720044272,141973742679,142204300325,143376693747,146042830222,147438068189,147848755537,150808087517,158317840527,159546328760,161989898448,162457992223,163356564031,164380335607,164801020202,166220835897,166825673340,169522794757,170821149620,173278673384,173545227497,173711695943,174044943977,179662911651,180917800519,181554059877,181655895822,185876234873,187064419501,188298074464,188395979165,188504240384,190494512960,191286983177,191747351493,191802426618,191815915328,197837745830,200027304143,202552118103,206077469743,206440968899,208321413871,209461049200,209516144958,210840370631,211558418385,212385452652,213885321117,216425783253,217952919316,219322307048,219452827689,219506727599,219879461566,221414095286,222839667064,225312024203,228067108034,228614041487,228762942454,229839574687,230178815703,230447880977,230760478463,234912682854,235010966526,237599350980,241145194151,242271865829,242688620661,244157388732,245506087667,250060071867,250636891491,251665526502,253286549475,254348889044,255774169611,256738643740,258338094555,259230569828,265900432892,269357082963,270730133118,271174502081,271397242552,271516604149,274056190185,275169106000,278738650869,282733376849,283263871744,284945924495,285801785976,285845284227,286257815192,286416333904,288623481850,289774598073,290528278953,290630899824,292186700199,292545658012,293034529817,294119105823,294392965714,295417067292,297683500609,300845025609,302074897751,302468857799,303937744676,305318666789,305619809397,307511008849,307928134786,308679752231,309566409597,309753155677,311902913725,312069828865,313738078183,314113671042,315253932704,315536292819,319384539550,319573738747,320960972903,321140755122,324085267046,324175855414,324853331839,327014685379,327119591414,328533722779,329154061700,329990621190,330994720961,331139801310,331683947969,334957368218,335021198364,335633557385,337093388781,342984085100,344498792022,345473011405,346515427773,351878824790,352691528521,353297223476,355658492984,356594844967,356946843537,360262442372,361027373981,362165737928,368873857262,371191762958,371495347643,373052523709,373066638355,373417016652,374391714999,379344362866,379386808649,379480768622,379549073831,380171766598,381587117469,381588251949,383125968555,387244590977,389102256768,389345640760,389437954984,397536170172,400557155342,400705970434,401464061841,402344345757,403797250566,408335507559,408488193729,410626482949,412219236929,413648782947,416655675423,420364245893,422414057167,423065853333,424690961594,425034450148,427101000865,430140584767,431184075995,433141305410,434603131244,435233602339,435475498080,437662462719,437951749430,441952070295,442245166140,442832982262,442907164643,444951772506,445031150852,445628244913,447004118059,447848022766,449940133613,451996371262,453209110450,454508395458,454712626081,457093381675,457506312917,459981290816,463003394561,465096832892,465314561105,466706474823,469318008799,471139321509,471216074306,472772987355,474014783652,476197905457,478084728175,478142160898,481501710726,482021273961,482705665153,482719029462,483392510862,483587401500,483816805533,485823211750,486228710894,489282807389,489413343086,490410276648,490568479939,491239161359,492020266329,493985898767,494772598649,494935816302,496694171026,497240726097,502885202634,503465768651,503973180775,504588064590,504677017009,505579936014,506113341736,506895588709,509106348216,511859790440,512148860820,513485510800,514213594257,514590066177,515774235012,518814882041,520344076395,521069228388,522016458786,523718413464,524658752079,525271721727,526952244986,527198786099,529898349690,530579542844,530678833808,530777296940,531135384741,533339441995,534638789291,535329792026,537200537079,539205550513,543163422885,543524806241,543672996923,543972706566,544552122552,546175811221,547994074817,548389327216,549638248824,552057403326,555778240223,557784427648,559918469501,561538296908,563521595812,566099034777,566984261776,570071234529,572503760439,572969560081,574954129135,578944964444,580368553552,582492879621,585532676663,585622305339,587529379217,589944296802,591079241590,593330497122,593695666790,594037502181,596278253914,601392821218,602823481335,603640559525,603675616511,603850535241,604164729361,604189252023,604355394088,605019378067,607686558489,608228868794,610692565240,611170452249,613066591296,613165138002,614456655804,614874379369,617366536219,618288737347,619060044628,623795928350,623867003409,626097870201,626223350706,627716716333,630136079480,630544833063,631631532822,631874907957,633702418257,634323218770,635054737056,635907451094,637346151207,640115612646,642433230293,645763607968,646919846666,647743163559,648094989341,649434400501,650505572457,651004762176,651104092832,652724419796,654230028912,655180694456,655903273353,656088702344,657412286068,660115730435,660352088553,660753179046,661660239914,664576921175,667079673281,671414898127,672348272021,673662895220,673949557472,677500689288,681439837846,685573884834,685666718518,686480568569,688797049931,690031562779,690874123449,690896329705,692179676882,693345757155,694893500220,695075253285,695093382143,696621124190,699175546480,699773477394,702221218689,702264797846,703969901545,705266283641,705473843341,710176474315,713108018638,713983553222,716436260818,718217319572,718578123981,721318301846,722603126172,722722437910,725328380499,727051563568,727810570509,729915429528,731118597256,733160990046,735339677546,735449733628,736465021083,738222277858,738765334969,739438022352,740988362608,742784626742,743887575369,746585004553,746638813159,747893495246,748150430065,748897394723,760530002369,763861690459,764207657105,765755287733,766028951215,766217769328,767690119946,768298220134,769122528899,774509269410,775818608133,776108579652,786103848364,789623717722,789995828131,791725157555,792523237205,792527757256,794220914716,795266565190,796530801089,797126787493,797365510649,800338737664,801361063878,803107983571,803174112986,805661396191,805749811821,806600947975,806858702801,808069483153,809708235499,811696665480,811980583237,815531975305,818577767473,818613512998,820072481883,820688433504,821518241720,823062366040,824685619717,826586873086,826723517211,827595942287,827999867700,837083795941,838269266106,839219351737,841314053218,842102956298,843315006398,845085953346,847134797633,850882780886,851987240729,857481161985,858653042613,858986435953,859511032020,859634179640,860278867028,861728940617,869443924749,871047178442,871940755190,872315638675,874004064312,874438011135,875154991403,875238485853,876380304668,876460299413,876506333531,877907287109,878930462355,880274581847,881031939984,882216123566,885389663345,885566840371,886000219175,887869807005,888785645780,889925933446,889991292889,892228528930,894361280059,894719043428,894762930342,895680288498,898407548546,898769351513,901175154402,901221416738,901924546960,902485524265,903600511465,906256139847,908223270461,908897894384,909135771741,910646495528,912930658702,915775786551,919118385075,920295290279,920503683640,920912058159,922905349494,924958704560,926027749549,926588606935,927125610493,928342408155,928897420426,929435651387,929740041671,930383789031,931317041172,933487707133,935644349248,935916635428,936178939593,936858289997,941339028840,944104860980,947263568766,950244204834,951328857082,952511960812,953174290311,955295110992,955650787218,956299919838,957057244317,960493739245,962325220473,962389255060,962521156372,964175608862,965118610758,965743762769,967375700032,967888412042,969167286052,969455777471,970663581662,971984238773,977768007568,978046540160,978527663527,978631704143,979084224836,979499560569,979525437789,980568611541,982451000407,985790498207,986020633075,988737986418,992367011132,992607943744,995000158725,995056174367,996408181177,996502578417,996689029145,998969697194,999446896333,1000555822120,1001136615248,1002186398404,1003207113442,1004150438534,1004400405496,1005546351866,1005564091073,1005695800413,1007600356197,1011839519280,1012058194762,1013461321635,1014682085815,1016140413523,1018892280747,1019301275819,1021022130873,1024219381896,1025358359967,1025896604842,1026808293035,1027689414460,1028541877985,1028626103215,1029178791056,1030162609280,1030413182993,1033114839980,1033334048886,1033965247326,1036202246141,1037553672200,1039522983105,1040545767082,1040773998654,1042658275995,1043054288221,1043954545134,1044193470659,1044843969046,1046250010901,1049065998091,1049854902803,1049902192587,1050046996590,1050802048083,1053854768620,1053999387162,1057952541281,1058460841520,1061652375524,1064337840703,1065198908555,1065582022752,1065656120898,1066344918226,1067577554714,1068017733135,1068462873770,1068987254607,1069197429789,1071053864793,1071407602042,1071503214623,1072127660106,1074825551556,1074970885941,1075186418001,1075324323881,1078925929520,1079946844911,1080049882515,1081989942200,1084511065922,1085275403245,1087373546159,1087374492888,1087954195310,1091039969424,1094292779868,1095230417138,1095576763404,1095753832720,1097201923167,1098098613861,1098881129152],\"author_sizes\":[95,95,1130,480,245,2380,1170,450,425,700,420,325,65,810,775,225,3465,955,730,20,395,150,385,5,95,360,5,185,3035,610,260,300,5,1305,90,55,890,640,675,10,725,5040,15,25,225,855,730,105,45,1010,410,175,160,460,730,630,10,740,800,680,620,380,20,1605,410,870,700,220,565,1195,210,960,380,510,620,1425,50,1465,955,1450,185,265,25,185,105,20,575,700,4165,1005,920,80,95,545,270,400,1260,210,290,1485,290,105,95,320,435,155,35,1135,5,605,875,770,740,1495,420,1275,45,90,180,505,280,1720,315,135,510,555,230,455,495,275,790,215,785,25,710,745,570,180,825,30,845,160,740,140,5,15,975,365,910,615,205,2275,860,285,5,700,135,5,1060,1375,170,245,135,820,140,705,660,640,180,345,210,475,90,590,530,70,645,1850,235,20,2315,1165,135,75,3955,250,1010,450,75,145,340,670,5,275,20,15,345,75,1040,465,585,1135,990,615,505,415,120,1170,10,1660,20,215,255,355,1435,235,1250,270,35,215,315,1890,205,1300,775,800,405,115,270,225,430,930,20,1585,960,175,35,770,440,445,30,95,10,400,355,155,820,365,155,910,945,880,235,660,190,220,750,2265,510,105,2630,40,50,175,285,90,490,330,440,880,430,1180,705,210,15,1015,60,235,440,20,2690,280,210,1440,1045,895,200,30,1035,385,300,350,35,450,80,505,70,10,75,60,860,310,160,145,120,335,1075,35,10,680,50,1420,980,5,375,1760,575,905,135,95,65,120,130,560,1385,45,45,245,1865,5,15,315,5,230,180,180,40,730,135,890,995,270,105,185,895,1355,1175,785,120,500,145,25,560,320,1530,2840,65,5,120,10,440,25,590,455,30,275,120,675,325,1945,965,705,900,70,25,2840,935,5,275,20,215,2520,985,215,925,885,1955,470,560,220,55,580,315,295,540,205,2490,1055,210,50,580,495,480,820,340,20,700,870,30,710,185,215,30,160,145,1940,1195,105,1895,70,100,825,340,945,1350,435,1415,45,470,445,130,905,15,330,105,210,2795,190,620,280,115,10,215,1360,375,825,810,115,3025,165,485,1080,555,55,10,320,135,815,280,260,455,715,20,120,200,100,1070,360,100,30,715,305,1875,3005,605,35,415,1780,360,340,85,110,585,20,25,695,545,430,210,1235,90,105,450,1175,15,260,70,295,1390,5,535,10,565,5,120,270,975,345,180,1745,375,110,925,45,375,190,1465,605,375,140,40,270,640,190,960,385,670,70,185,55,20,90,155,145,10,50,435,1520,710,170,10,25,155,1185,910,1450,480,395,350,990,10,1485,440,840,380,365,10,615,50,150,60,495,1500,350,2365,495,215,1805,755,920,55,125,185,280,60,280,150,750,20,785,645,280,15,180,2270,405,110,1695,215,720,1510,775,675,70,445,160,3920,230,520,300,90,390,200,470,200,575,600,495,140,915,320,390,875,15,900,15,1960,265,535,350,325,370,140,640,245,20,170,175,25,4045,525,260,1260,380,30,645,60,355,245,50,1110,1045,400,20,420,165,230,40,870,100,260,1880,390,55,50,40,130,710,130,260,690,30,2190,20,25,2500,105,630,995,335,580,215,125,400,1970,1150,1805,5,70,70,4750,55,5,5,85,610,85,125,5,10,685,705,1795,695,85,40,15,350,3925,1365,75,15,35,130,2240,485,545,30,270,490,175,1370,240,970,820,720,795,460,10,230,1375,780,15,310,205,5,140,805,50,250,1125,220,400,120,300,900,5,25,780,1785,195,440,25,1265,455,150,20,240,1620,255,10,520,2325,225,20,30,30,80,2105,145,5,465,245,755,280,210,35,335,100,1430,1325,930,235,630,90,1390,340,205,1110,2590,15,1875,1350,605],\"radii\":[9.5,9.5,113.0,48.0,24.5,238.0,117.0,45.0,42.5,70.0,42.0,32.5,6.5,81.0,77.5,22.5,346.5,95.5,73.0,2.0,39.5,15.0,38.5,0.5,9.5,36.0,0.5,18.5,303.5,61.0,26.0,30.0,0.5,130.5,9.0,5.5,89.0,64.0,67.5,1.0,72.5,504.0,1.5,2.5,22.5,85.5,73.0,10.5,4.5,101.0,41.0,17.5,16.0,46.0,73.0,63.0,1.0,74.0,80.0,68.0,62.0,38.0,2.0,160.5,41.0,87.0,70.0,22.0,56.5,119.5,21.0,96.0,38.0,51.0,62.0,142.5,5.0,146.5,95.5,145.0,18.5,26.5,2.5,18.5,10.5,2.0,57.5,70.0,416.5,100.5,92.0,8.0,9.5,54.5,27.0,40.0,126.0,21.0,29.0,148.5,29.0,10.5,9.5,32.0,43.5,15.5,3.5,113.5,0.5,60.5,87.5,77.0,74.0,149.5,42.0,127.5,4.5,9.0,18.0,50.5,28.0,172.0,31.5,13.5,51.0,55.5,23.0,45.5,49.5,27.5,79.0,21.5,78.5,2.5,71.0,74.5,57.0,18.0,82.5,3.0,84.5,16.0,74.0,14.0,0.5,1.5,97.5,36.5,91.0,61.5,20.5,227.5,86.0,28.5,0.5,70.0,13.5,0.5,106.0,137.5,17.0,24.5,13.5,82.0,14.0,70.5,66.0,64.0,18.0,34.5,21.0,47.5,9.0,59.0,53.0,7.0,64.5,185.0,23.5,2.0,231.5,116.5,13.5,7.5,395.5,25.0,101.0,45.0,7.5,14.5,34.0,67.0,0.5,27.5,2.0,1.5,34.5,7.5,104.0,46.5,58.5,113.5,99.0,61.5,50.5,41.5,12.0,117.0,1.0,166.0,2.0,21.5,25.5,35.5,143.5,23.5,125.0,27.0,3.5,21.5,31.5,189.0,20.5,130.0,77.5,80.0,40.5,11.5,27.0,22.5,43.0,93.0,2.0,158.5,96.0,17.5,3.5,77.0,44.0,44.5,3.0,9.5,1.0,40.0,35.5,15.5,82.0,36.5,15.5,91.0,94.5,88.0,23.5,66.0,19.0,22.0,75.0,226.5,51.0,10.5,263.0,4.0,5.0,17.5,28.5,9.0,49.0,33.0,44.0,88.0,43.0,118.0,70.5,21.0,1.5,101.5,6.0,23.5,44.0,2.0,269.0,28.0,21.0,144.0,104.5,89.5,20.0,3.0,103.5,38.5,30.0,35.0,3.5,45.0,8.0,50.5,7.0,1.0,7.5,6.0,86.0,31.0,16.0,14.5,12.0,33.5,107.5,3.5,1.0,68.0,5.0,142.0,98.0,0.5,37.5,176.0,57.5,90.5,13.5,9.5,6.5,12.0,13.0,56.0,138.5,4.5,4.5,24.5,186.5,0.5,1.5,31.5,0.5,23.0,18.0,18.0,4.0,73.0,13.5,89.0,99.5,27.0,10.5,18.5,89.5,135.5,117.5,78.5,12.0,50.0,14.5,2.5,56.0,32.0,153.0,284.0,6.5,0.5,12.0,1.0,44.0,2.5,59.0,45.5,3.0,27.5,12.0,67.5,32.5,194.5,96.5,70.5,90.0,7.0,2.5,284.0,93.5,0.5,27.5,2.0,21.5,252.0,98.5,21.5,92.5,88.5,195.5,47.0,56.0,22.0,5.5,58.0,31.5,29.5,54.0,20.5,249.0,105.5,21.0,5.0,58.0,49.5,48.0,82.0,34.0,2.0,70.0,87.0,3.0,71.0,18.5,21.5,3.0,16.0,14.5,194.0,119.5,10.5,189.5,7.0,10.0,82.5,34.0,94.5,135.0,43.5,141.5,4.5,47.0,44.5,13.0,90.5,1.5,33.0,10.5,21.0,279.5,19.0,62.0,28.0,11.5,1.0,21.5,136.0,37.5,82.5,81.0,11.5,302.5,16.5,48.5,108.0,55.5,5.5,1.0,32.0,13.5,81.5,28.0,26.0,45.5,71.5,2.0,12.0,20.0,10.0,107.0,36.0,10.0,3.0,71.5,30.5,187.5,300.5,60.5,3.5,41.5,178.0,36.0,34.0,8.5,11.0,58.5,2.0,2.5,69.5,54.5,43.0,21.0,123.5,9.0,10.5,45.0,117.5,1.5,26.0,7.0,29.5,139.0,0.5,53.5,1.0,56.5,0.5,12.0,27.0,97.5,34.5,18.0,174.5,37.5,11.0,92.5,4.5,37.5,19.0,146.5,60.5,37.5,14.0,4.0,27.0,64.0,19.0,96.0,38.5,67.0,7.0,18.5,5.5,2.0,9.0,15.5,14.5,1.0,5.0,43.5,152.0,71.0,17.0,1.0,2.5,15.5,118.5,91.0,145.0,48.0,39.5,35.0,99.0,1.0,148.5,44.0,84.0,38.0,36.5,1.0,61.5,5.0,15.0,6.0,49.5,150.0,35.0,236.5,49.5,21.5,180.5,75.5,92.0,5.5,12.5,18.5,28.0,6.0,28.0,15.0,75.0,2.0,78.5,64.5,28.0,1.5,18.0,227.0,40.5,11.0,169.5,21.5,72.0,151.0,77.5,67.5,7.0,44.5,16.0,392.0,23.0,52.0,30.0,9.0,39.0,20.0,47.0,20.0,57.5,60.0,49.5,14.0,91.5,32.0,39.0,87.5,1.5,90.0,1.5,196.0,26.5,53.5,35.0,32.5,37.0,14.0,64.0,24.5,2.0,17.0,17.5,2.5,404.5,52.5,26.0,126.0,38.0,3.0,64.5,6.0,35.5,24.5,5.0,111.0,104.5,40.0,2.0,42.0,16.5,23.0,4.0,87.0,10.0,26.0,188.0,39.0,5.5,5.0,4.0,13.0,71.0,13.0,26.0,69.0,3.0,219.0,2.0,2.5,250.0,10.5,63.0,99.5,33.5,58.0,21.5,12.5,40.0,197.0,115.0,180.5,0.5,7.0,7.0,475.0,5.5,0.5,0.5,8.5,61.0,8.5,12.5,0.5,1.0,68.5,70.5,179.5,69.5,8.5,4.0,1.5,35.0,392.5,136.5,7.5,1.5,3.5,13.0,224.0,48.5,54.5,3.0,27.0,49.0,17.5,137.0,24.0,97.0,82.0,72.0,79.5,46.0,1.0,23.0,137.5,78.0,1.5,31.0,20.5,0.5,14.0,80.5,5.0,25.0,112.5,22.0,40.0,12.0,30.0,90.0,0.5,2.5,78.0,178.5,19.5,44.0,2.5,126.5,45.5,15.0,2.0,24.0,162.0,25.5,1.0,52.0,232.5,22.5,2.0,3.0,3.0,8.0,210.5,14.5,0.5,46.5,24.5,75.5,28.0,21.0,3.5,33.5,10.0,143.0,132.5,93.0,23.5,63.0,9.0,139.0,34.0,20.5,111.0,259.0,1.5,187.5,135.0,60.5],\"x\":{\"__ndarray__\":\"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\",\"dtype\":\"float32\",\"order\":\"little\",\"shape\":[784]},\"y\":{\"__ndarray__\":\"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\",\"dtype\":\"float32\",\"order\":\"little\",\"shape\":[784]}},\"selected\":{\"id\":\"1321\"},\"selection_policy\":{\"id\":\"1320\"}},\"id\":\"1245\",\"type\":\"ColumnDataSource\"},{\"attributes\":{\"overlay\":{\"id\":\"1271\"}},\"id\":\"1267\",\"type\":\"BoxZoomTool\"},{\"attributes\":{\"overlay\":{\"id\":\"1272\"}},\"id\":\"1270\",\"type\":\"LassoSelectTool\"},{\"attributes\":{},\"id\":\"1315\",\"type\":\"BasicTickFormatter\"},{\"attributes\":{\"fill_alpha\":{\"value\":0.2},\"fill_color\":{\"value\":\"#1f77b4\"},\"hatch_alpha\":{\"value\":0.2},\"line_alpha\":{\"value\":0.2},\"line_color\":{\"value\":null},\"radius\":{\"field\":\"radii\"},\"x\":{\"field\":\"x\"},\"y\":{\"field\":\"y\"}},\"id\":\"1285\",\"type\":\"Circle\"},{\"attributes\":{},\"id\":\"1321\",\"type\":\"Selection\"},{\"attributes\":{},\"id\":\"1248\",\"type\":\"DataRange1d\"},{\"attributes\":{},\"id\":\"1252\",\"type\":\"LinearScale\"},{\"attributes\":{\"coordinates\":null,\"group\":null},\"id\":\"1312\",\"type\":\"Title\"},{\"attributes\":{},\"id\":\"1261\",\"type\":\"BasicTicker\"},{\"attributes\":{\"axis\":{\"id\":\"1260\"},\"coordinates\":null,\"dimension\":1,\"group\":null,\"ticker\":null},\"id\":\"1263\",\"type\":\"Grid\"},{\"attributes\":{\"coordinates\":null,\"formatter\":{\"id\":\"1315\"},\"group\":null,\"major_label_policy\":{\"id\":\"1316\"},\"ticker\":{\"id\":\"1261\"}},\"id\":\"1260\",\"type\":\"LinearAxis\"},{\"attributes\":{},\"id\":\"1319\",\"type\":\"AllLabels\"},{\"attributes\":{\"bottom_units\":\"screen\",\"coordinates\":null,\"fill_alpha\":0.5,\"fill_color\":\"lightgrey\",\"group\":null,\"left_units\":\"screen\",\"level\":\"overlay\",\"line_alpha\":1.0,\"line_color\":\"black\",\"line_dash\":[4,4],\"line_width\":2,\"right_units\":\"screen\",\"syncable\":false,\"top_units\":\"screen\"},\"id\":\"1271\",\"type\":\"BoxAnnotation\"},{\"attributes\":{\"coordinates\":null,\"formatter\":{\"id\":\"1318\"},\"group\":null,\"major_label_policy\":{\"id\":\"1319\"},\"ticker\":{\"id\":\"1257\"}},\"id\":\"1256\",\"type\":\"LinearAxis\"},{\"attributes\":{\"tools\":[{\"id\":\"1246\"},{\"id\":\"1264\"},{\"id\":\"1265\"},{\"id\":\"1266\"},{\"id\":\"1267\"},{\"id\":\"1268\"},{\"id\":\"1269\"},{\"id\":\"1270\"}]},\"id\":\"1273\",\"type\":\"Toolbar\"},{\"attributes\":{\"callback\":null,\"tooltips\":[[\"author\",\"@author_names\"],[\"size\",\"@author_sizes\"]]},\"id\":\"1246\",\"type\":\"HoverTool\"},{\"attributes\":{\"fill_alpha\":{\"value\":0.1},\"fill_color\":{\"value\":\"#1f77b4\"},\"hatch_alpha\":{\"value\":0.1},\"line_alpha\":{\"value\":0.1},\"line_color\":{\"value\":null},\"radius\":{\"field\":\"radii\"},\"x\":{\"field\":\"x\"},\"y\":{\"field\":\"y\"}},\"id\":\"1284\",\"type\":\"Circle\"},{\"attributes\":{},\"id\":\"1257\",\"type\":\"BasicTicker\"},{\"attributes\":{},\"id\":\"1318\",\"type\":\"BasicTickFormatter\"},{\"attributes\":{},\"id\":\"1250\",\"type\":\"DataRange1d\"},{\"attributes\":{\"coordinates\":null,\"data_source\":{\"id\":\"1245\"},\"glyph\":{\"id\":\"1283\"},\"group\":null,\"hover_glyph\":null,\"muted_glyph\":{\"id\":\"1285\"},\"nonselection_glyph\":{\"id\":\"1284\"},\"view\":{\"id\":\"1287\"}},\"id\":\"1286\",\"type\":\"GlyphRenderer\"},{\"attributes\":{},\"id\":\"1265\",\"type\":\"PanTool\"},{\"attributes\":{\"source\":{\"id\":\"1245\"}},\"id\":\"1287\",\"type\":\"CDSView\"},{\"attributes\":{},\"id\":\"1254\",\"type\":\"LinearScale\"},{\"attributes\":{},\"id\":\"1316\",\"type\":\"AllLabels\"},{\"attributes\":{\"axis\":{\"id\":\"1256\"},\"coordinates\":null,\"group\":null,\"ticker\":null},\"id\":\"1259\",\"type\":\"Grid\"},{\"attributes\":{\"coordinates\":null,\"fill_alpha\":0.5,\"fill_color\":\"lightgrey\",\"group\":null,\"level\":\"overlay\",\"line_alpha\":1.0,\"line_color\":\"black\",\"line_dash\":[4,4],\"line_width\":2,\"syncable\":false,\"xs_units\":\"screen\",\"ys_units\":\"screen\"},\"id\":\"1272\",\"type\":\"PolyAnnotation\"},{\"attributes\":{},\"id\":\"1266\",\"type\":\"WheelZoomTool\"}],\"root_ids\":[\"1247\"]},\"title\":\"Bokeh Application\",\"version\":\"2.4.2\"}};\n",
       "  const render_items = [{\"docid\":\"bfa09d02-aa92-4f30-b270-9fc28fabffe8\",\"root_ids\":[\"1247\"],\"roots\":{\"1247\":\"cdcb0b38-0a53-4f84-8e3c-0543fabfbee1\"}}];\n",
       "  root.Bokeh.embed.embed_items_notebook(docs_json, render_items);\n",
       "\n",
       "  }\n",
       "  if (root.Bokeh !== undefined) {\n",
       "    embed_document(root);\n",
       "  } else {\n",
       "    let attempts = 0;\n",
       "    const timer = setInterval(function(root) {\n",
       "      if (root.Bokeh !== undefined) {\n",
       "        clearInterval(timer);\n",
       "        embed_document(root);\n",
       "      } else {\n",
       "        attempts++;\n",
       "        if (attempts > 100) {\n",
       "          clearInterval(timer);\n",
       "          console.log(\"Bokeh: ERROR: Unable to run BokehJS code because BokehJS library is missing\");\n",
       "        }\n",
       "      }\n",
       "    }, 10, root)\n",
       "  }\n",
       "})(window);"
      ],
      "application/vnd.bokehjs_exec.v0+json": ""
     },
     "metadata": {
      "application/vnd.bokehjs_exec.v0+json": {
       "id": "1247"
      }
     },
     "output_type": "display_data"
    },
    {
     "name": "stdout",
     "output_type": "stream",
     "text": [
      "CPU times: user 9.21 s, sys: 85.5 ms, total: 9.3 s\n",
      "Wall time: 2.53 s\n"
     ]
    }
   ],
   "source": [
    "%%time\n",
    "tsne = TSNE(n_components=2, random_state=0)\n",
    "smallest_author = 0  # Ignore authors with documents less than this.\n",
    "authors = [model.author2id[a] for a in model.author2id.keys() if len(model.author2doc[a]) >= smallest_author]\n",
    "_ = tsne.fit_transform(model.state.gamma[authors, :])  # Result stored in tsne.embedding_\n",
    "\n",
    "x = tsne.embedding_[:, 0]\n",
    "y = tsne.embedding_[:, 1]\n",
    "author_names = [model.id2author[a] for a in authors]\n",
    "\n",
    "# Radius of each point corresponds to the number of documents attributed to that author.\n",
    "scale = 0.1\n",
    "author_sizes = [len(model.author2doc[a]) for a in author_names]\n",
    "radii = [size * scale for size in author_sizes]\n",
    "\n",
    "source = bhp.ColumnDataSource(\n",
    "    data=dict(\n",
    "        x=x,\n",
    "        y=y,\n",
    "        author_names=author_names,\n",
    "        author_sizes=author_sizes,\n",
    "        radii=radii,\n",
    "    )\n",
    ")\n",
    "\n",
    "# Add author names and sizes to mouse-over info.\n",
    "hover = bhp.HoverTool(\n",
    "    tooltips=[\n",
    "        (\"author\", \"@author_names\"),\n",
    "        (\"size\", \"@author_sizes\"),\n",
    "    ]\n",
    ")\n",
    "\n",
    "p = bhp.figure(tools=[hover, 'crosshair,pan,wheel_zoom,box_zoom,reset,save,lasso_select'])\n",
    "p.scatter('x', 'y', radius='radii', source=source, fill_alpha=0.6, line_color=None)\n",
    "bhp.show(p)"
   ]
  },
  {
   "cell_type": "code",
   "execution_count": 204,
   "id": "bbe9f6dc-525e-46c6-bf76-752754a73e21",
   "metadata": {},
   "outputs": [],
   "source": [
    "topic_docs = defaultdict(list)\n",
    "\n",
    "for idx, topic in enumerate(tropic_proba.argmax(axis=1)):\n",
    "    proba = tropic_proba[idx, topic]\n",
    "    if proba > 1/3:\n",
    "        topic_docs[topic].append(docs_sample[idx])\n",
    "    \n",
    "topic_docs = dict(topic_docs)"
   ]
  },
  {
   "cell_type": "code",
   "execution_count": 205,
   "id": "26fc574d-873c-4794-bc73-bb50cc094638",
   "metadata": {},
   "outputs": [
    {
     "name": "stdout",
     "output_type": "stream",
     "text": [
      "1 13606\n",
      "2 5728\n",
      "3 3645\n",
      "4 5315\n",
      "0 2492\n",
      "6 4581\n",
      "5 6955\n",
      "7 10096\n",
      "8 1030\n"
     ]
    }
   ],
   "source": [
    "for key, value in topic_docs.items():\n",
    "    print(key, len(value))"
   ]
  },
  {
   "cell_type": "code",
   "execution_count": 206,
   "id": "92fe3d8f-6688-4058-b7aa-88e15f0741de",
   "metadata": {},
   "outputs": [],
   "source": [
    "# 0 - Yes, \n",
    "# 1 - may be, heat\n",
    "# 2 - No, Storm\n",
    "# 3 - No, Thunderstorm\n",
    "# 4 - No, Covid-19, General, Politics, Climate Change\n",
    "# 5 - No, General Weather"
   ]
  },
  {
   "cell_type": "code",
   "execution_count": null,
   "id": "1c77b97f-bd08-4088-9947-d3bd0a49fa74",
   "metadata": {},
   "outputs": [],
   "source": []
  }
 ],
 "metadata": {
  "kernelspec": {
   "display_name": "Python 3 (ipykernel)",
   "language": "python",
   "name": "python3"
  },
  "language_info": {
   "codemirror_mode": {
    "name": "ipython",
    "version": 3
   },
   "file_extension": ".py",
   "mimetype": "text/x-python",
   "name": "python",
   "nbconvert_exporter": "python",
   "pygments_lexer": "ipython3",
   "version": "3.9.7"
  }
 },
 "nbformat": 4,
 "nbformat_minor": 5
}
